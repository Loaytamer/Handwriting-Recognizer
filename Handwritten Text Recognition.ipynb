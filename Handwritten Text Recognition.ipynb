{
  "metadata": {
    "kernelspec": {
      "name": "python3",
      "display_name": "Python 3"
    },
    "language_info": {
      "name": "python",
      "version": "3.10.12",
      "mimetype": "text/x-python",
      "codemirror_mode": {
        "name": "ipython",
        "version": 3
      },
      "pygments_lexer": "ipython3",
      "nbconvert_exporter": "python",
      "file_extension": ".py"
    },
    "colab": {
      "provenance": [],
      "gpuType": "T4"
    },
    "accelerator": "GPU",
    "kaggle": {
      "accelerator": "nvidiaTeslaT4",
      "dataSources": [
        {
          "sourceId": 3804174,
          "sourceType": "datasetVersion",
          "datasetId": 2264659
        },
        {
          "sourceId": 10199332,
          "sourceType": "datasetVersion",
          "datasetId": 6302396
        },
        {
          "sourceId": 10200511,
          "sourceType": "datasetVersion",
          "datasetId": 6303218
        },
        {
          "sourceId": 10220708,
          "sourceType": "datasetVersion",
          "datasetId": 6318270
        },
        {
          "sourceId": 10255478,
          "sourceType": "datasetVersion",
          "datasetId": 6343963
        }
      ],
      "dockerImageVersionId": 30823,
      "isInternetEnabled": true,
      "language": "python",
      "sourceType": "notebook",
      "isGpuEnabled": true
    },
    "widgets": {
      "application/vnd.jupyter.widget-state+json": {
        "10f06353c0a14d1db6bf666fe6c84e12": {
          "model_module": "@jupyter-widgets/controls",
          "model_name": "VBoxModel",
          "model_module_version": "1.5.0",
          "state": {
            "_dom_classes": [],
            "_model_module": "@jupyter-widgets/controls",
            "_model_module_version": "1.5.0",
            "_model_name": "VBoxModel",
            "_view_count": null,
            "_view_module": "@jupyter-widgets/controls",
            "_view_module_version": "1.5.0",
            "_view_name": "VBoxView",
            "box_style": "",
            "children": [
              "IPY_MODEL_82dd425cf42848af96e79600a81b6ade"
            ],
            "layout": "IPY_MODEL_58789ef7e03d47368e272c34eb07fd82"
          }
        },
        "8037f2a448114219863e2f687c42432e": {
          "model_module": "@jupyter-widgets/controls",
          "model_name": "HTMLModel",
          "model_module_version": "1.5.0",
          "state": {
            "_dom_classes": [],
            "_model_module": "@jupyter-widgets/controls",
            "_model_module_version": "1.5.0",
            "_model_name": "HTMLModel",
            "_view_count": null,
            "_view_module": "@jupyter-widgets/controls",
            "_view_module_version": "1.5.0",
            "_view_name": "HTMLView",
            "description": "",
            "description_tooltip": null,
            "layout": "IPY_MODEL_19df374a44fb4c0e9c2fc2ac6835de83",
            "placeholder": "​",
            "style": "IPY_MODEL_9800e0a1b76040cb97a9ee50b110f8dd",
            "value": "<center> <img\nsrc=https://www.kaggle.com/static/images/site-logo.png\nalt='Kaggle'> <br> Create an API token from <a\nhref=\"https://www.kaggle.com/settings/account\" target=\"_blank\">your Kaggle\nsettings page</a> and paste it below along with your Kaggle username. <br> </center>"
          }
        },
        "b30549b046bb4cbc8186a380e1823793": {
          "model_module": "@jupyter-widgets/controls",
          "model_name": "TextModel",
          "model_module_version": "1.5.0",
          "state": {
            "_dom_classes": [],
            "_model_module": "@jupyter-widgets/controls",
            "_model_module_version": "1.5.0",
            "_model_name": "TextModel",
            "_view_count": null,
            "_view_module": "@jupyter-widgets/controls",
            "_view_module_version": "1.5.0",
            "_view_name": "TextView",
            "continuous_update": true,
            "description": "Username:",
            "description_tooltip": null,
            "disabled": false,
            "layout": "IPY_MODEL_50225b3560b248ff987ad8b0530376f0",
            "placeholder": "​",
            "style": "IPY_MODEL_bec307d63aa24b748e957bcdd19e9950",
            "value": "loaytamer"
          }
        },
        "46b6ddcaa66c4a0b9d9cba1cdb69a982": {
          "model_module": "@jupyter-widgets/controls",
          "model_name": "PasswordModel",
          "model_module_version": "1.5.0",
          "state": {
            "_dom_classes": [],
            "_model_module": "@jupyter-widgets/controls",
            "_model_module_version": "1.5.0",
            "_model_name": "PasswordModel",
            "_view_count": null,
            "_view_module": "@jupyter-widgets/controls",
            "_view_module_version": "1.5.0",
            "_view_name": "PasswordView",
            "continuous_update": true,
            "description": "Token:",
            "description_tooltip": null,
            "disabled": false,
            "layout": "IPY_MODEL_4d5d3d01a4444398a74fd8afa38ee313",
            "placeholder": "​",
            "style": "IPY_MODEL_a822355a21484a76969a3ae0afdd8654",
            "value": ""
          }
        },
        "105969a3b62e475686b95dc0dc99c806": {
          "model_module": "@jupyter-widgets/controls",
          "model_name": "ButtonModel",
          "model_module_version": "1.5.0",
          "state": {
            "_dom_classes": [],
            "_model_module": "@jupyter-widgets/controls",
            "_model_module_version": "1.5.0",
            "_model_name": "ButtonModel",
            "_view_count": null,
            "_view_module": "@jupyter-widgets/controls",
            "_view_module_version": "1.5.0",
            "_view_name": "ButtonView",
            "button_style": "",
            "description": "Login",
            "disabled": false,
            "icon": "",
            "layout": "IPY_MODEL_35b23bd4efe54f979c021dd3c9dcd14e",
            "style": "IPY_MODEL_7d6eb2f98757465997d7fce0af1c71a2",
            "tooltip": ""
          }
        },
        "e582ef50db4c437390924c59d84ec380": {
          "model_module": "@jupyter-widgets/controls",
          "model_name": "HTMLModel",
          "model_module_version": "1.5.0",
          "state": {
            "_dom_classes": [],
            "_model_module": "@jupyter-widgets/controls",
            "_model_module_version": "1.5.0",
            "_model_name": "HTMLModel",
            "_view_count": null,
            "_view_module": "@jupyter-widgets/controls",
            "_view_module_version": "1.5.0",
            "_view_name": "HTMLView",
            "description": "",
            "description_tooltip": null,
            "layout": "IPY_MODEL_93875e1c27f049e7bedee0d84640e6b0",
            "placeholder": "​",
            "style": "IPY_MODEL_67c1e274f9704e1b98e0741960ffa580",
            "value": "\n<b>Thank You</b></center>"
          }
        },
        "58789ef7e03d47368e272c34eb07fd82": {
          "model_module": "@jupyter-widgets/base",
          "model_name": "LayoutModel",
          "model_module_version": "1.2.0",
          "state": {
            "_model_module": "@jupyter-widgets/base",
            "_model_module_version": "1.2.0",
            "_model_name": "LayoutModel",
            "_view_count": null,
            "_view_module": "@jupyter-widgets/base",
            "_view_module_version": "1.2.0",
            "_view_name": "LayoutView",
            "align_content": null,
            "align_items": "center",
            "align_self": null,
            "border": null,
            "bottom": null,
            "display": "flex",
            "flex": null,
            "flex_flow": "column",
            "grid_area": null,
            "grid_auto_columns": null,
            "grid_auto_flow": null,
            "grid_auto_rows": null,
            "grid_column": null,
            "grid_gap": null,
            "grid_row": null,
            "grid_template_areas": null,
            "grid_template_columns": null,
            "grid_template_rows": null,
            "height": null,
            "justify_content": null,
            "justify_items": null,
            "left": null,
            "margin": null,
            "max_height": null,
            "max_width": null,
            "min_height": null,
            "min_width": null,
            "object_fit": null,
            "object_position": null,
            "order": null,
            "overflow": null,
            "overflow_x": null,
            "overflow_y": null,
            "padding": null,
            "right": null,
            "top": null,
            "visibility": null,
            "width": "50%"
          }
        },
        "19df374a44fb4c0e9c2fc2ac6835de83": {
          "model_module": "@jupyter-widgets/base",
          "model_name": "LayoutModel",
          "model_module_version": "1.2.0",
          "state": {
            "_model_module": "@jupyter-widgets/base",
            "_model_module_version": "1.2.0",
            "_model_name": "LayoutModel",
            "_view_count": null,
            "_view_module": "@jupyter-widgets/base",
            "_view_module_version": "1.2.0",
            "_view_name": "LayoutView",
            "align_content": null,
            "align_items": null,
            "align_self": null,
            "border": null,
            "bottom": null,
            "display": null,
            "flex": null,
            "flex_flow": null,
            "grid_area": null,
            "grid_auto_columns": null,
            "grid_auto_flow": null,
            "grid_auto_rows": null,
            "grid_column": null,
            "grid_gap": null,
            "grid_row": null,
            "grid_template_areas": null,
            "grid_template_columns": null,
            "grid_template_rows": null,
            "height": null,
            "justify_content": null,
            "justify_items": null,
            "left": null,
            "margin": null,
            "max_height": null,
            "max_width": null,
            "min_height": null,
            "min_width": null,
            "object_fit": null,
            "object_position": null,
            "order": null,
            "overflow": null,
            "overflow_x": null,
            "overflow_y": null,
            "padding": null,
            "right": null,
            "top": null,
            "visibility": null,
            "width": null
          }
        },
        "9800e0a1b76040cb97a9ee50b110f8dd": {
          "model_module": "@jupyter-widgets/controls",
          "model_name": "DescriptionStyleModel",
          "model_module_version": "1.5.0",
          "state": {
            "_model_module": "@jupyter-widgets/controls",
            "_model_module_version": "1.5.0",
            "_model_name": "DescriptionStyleModel",
            "_view_count": null,
            "_view_module": "@jupyter-widgets/base",
            "_view_module_version": "1.2.0",
            "_view_name": "StyleView",
            "description_width": ""
          }
        },
        "50225b3560b248ff987ad8b0530376f0": {
          "model_module": "@jupyter-widgets/base",
          "model_name": "LayoutModel",
          "model_module_version": "1.2.0",
          "state": {
            "_model_module": "@jupyter-widgets/base",
            "_model_module_version": "1.2.0",
            "_model_name": "LayoutModel",
            "_view_count": null,
            "_view_module": "@jupyter-widgets/base",
            "_view_module_version": "1.2.0",
            "_view_name": "LayoutView",
            "align_content": null,
            "align_items": null,
            "align_self": null,
            "border": null,
            "bottom": null,
            "display": null,
            "flex": null,
            "flex_flow": null,
            "grid_area": null,
            "grid_auto_columns": null,
            "grid_auto_flow": null,
            "grid_auto_rows": null,
            "grid_column": null,
            "grid_gap": null,
            "grid_row": null,
            "grid_template_areas": null,
            "grid_template_columns": null,
            "grid_template_rows": null,
            "height": null,
            "justify_content": null,
            "justify_items": null,
            "left": null,
            "margin": null,
            "max_height": null,
            "max_width": null,
            "min_height": null,
            "min_width": null,
            "object_fit": null,
            "object_position": null,
            "order": null,
            "overflow": null,
            "overflow_x": null,
            "overflow_y": null,
            "padding": null,
            "right": null,
            "top": null,
            "visibility": null,
            "width": null
          }
        },
        "bec307d63aa24b748e957bcdd19e9950": {
          "model_module": "@jupyter-widgets/controls",
          "model_name": "DescriptionStyleModel",
          "model_module_version": "1.5.0",
          "state": {
            "_model_module": "@jupyter-widgets/controls",
            "_model_module_version": "1.5.0",
            "_model_name": "DescriptionStyleModel",
            "_view_count": null,
            "_view_module": "@jupyter-widgets/base",
            "_view_module_version": "1.2.0",
            "_view_name": "StyleView",
            "description_width": ""
          }
        },
        "4d5d3d01a4444398a74fd8afa38ee313": {
          "model_module": "@jupyter-widgets/base",
          "model_name": "LayoutModel",
          "model_module_version": "1.2.0",
          "state": {
            "_model_module": "@jupyter-widgets/base",
            "_model_module_version": "1.2.0",
            "_model_name": "LayoutModel",
            "_view_count": null,
            "_view_module": "@jupyter-widgets/base",
            "_view_module_version": "1.2.0",
            "_view_name": "LayoutView",
            "align_content": null,
            "align_items": null,
            "align_self": null,
            "border": null,
            "bottom": null,
            "display": null,
            "flex": null,
            "flex_flow": null,
            "grid_area": null,
            "grid_auto_columns": null,
            "grid_auto_flow": null,
            "grid_auto_rows": null,
            "grid_column": null,
            "grid_gap": null,
            "grid_row": null,
            "grid_template_areas": null,
            "grid_template_columns": null,
            "grid_template_rows": null,
            "height": null,
            "justify_content": null,
            "justify_items": null,
            "left": null,
            "margin": null,
            "max_height": null,
            "max_width": null,
            "min_height": null,
            "min_width": null,
            "object_fit": null,
            "object_position": null,
            "order": null,
            "overflow": null,
            "overflow_x": null,
            "overflow_y": null,
            "padding": null,
            "right": null,
            "top": null,
            "visibility": null,
            "width": null
          }
        },
        "a822355a21484a76969a3ae0afdd8654": {
          "model_module": "@jupyter-widgets/controls",
          "model_name": "DescriptionStyleModel",
          "model_module_version": "1.5.0",
          "state": {
            "_model_module": "@jupyter-widgets/controls",
            "_model_module_version": "1.5.0",
            "_model_name": "DescriptionStyleModel",
            "_view_count": null,
            "_view_module": "@jupyter-widgets/base",
            "_view_module_version": "1.2.0",
            "_view_name": "StyleView",
            "description_width": ""
          }
        },
        "35b23bd4efe54f979c021dd3c9dcd14e": {
          "model_module": "@jupyter-widgets/base",
          "model_name": "LayoutModel",
          "model_module_version": "1.2.0",
          "state": {
            "_model_module": "@jupyter-widgets/base",
            "_model_module_version": "1.2.0",
            "_model_name": "LayoutModel",
            "_view_count": null,
            "_view_module": "@jupyter-widgets/base",
            "_view_module_version": "1.2.0",
            "_view_name": "LayoutView",
            "align_content": null,
            "align_items": null,
            "align_self": null,
            "border": null,
            "bottom": null,
            "display": null,
            "flex": null,
            "flex_flow": null,
            "grid_area": null,
            "grid_auto_columns": null,
            "grid_auto_flow": null,
            "grid_auto_rows": null,
            "grid_column": null,
            "grid_gap": null,
            "grid_row": null,
            "grid_template_areas": null,
            "grid_template_columns": null,
            "grid_template_rows": null,
            "height": null,
            "justify_content": null,
            "justify_items": null,
            "left": null,
            "margin": null,
            "max_height": null,
            "max_width": null,
            "min_height": null,
            "min_width": null,
            "object_fit": null,
            "object_position": null,
            "order": null,
            "overflow": null,
            "overflow_x": null,
            "overflow_y": null,
            "padding": null,
            "right": null,
            "top": null,
            "visibility": null,
            "width": null
          }
        },
        "7d6eb2f98757465997d7fce0af1c71a2": {
          "model_module": "@jupyter-widgets/controls",
          "model_name": "ButtonStyleModel",
          "model_module_version": "1.5.0",
          "state": {
            "_model_module": "@jupyter-widgets/controls",
            "_model_module_version": "1.5.0",
            "_model_name": "ButtonStyleModel",
            "_view_count": null,
            "_view_module": "@jupyter-widgets/base",
            "_view_module_version": "1.2.0",
            "_view_name": "StyleView",
            "button_color": null,
            "font_weight": ""
          }
        },
        "93875e1c27f049e7bedee0d84640e6b0": {
          "model_module": "@jupyter-widgets/base",
          "model_name": "LayoutModel",
          "model_module_version": "1.2.0",
          "state": {
            "_model_module": "@jupyter-widgets/base",
            "_model_module_version": "1.2.0",
            "_model_name": "LayoutModel",
            "_view_count": null,
            "_view_module": "@jupyter-widgets/base",
            "_view_module_version": "1.2.0",
            "_view_name": "LayoutView",
            "align_content": null,
            "align_items": null,
            "align_self": null,
            "border": null,
            "bottom": null,
            "display": null,
            "flex": null,
            "flex_flow": null,
            "grid_area": null,
            "grid_auto_columns": null,
            "grid_auto_flow": null,
            "grid_auto_rows": null,
            "grid_column": null,
            "grid_gap": null,
            "grid_row": null,
            "grid_template_areas": null,
            "grid_template_columns": null,
            "grid_template_rows": null,
            "height": null,
            "justify_content": null,
            "justify_items": null,
            "left": null,
            "margin": null,
            "max_height": null,
            "max_width": null,
            "min_height": null,
            "min_width": null,
            "object_fit": null,
            "object_position": null,
            "order": null,
            "overflow": null,
            "overflow_x": null,
            "overflow_y": null,
            "padding": null,
            "right": null,
            "top": null,
            "visibility": null,
            "width": null
          }
        },
        "67c1e274f9704e1b98e0741960ffa580": {
          "model_module": "@jupyter-widgets/controls",
          "model_name": "DescriptionStyleModel",
          "model_module_version": "1.5.0",
          "state": {
            "_model_module": "@jupyter-widgets/controls",
            "_model_module_version": "1.5.0",
            "_model_name": "DescriptionStyleModel",
            "_view_count": null,
            "_view_module": "@jupyter-widgets/base",
            "_view_module_version": "1.2.0",
            "_view_name": "StyleView",
            "description_width": ""
          }
        },
        "1c683202dcd744e0a9715981d59df471": {
          "model_module": "@jupyter-widgets/controls",
          "model_name": "LabelModel",
          "model_module_version": "1.5.0",
          "state": {
            "_dom_classes": [],
            "_model_module": "@jupyter-widgets/controls",
            "_model_module_version": "1.5.0",
            "_model_name": "LabelModel",
            "_view_count": null,
            "_view_module": "@jupyter-widgets/controls",
            "_view_module_version": "1.5.0",
            "_view_name": "LabelView",
            "description": "",
            "description_tooltip": null,
            "layout": "IPY_MODEL_89c0594078964e21aa02ff71b62d2d82",
            "placeholder": "​",
            "style": "IPY_MODEL_8aaccc514b854c1c900a1ca49d55f594",
            "value": "Connecting..."
          }
        },
        "89c0594078964e21aa02ff71b62d2d82": {
          "model_module": "@jupyter-widgets/base",
          "model_name": "LayoutModel",
          "model_module_version": "1.2.0",
          "state": {
            "_model_module": "@jupyter-widgets/base",
            "_model_module_version": "1.2.0",
            "_model_name": "LayoutModel",
            "_view_count": null,
            "_view_module": "@jupyter-widgets/base",
            "_view_module_version": "1.2.0",
            "_view_name": "LayoutView",
            "align_content": null,
            "align_items": null,
            "align_self": null,
            "border": null,
            "bottom": null,
            "display": null,
            "flex": null,
            "flex_flow": null,
            "grid_area": null,
            "grid_auto_columns": null,
            "grid_auto_flow": null,
            "grid_auto_rows": null,
            "grid_column": null,
            "grid_gap": null,
            "grid_row": null,
            "grid_template_areas": null,
            "grid_template_columns": null,
            "grid_template_rows": null,
            "height": null,
            "justify_content": null,
            "justify_items": null,
            "left": null,
            "margin": null,
            "max_height": null,
            "max_width": null,
            "min_height": null,
            "min_width": null,
            "object_fit": null,
            "object_position": null,
            "order": null,
            "overflow": null,
            "overflow_x": null,
            "overflow_y": null,
            "padding": null,
            "right": null,
            "top": null,
            "visibility": null,
            "width": null
          }
        },
        "8aaccc514b854c1c900a1ca49d55f594": {
          "model_module": "@jupyter-widgets/controls",
          "model_name": "DescriptionStyleModel",
          "model_module_version": "1.5.0",
          "state": {
            "_model_module": "@jupyter-widgets/controls",
            "_model_module_version": "1.5.0",
            "_model_name": "DescriptionStyleModel",
            "_view_count": null,
            "_view_module": "@jupyter-widgets/base",
            "_view_module_version": "1.2.0",
            "_view_name": "StyleView",
            "description_width": ""
          }
        },
        "82dd425cf42848af96e79600a81b6ade": {
          "model_module": "@jupyter-widgets/controls",
          "model_name": "LabelModel",
          "model_module_version": "1.5.0",
          "state": {
            "_dom_classes": [],
            "_model_module": "@jupyter-widgets/controls",
            "_model_module_version": "1.5.0",
            "_model_name": "LabelModel",
            "_view_count": null,
            "_view_module": "@jupyter-widgets/controls",
            "_view_module_version": "1.5.0",
            "_view_name": "LabelView",
            "description": "",
            "description_tooltip": null,
            "layout": "IPY_MODEL_509272d63ff444629681303fd693c777",
            "placeholder": "​",
            "style": "IPY_MODEL_c4cd404ac157439984989391bf9fcc7e",
            "value": "Kaggle credentials successfully validated."
          }
        },
        "509272d63ff444629681303fd693c777": {
          "model_module": "@jupyter-widgets/base",
          "model_name": "LayoutModel",
          "model_module_version": "1.2.0",
          "state": {
            "_model_module": "@jupyter-widgets/base",
            "_model_module_version": "1.2.0",
            "_model_name": "LayoutModel",
            "_view_count": null,
            "_view_module": "@jupyter-widgets/base",
            "_view_module_version": "1.2.0",
            "_view_name": "LayoutView",
            "align_content": null,
            "align_items": null,
            "align_self": null,
            "border": null,
            "bottom": null,
            "display": null,
            "flex": null,
            "flex_flow": null,
            "grid_area": null,
            "grid_auto_columns": null,
            "grid_auto_flow": null,
            "grid_auto_rows": null,
            "grid_column": null,
            "grid_gap": null,
            "grid_row": null,
            "grid_template_areas": null,
            "grid_template_columns": null,
            "grid_template_rows": null,
            "height": null,
            "justify_content": null,
            "justify_items": null,
            "left": null,
            "margin": null,
            "max_height": null,
            "max_width": null,
            "min_height": null,
            "min_width": null,
            "object_fit": null,
            "object_position": null,
            "order": null,
            "overflow": null,
            "overflow_x": null,
            "overflow_y": null,
            "padding": null,
            "right": null,
            "top": null,
            "visibility": null,
            "width": null
          }
        },
        "c4cd404ac157439984989391bf9fcc7e": {
          "model_module": "@jupyter-widgets/controls",
          "model_name": "DescriptionStyleModel",
          "model_module_version": "1.5.0",
          "state": {
            "_model_module": "@jupyter-widgets/controls",
            "_model_module_version": "1.5.0",
            "_model_name": "DescriptionStyleModel",
            "_view_count": null,
            "_view_module": "@jupyter-widgets/base",
            "_view_module_version": "1.2.0",
            "_view_name": "StyleView",
            "description_width": ""
          }
        }
      }
    }
  },
  "nbformat_minor": 0,
  "nbformat": 4,
  "cells": [
    {
      "cell_type": "markdown",
      "source": [
        "# Mount Drive & Kaggle"
      ],
      "metadata": {
        "id": "R9Aw0ta2mIZr"
      }
    },
    {
      "cell_type": "code",
      "source": [
        "from google.colab import drive\n",
        "drive.mount('/content/drive')"
      ],
      "metadata": {
        "colab": {
          "base_uri": "https://localhost:8080/"
        },
        "id": "EF_mffSkGCmD",
        "outputId": "1d2fd17a-ca0d-48e7-e854-f0a607a3f709"
      },
      "execution_count": 1,
      "outputs": [
        {
          "output_type": "stream",
          "name": "stdout",
          "text": [
            "Mounted at /content/drive\n"
          ]
        }
      ]
    },
    {
      "cell_type": "code",
      "source": [
        "import kagglehub\n",
        "kagglehub.login()\n"
      ],
      "metadata": {
        "colab": {
          "base_uri": "https://localhost:8080/",
          "height": 84,
          "referenced_widgets": [
            "10f06353c0a14d1db6bf666fe6c84e12",
            "8037f2a448114219863e2f687c42432e",
            "b30549b046bb4cbc8186a380e1823793",
            "46b6ddcaa66c4a0b9d9cba1cdb69a982",
            "105969a3b62e475686b95dc0dc99c806",
            "e582ef50db4c437390924c59d84ec380",
            "58789ef7e03d47368e272c34eb07fd82",
            "19df374a44fb4c0e9c2fc2ac6835de83",
            "9800e0a1b76040cb97a9ee50b110f8dd",
            "50225b3560b248ff987ad8b0530376f0",
            "bec307d63aa24b748e957bcdd19e9950",
            "4d5d3d01a4444398a74fd8afa38ee313",
            "a822355a21484a76969a3ae0afdd8654",
            "35b23bd4efe54f979c021dd3c9dcd14e",
            "7d6eb2f98757465997d7fce0af1c71a2",
            "93875e1c27f049e7bedee0d84640e6b0",
            "67c1e274f9704e1b98e0741960ffa580",
            "1c683202dcd744e0a9715981d59df471",
            "89c0594078964e21aa02ff71b62d2d82",
            "8aaccc514b854c1c900a1ca49d55f594",
            "82dd425cf42848af96e79600a81b6ade",
            "509272d63ff444629681303fd693c777",
            "c4cd404ac157439984989391bf9fcc7e"
          ]
        },
        "id": "PL2iaPFGGL0Z",
        "outputId": "af7f50e4-dee6-4eea-d696-24c8f718f222"
      },
      "execution_count": 2,
      "outputs": [
        {
          "output_type": "display_data",
          "data": {
            "text/plain": [
              "VBox(children=(HTML(value='<center> <img\\nsrc=https://www.kaggle.com/static/images/site-logo.png\\nalt=\\'Kaggle…"
            ],
            "application/vnd.jupyter.widget-view+json": {
              "version_major": 2,
              "version_minor": 0,
              "model_id": "10f06353c0a14d1db6bf666fe6c84e12"
            }
          },
          "metadata": {}
        },
        {
          "output_type": "stream",
          "name": "stdout",
          "text": [
            "Kaggle credentials set.\n",
            "Kaggle credentials successfully validated.\n"
          ]
        }
      ]
    },
    {
      "cell_type": "code",
      "source": [
        "ngkinwang_iam_dataset_path = kagglehub.dataset_download('ngkinwang/iam-dataset')\n",
        "loaytamer_parser_path = kagglehub.dataset_download('loaytamer/parser')\n",
        "loaytamer_custom_dataset_path = kagglehub.dataset_download('loaytamer/custom-dataset')\n",
        "\n",
        "print('Data source import complete.')"
      ],
      "metadata": {
        "colab": {
          "base_uri": "https://localhost:8080/"
        },
        "id": "8fcbbD_iGQIG",
        "outputId": "19ae4ac3-e759-4f3d-9387-ebdad6d7b78c"
      },
      "execution_count": 3,
      "outputs": [
        {
          "output_type": "stream",
          "name": "stdout",
          "text": [
            "Downloading from https://www.kaggle.com/api/v1/datasets/download/ngkinwang/iam-dataset?dataset_version_number=4...\n"
          ]
        },
        {
          "output_type": "stream",
          "name": "stderr",
          "text": [
            "100%|██████████| 1.10G/1.10G [01:01<00:00, 19.3MB/s]"
          ]
        },
        {
          "output_type": "stream",
          "name": "stdout",
          "text": [
            "Extracting files...\n"
          ]
        },
        {
          "output_type": "stream",
          "name": "stderr",
          "text": [
            "\n"
          ]
        },
        {
          "output_type": "stream",
          "name": "stdout",
          "text": [
            "Downloading from https://www.kaggle.com/api/v1/datasets/download/loaytamer/parser?dataset_version_number=1...\n"
          ]
        },
        {
          "output_type": "stream",
          "name": "stderr",
          "text": [
            "100%|██████████| 1.65M/1.65M [00:01<00:00, 1.58MB/s]"
          ]
        },
        {
          "output_type": "stream",
          "name": "stdout",
          "text": [
            "Extracting files...\n"
          ]
        },
        {
          "output_type": "stream",
          "name": "stderr",
          "text": [
            "\n"
          ]
        },
        {
          "output_type": "stream",
          "name": "stdout",
          "text": [
            "Downloading from https://www.kaggle.com/api/v1/datasets/download/loaytamer/custom-dataset?dataset_version_number=2...\n"
          ]
        },
        {
          "output_type": "stream",
          "name": "stderr",
          "text": [
            "100%|██████████| 99.9k/99.9k [00:00<00:00, 275kB/s]"
          ]
        },
        {
          "output_type": "stream",
          "name": "stdout",
          "text": [
            "Extracting files...\n",
            "Data source import complete.\n"
          ]
        },
        {
          "output_type": "stream",
          "name": "stderr",
          "text": [
            "\n"
          ]
        }
      ]
    },
    {
      "cell_type": "markdown",
      "source": [
        "# Importing Modules"
      ],
      "metadata": {
        "id": "UnR7nLQBl_w5"
      }
    },
    {
      "cell_type": "code",
      "source": [
        "import numpy as np\n",
        "\n",
        "import cv2\n",
        "\n",
        "import os\n",
        "\n",
        "import pandas as pd\n",
        "\n",
        "import string\n",
        "\n",
        "import matplotlib.pyplot as plt\n",
        "\n",
        "\n",
        "#  Prepares sequences (e.g., text or time-series data) by padding them to equal lengths.\n",
        "from keras.preprocessing.sequence import pad_sequences\n",
        "\n",
        "\n",
        "# neural network layers\n",
        "from keras.layers import Dense, LSTM, Reshape, BatchNormalization, Input, Conv2D, MaxPool2D, Lambda, Bidirectional\n",
        "\n",
        "from keras.models import Model\n",
        "\n",
        "# Activation functions\n",
        "from keras.activations import relu, sigmoid, softmax\n",
        "\n",
        "import keras.backend as K\n",
        "\n",
        "from tensorflow.keras.utils import to_categorical\n",
        "\n",
        "from tensorflow.keras.callbacks import ModelCheckpoint, EarlyStopping\n",
        "\n",
        "\n",
        "from sklearn.model_selection import train_test_split\n",
        "\n",
        "from sklearn.preprocessing import MinMaxScaler"
      ],
      "metadata": {
        "id": "yEpi6Db8b80B",
        "trusted": true,
        "execution": {
          "iopub.status.busy": "2024-12-20T16:08:04.479958Z",
          "iopub.execute_input": "2024-12-20T16:08:04.480299Z",
          "iopub.status.idle": "2024-12-20T16:08:13.100297Z",
          "shell.execute_reply.started": "2024-12-20T16:08:04.480267Z",
          "shell.execute_reply": "2024-12-20T16:08:13.099384Z"
        }
      },
      "outputs": [],
      "execution_count": 4
    },
    {
      "cell_type": "code",
      "source": [
        "# import tarfile\n",
        "\n",
        "# tf = tarfile.open(\"/content/drive/MyDrive/words.tar\")\n",
        "\n",
        "# tf.extractall(\"/content/drive/MyDrive\")"
      ],
      "metadata": {
        "id": "k0GF5QQODsSD",
        "trusted": true,
        "execution": {
          "iopub.status.busy": "2024-12-16T11:52:04.867864Z",
          "iopub.execute_input": "2024-12-16T11:52:04.868305Z",
          "iopub.status.idle": "2024-12-16T11:52:04.873247Z",
          "shell.execute_reply.started": "2024-12-16T11:52:04.868279Z",
          "shell.execute_reply": "2024-12-16T11:52:04.872470Z"
        }
      },
      "outputs": [],
      "execution_count": null
    },
    {
      "cell_type": "markdown",
      "source": [
        "# Read Parser file => file with img name, status, dim and label"
      ],
      "metadata": {
        "id": "YD1u90ZSsQfb"
      }
    },
    {
      "cell_type": "code",
      "source": [
        "# read the content of the parser file line by line\n",
        "with open(f'{loaytamer_parser_path}/parser.txt') as f:\n",
        "    contents = f.readlines()\n",
        "\n",
        "# to remove any whitespace from the beginning and end of each line\n",
        "lines = [line.strip() for line in contents]\n",
        "\n",
        "lines"
      ],
      "metadata": {
        "id": "6rlKnii9b80V",
        "outputId": "ec535ae5-9185-47c1-ed31-cac2ce5bbd85",
        "trusted": true,
        "execution": {
          "iopub.status.busy": "2024-12-20T16:08:13.101521Z",
          "iopub.execute_input": "2024-12-20T16:08:13.102067Z",
          "iopub.status.idle": "2024-12-20T16:08:13.228161Z",
          "shell.execute_reply.started": "2024-12-20T16:08:13.102042Z",
          "shell.execute_reply": "2024-12-20T16:08:13.227315Z"
        },
        "collapsed": true,
        "jupyter": {
          "outputs_hidden": true
        },
        "colab": {
          "base_uri": "https://localhost:8080/"
        }
      },
      "outputs": [
        {
          "output_type": "execute_result",
          "data": {
            "text/plain": [
              "['a01-000u-00-00 ok 154 408 768 27 51 AT A',\n",
              " 'a01-000u-00-01 ok 154 507 766 213 48 NN MOVE',\n",
              " 'a01-000u-00-02 ok 154 796 764 70 50 TO to',\n",
              " 'a01-000u-00-03 ok 154 919 757 166 78 VB stop',\n",
              " 'a01-000u-00-04 ok 154 1185 754 126 61 NPT Mr.',\n",
              " 'a01-000u-00-05 ok 154 1438 746 382 73 NP Gaitskell',\n",
              " 'a01-000u-00-06 ok 154 1896 757 173 72 IN from',\n",
              " 'a01-000u-01-00 ok 156 395 932 441 100 VBG nominating',\n",
              " 'a01-000u-01-01 ok 156 901 958 147 79 DTI any',\n",
              " 'a01-000u-01-02 ok 156 1112 958 208 42 AP more',\n",
              " 'a01-000u-01-03 ok 156 1400 937 294 59 NN Labour',\n",
              " 'a01-000u-01-04 ok 156 1779 932 174 63 NN life',\n",
              " 'a01-000u-01-05 ok 156 2008 933 237 70 NNS Peers',\n",
              " 'a01-000u-02-00 ok 157 408 1106 65 70 BEZ is',\n",
              " 'a01-000u-02-01 ok 157 541 1118 72 54 TO to',\n",
              " 'a01-000u-02-02 ok 157 720 1114 113 63 BE be',\n",
              " 'a01-000u-02-03 ok 157 916 1136 281 46 VBN made',\n",
              " 'a01-000u-02-04 ok 157 1281 1117 80 59 IN at',\n",
              " 'a01-000u-02-05 ok 157 1405 1140 64 35 AT a',\n",
              " 'a01-000u-02-06 ok 157 1544 1115 339 96 NN meeting',\n",
              " 'a01-000u-02-07 ok 157 1936 1106 91 74 INO of',\n",
              " 'a01-000u-02-08 ok 157 2092 1121 302 65 NN Labour',\n",
              " 'a01-000u-03-00 err 156 430 1290 177 59 NPTS M Ps',\n",
              " 'a01-000u-03-01 err 156 705 1296 431 54 NR tomorrow',\n",
              " 'a01-000u-03-02 err 156 1154 1346 9 10 . .',\n",
              " 'a01-000u-03-03 err 156 1269 1292 320 68 NPT Mr.',\n",
              " 'a01-000u-03-04 err 156 1570 1297 252 56 NP Michael',\n",
              " 'a01-000u-03-05 err 156 1914 1292 190 63 NP Foot',\n",
              " 'a01-000u-03-06 err 156 2179 1300 134 57 HVZ has',\n",
              " 'a01-000u-04-00 ok 157 395 1475 153 71 VBN put',\n",
              " 'a01-000u-04-01 ok 157 616 1482 221 48 RP down',\n",
              " 'a01-000u-04-02 ok 157 891 1501 58 29 AT a',\n",
              " 'a01-000u-04-03 ok 157 1013 1479 428 54 NN resolution',\n",
              " 'a01-000u-04-04 ok 157 1520 1501 78 32 IN on',\n",
              " 'a01-000u-04-05 ok 157 1665 1476 167 61 ATI the',\n",
              " 'a01-000u-04-06 ok 157 1906 1474 319 94 NN subject',\n",
              " 'a01-000u-05-00 err 156 379 1660 191 50 CC and',\n",
              " 'a01-000u-05-01 err 156 643 1654 126 50 PP3A he',\n",
              " 'a01-000u-05-02 err 156 815 1643 60 69 BEZ is',\n",
              " 'a01-000u-05-03 err 156 919 1663 81 49 TO to',\n",
              " 'a01-000u-05-04 err 156 1058 1661 138 54 BE be',\n",
              " 'a01-000u-05-05 err 156 1261 1658 310 51 VBN backed',\n",
              " 'a01-000u-05-06 err 156 1668 1662 99 69 IN by',\n",
              " 'a01-000u-05-07 err 156 1846 1647 301 66 NPT Mr.',\n",
              " 'a01-000u-05-08 err 156 2166 1657 67 53 NP Will',\n",
              " 'a01-000u-06-00 ok 159 363 1827 349 67 NP Griffiths',\n",
              " 'a01-000u-06-01 ok 159 754 1878 18 34 , ,',\n",
              " 'a01-000u-06-02 ok 159 878 1825 160 68 NPT M P',\n",
              " 'a01-000u-06-03 ok 159 1134 1829 165 73 IN for',\n",
              " 'a01-000u-06-04 ok 159 1385 1835 441 59 NP Manchester',\n",
              " 'a01-000u-06-05 ok 159 1910 1839 458 63 NP Exchange',\n",
              " 'a01-000u-06-06 ok 159 2404 1894 10 13 . .',\n",
              " 'a01-000x-00-00 ok 182 375 767 35 67 AT A',\n",
              " 'a01-000x-00-01 ok 182 506 763 143 66 NN MOVE',\n",
              " 'a01-000x-00-02 ok 182 730 760 44 70 TO to',\n",
              " 'a01-000x-00-03 ok 182 832 764 89 114 VB stop',\n",
              " 'a01-000x-00-04 ok 182 1001 760 84 71 NPT Mr.',\n",
              " 'a01-000x-00-05 ok 182 1179 748 224 84 NP Gaitskell',\n",
              " 'a01-000x-00-06 ok 182 1469 748 103 141 IN from',\n",
              " 'a01-000x-00-07 ok 182 1657 748 279 148 VBG nominating',\n",
              " 'a01-000x-01-00 ok 181 382 963 94 109 DTI any',\n",
              " 'a01-000x-01-01 ok 181 519 969 112 40 AP more',\n",
              " 'a01-000x-01-02 ok 181 725 932 172 78 NN Labour',\n",
              " 'a01-000x-01-03 ok 181 987 926 82 138 NN life',\n",
              " 'a01-000x-01-04 ok 181 1116 924 120 88 NNS Peers',\n",
              " 'a01-000x-01-05 ok 181 1320 930 30 72 BEZ is',\n",
              " 'a01-000x-01-06 ok 181 1410 932 40 72 TO to',\n",
              " 'a01-000x-01-07 ok 181 1533 931 51 75 BE be',\n",
              " 'a01-000x-01-08 ok 181 1649 931 125 77 VBN made',\n",
              " 'a01-000x-01-09 ok 181 1836 932 45 72 IN at',\n",
              " 'a01-000x-01-10 ok 181 1945 972 32 34 AT a',\n",
              " 'a01-000x-02-00 ok 181 386 1110 188 137 NN meeting',\n",
              " 'a01-000x-02-01 ok 181 685 1116 41 134 INO of',\n",
              " 'a01-000x-02-02 ok 181 808 1113 158 77 NN Labour',\n",
              " 'a01-000x-02-03 ok 181 1090 1110 207 76 NPTS 0M Ps',\n",
              " 'a01-000x-02-04 ok 181 1382 1110 212 81 NR tomorrow',\n",
              " 'a01-000x-02-05 ok 181 1619 1174 8 9 . .',\n",
              " 'a01-000x-02-06 ok 181 1689 1110 84 69 NPT Mr.',\n",
              " 'a01-000x-02-07 ok 181 1843 1111 180 79 NP Michael',\n",
              " 'a01-000x-03-00 ok 179 375 1276 101 81 NP Foot',\n",
              " 'a01-000x-03-01 ok 179 558 1284 70 74 HVZ has',\n",
              " 'a01-000x-03-02 ok 179 690 1285 71 144 VBN put',\n",
              " 'a01-000x-03-03 ok 179 852 1286 114 77 RP down',\n",
              " 'a01-000x-03-04 ok 179 1062 1320 32 37 AT a',\n",
              " 'a01-000x-03-05 ok 179 1195 1285 262 76 NN resolution',\n",
              " 'a01-000x-03-06 ok 179 1543 1320 55 34 IN on',\n",
              " 'a01-000x-03-07 ok 179 1650 1285 69 78 ATI the',\n",
              " 'a01-000x-03-08 ok 179 1795 1290 164 140 NN subject',\n",
              " 'a01-000x-04-00 ok 173 397 1464 93 79 CC and',\n",
              " 'a01-000x-04-01 ok 173 560 1465 59 71 PP3A he',\n",
              " 'a01-000x-04-02 ok 173 655 1458 47 81 BEZ is',\n",
              " 'a01-000x-04-03 ok 173 790 1469 41 79 TO to',\n",
              " 'a01-000x-04-04 ok 173 904 1459 50 71 BE be',\n",
              " 'a01-000x-04-05 ok 173 1033 1460 162 78 VBN backed',\n",
              " 'a01-000x-04-06 ok 173 1292 1458 63 145 IN by',\n",
              " 'a01-000x-04-07 ok 173 1447 1475 87 73 NPT Mr.',\n",
              " 'a01-000x-04-08 ok 173 1620 1465 118 73 NP Will',\n",
              " 'a01-000x-04-09 ok 173 1818 1463 198 143 NP Griffiths',\n",
              " 'a01-000x-04-10 ok 173 2037 1532 7 26 , ,',\n",
              " 'a01-000x-05-00 ok 173 393 1635 190 85 NPT 0M P',\n",
              " 'a01-000x-05-01 ok 173 679 1637 65 131 IN for',\n",
              " 'a01-000x-05-02 ok 173 868 1635 255 88 NP Manchester',\n",
              " 'a01-000x-05-03 ok 173 1212 1644 239 146 NP Exchange',\n",
              " 'a01-000x-05-04 ok 173 1466 1704 9 9 . .',\n",
              " 'a01-003-00-00 ok 176 325 896 204 132 CS Though',\n",
              " 'a01-003-00-01 ok 176 587 910 109 90 PP3AS they',\n",
              " 'a01-003-00-02 ok 176 749 945 127 56 MD may',\n",
              " 'a01-003-00-03 ok 176 884 919 205 92 VB gather',\n",
              " 'a01-003-00-04 ok 176 1147 950 164 24 DTI some',\n",
              " 'a01-003-00-05 ok 176 1372 901 319 134 JJB Left-wing',\n",
              " 'a01-003-00-06 ok 176 1754 920 273 88 NN support',\n",
              " 'a01-003-00-07 ok 176 1991 972 38 24 , ,',\n",
              " 'a01-003-00-08 ok 176 2090 950 42 19 AT a',\n",
              " 'a01-003-01-00 ok 176 319 1078 165 126 JJ large',\n",
              " 'a01-003-01-01 ok 176 552 1092 259 100 NN majority',\n",
              " 'a01-003-01-02 ok 176 835 1094 105 96 INO of',\n",
              " 'a01-003-01-03 ok 176 957 1104 219 51 NN Labour',\n",
              " 'a01-003-01-04 ok 176 1252 1102 222 52 NPTS M Ps',\n",
              " 'a01-003-01-05 ok 176 1550 1124 132 22 BER are',\n",
              " 'a01-003-01-06 ok 176 1778 1089 185 83 JJ likely',\n",
              " 'a01-003-01-07 ok 176 2040 1091 66 53 TO to',\n",
              " 'a01-003-02-00 ok 176 315 1269 146 73 VB turn',\n",
              " 'a01-003-02-01 ok 176 520 1275 142 61 RP down',\n",
              " 'a01-003-02-02 ok 176 762 1274 111 55 ATI the',\n",
              " 'a01-003-02-03 ok 176 937 1272 499 115 NP Foot-Griffiths',\n",
              " 'a01-003-02-04 ok 176 1506 1259 320 69 NN resolution',\n",
              " 'a01-003-02-05 ok 176 1860 1323 7 7 . .',\n",
              " 'a01-003-02-06 ok 176 1935 1267 124 56 NPT Mr.',\n",
              " \"a01-003-03-00 ok 176 316 1454 187 57 NP$ Foot's\",\n",
              " 'a01-003-03-01 ok 176 587 1460 141 48 NN line',\n",
              " 'a01-003-03-02 ok 176 806 1441 134 68 MD will',\n",
              " 'a01-003-03-03 ok 176 1006 1453 84 50 BE be',\n",
              " 'a01-003-03-04 ok 176 1176 1446 158 53 CS that',\n",
              " 'a01-003-03-05 ok 176 1377 1483 67 19 CS as',\n",
              " 'a01-003-03-06 ok 176 1526 1441 241 66 NN Labour',\n",
              " 'a01-003-03-07 ok 176 1855 1454 211 50 NPTS M Ps',\n",
              " 'a01-003-04-00 ok 161 325 1642 303 90 VBD opposed',\n",
              " 'a01-003-04-01 ok 161 718 1635 109 51 ATI the',\n",
              " 'a01-003-04-02 ok 161 912 1620 413 68 NN Government',\n",
              " 'a01-003-04-03 ok 161 1376 1631 202 61 NN Bill',\n",
              " 'a01-003-04-04 ok 161 1609 1619 224 69 WDT which',\n",
              " 'a01-003-04-05 ok 161 1884 1619 289 113 VBD brought',\n",
              " 'a01-003-05-00 ok 176 325 1779 154 143 NN life',\n",
              " 'a01-003-05-01 ok 176 512 1847 222 63 NNS peers',\n",
              " 'a01-003-05-02 ok 176 838 1807 131 60 IN into',\n",
              " 'a01-003-05-03 ok 176 1076 1806 380 64 NN existence',\n",
              " 'a01-003-05-04 ok 176 1471 1871 31 25 , ,',\n",
              " 'a01-003-05-05 ok 176 1569 1796 149 114 PP3AS they',\n",
              " 'a01-003-05-06 ok 176 1777 1788 265 75 MD should',\n",
              " 'a01-003-05-07 ok 176 2062 1809 134 57 XNOT not',\n",
              " 'a01-003-06-00 ok 176 326 2022 121 23 RN now',\n",
              " 'a01-003-06-01 ok 176 489 1980 269 112 VB put',\n",
              " 'a01-003-06-02 ok 176 775 1980 373 126 RB forward',\n",
              " 'a01-003-06-03 ok 176 1209 2018 361 33 NNS nominees',\n",
              " 'a01-003-06-04 ok 176 1615 2049 8 8 . .',\n",
              " 'a01-003-06-05 ok 176 1735 1984 102 58 PP3A He',\n",
              " 'a01-003-06-06 ok 176 1945 1980 254 65 VBZ believes',\n",
              " 'a01-003-07-00 ok 161 295 2150 166 71 CS that',\n",
              " 'a01-003-07-01 ok 161 553 2165 114 65 ATI the',\n",
              " 'a01-003-07-02 ok 161 760 2163 228 61 NPL House',\n",
              " 'a01-003-07-03 ok 161 1038 2148 141 128 INO of',\n",
              " 'a01-003-07-04 ok 161 1229 2147 208 75 NPTS Lords',\n",
              " 'a01-003-07-05 ok 161 1487 2152 225 68 MD should',\n",
              " 'a01-003-07-06 ok 161 1777 2161 64 55 BE be',\n",
              " 'a01-003-07-07 ok 161 1914 2162 302 58 VBN abolished',\n",
              " 'a01-003-08-00 ok 161 317 2332 151 66 CC and',\n",
              " 'a01-003-08-01 ok 161 544 2330 143 62 CS that',\n",
              " 'a01-003-08-02 ok 161 748 2333 251 63 NN Labour',\n",
              " 'a01-003-08-03 ok 161 1069 2318 251 79 MD should',\n",
              " 'a01-003-08-04 ok 161 1396 2326 134 66 XNOT not',\n",
              " 'a01-003-08-05 ok 161 1609 2327 134 63 VB take',\n",
              " 'a01-003-08-06 ok 161 1810 2376 120 59 DTI any',\n",
              " 'a01-003-08-07 ok 161 1992 2324 174 109 NNS steps',\n",
              " 'a01-003-09-00 err 161 313 2509 184 65 WDT which',\n",
              " 'a01-003-09-01 err 161 596 2509 216 69 MD would',\n",
              " 'a01-003-09-02 err 161 836 2555 244 69 VB appear',\n",
              " 'a01-003-09-03 err 161 1152 2514 64 63 TO to',\n",
              " 'a01-003-09-04 err 161 1316 2529 18 15 *\\' \"',\n",
              " 'a01-003-09-05 err 161 1304 2566 89 49 VB prop',\n",
              " 'a01-003-09-06 err 161 1397 2566 52 15 RP up',\n",
              " 'a01-003-09-07 err 161 1414 2562 91 55 **\\' \"',\n",
              " 'a01-003-09-08 err 161 1558 2538 148 96 AT an',\n",
              " 'a01-003-09-09 err 161 1771 2525 517 58 JJ out-dated',\n",
              " 'a01-003-10-00 ok 161 322 2701 326 66 NN institution',\n",
              " 'a01-003-10-01 ok 161 678 2758 7 8 . .',\n",
              " 'a01-003u-00-00 ok 159 357 822 310 80 CS Though',\n",
              " 'a01-003u-00-01 ok 159 732 824 162 75 PP3AS they',\n",
              " 'a01-003u-00-02 ok 159 930 838 212 62 MD may',\n",
              " 'a01-003u-00-03 ok 159 1178 823 288 81 VB gather',\n",
              " 'a01-003u-00-04 ok 159 1511 829 224 39 DTI some',\n",
              " 'a01-003u-00-05 ok 159 1833 800 462 106 JJB Left-wing',\n",
              " 'a01-003u-01-00 ok 161 366 992 314 81 NN support',\n",
              " 'a01-003u-01-01 ok 161 711 1044 14 35 , ,',\n",
              " 'a01-003u-01-02 ok 161 822 1024 57 29 AT a',\n",
              " 'a01-003u-01-03 ok 161 945 1006 262 71 JJ large',\n",
              " 'a01-003u-01-04 ok 161 1263 986 384 92 NN majority',\n",
              " 'a01-003u-01-05 ok 161 1695 976 91 84 INO of',\n",
              " 'a01-003u-01-06 ok 161 1897 985 306 55 NN Labour',\n",
              " 'a01-003u-02-00 ok 161 356 1174 181 78 NPTS M Ps',\n",
              " 'a01-003u-02-01 ok 161 613 1190 137 47 BER are',\n",
              " 'a01-003u-02-02 ok 161 811 1172 251 86 JJ likely',\n",
              " 'a01-003u-02-03 ok 161 1084 1185 73 47 TO to',\n",
              " 'a01-003u-02-04 ok 161 1218 1180 196 49 VB turn',\n",
              " 'a01-003u-02-05 ok 161 1480 1180 232 50 RP down',\n",
              " 'a01-003u-02-06 ok 161 1795 1178 166 49 ATI the',\n",
              " 'a01-003u-02-07 ok 161 1995 1162 269 60 NP-- Foot-',\n",
              " 'a01-003u-03-00 err 162 348 1345 362 75 -NP Griffiths',\n",
              " 'a01-003u-03-01 err 162 789 1351 398 62 NN resolution',\n",
              " 'a01-003u-03-02 err 162 1220 1399 9 9 . .',\n",
              " 'a01-003u-03-03 err 162 1314 1354 119 61 NPT Mr.',\n",
              " \"a01-003u-03-04 err 162 1501 1324 503 78 NP$ Foot's\",\n",
              " 'a01-003u-03-05 err 162 1874 1327 9 12 NN line',\n",
              " 'a01-003u-03-06 err 162 2072 1340 144 64 MD will',\n",
              " 'a01-003u-04-00 ok 161 351 1538 100 60 BE be',\n",
              " 'a01-003u-04-01 ok 161 488 1531 176 59 CS that',\n",
              " 'a01-003u-04-02 ok 161 710 1547 110 41 CS as',\n",
              " 'a01-003u-04-03 ok 161 913 1528 312 59 NN Labour',\n",
              " 'a01-003u-04-04 ok 161 1324 1515 205 75 NPTS M Ps',\n",
              " 'a01-003u-04-05 ok 161 1612 1522 342 96 VBD opposed',\n",
              " 'a01-003u-04-06 ok 161 2040 1522 180 57 ATI the',\n",
              " 'a01-003u-05-00 ok 163 335 1716 515 58 NN Government',\n",
              " 'a01-003u-05-01 ok 163 889 1707 179 66 NN Bill',\n",
              " 'a01-003u-05-02 ok 163 1131 1703 276 64 WDT which',\n",
              " 'a01-003u-05-03 ok 163 1479 1701 331 96 VBD brought',\n",
              " 'a01-003u-05-04 ok 163 1882 1693 169 72 NN life',\n",
              " 'a01-003u-05-05 ok 163 2099 1718 236 51 NNS peers',\n",
              " 'a01-003u-06-00 ok 163 322 1880 176 67 IN into',\n",
              " 'a01-003u-06-01 ok 163 579 1891 427 59 NN existence',\n",
              " 'a01-003u-06-02 ok 163 1034 1949 12 31 , ,',\n",
              " 'a01-003u-06-03 ok 163 1133 1889 206 87 PP3AS they',\n",
              " 'a01-003u-06-04 ok 163 1375 1878 323 66 MD should',\n",
              " 'a01-003u-06-05 ok 163 1756 1878 124 60 XNOT not',\n",
              " 'a01-003u-06-06 ok 163 1964 1899 161 36 RN now',\n",
              " 'a01-003u-06-07 ok 163 2162 1888 155 69 VB put',\n",
              " 'a01-003u-07-00 ok 165 364 2075 343 71 RB forward',\n",
              " 'a01-003u-07-01 ok 165 780 2067 428 59 NNS nominees',\n",
              " 'a01-003u-07-02 ok 165 1231 2112 10 10 . .',\n",
              " 'a01-003u-07-03 ok 165 1327 2071 118 54 PP3A He',\n",
              " 'a01-003u-07-04 ok 165 1519 2045 360 79 VBZ believes',\n",
              " 'a01-003u-07-05 ok 165 1923 2057 179 53 CS that',\n",
              " 'a01-003u-07-06 ok 165 2167 2055 153 62 ATI the',\n",
              " 'a01-003u-08-00 ok 164 357 2258 262 49 NPL House',\n",
              " 'a01-003u-08-01 ok 164 654 2237 88 77 INO of',\n",
              " 'a01-003u-08-02 ok 164 810 2253 224 53 NPTS Lords',\n",
              " 'a01-003u-08-03 ok 164 1116 2248 329 61 MD should',\n",
              " 'a01-003u-08-04 ok 164 1502 2258 118 44 BE be',\n",
              " 'a01-003u-08-05 ok 164 1659 2233 442 66 VBN abolished',\n",
              " 'a01-003u-08-06 ok 164 2148 2251 175 44 CC and',\n",
              " 'a01-003u-09-00 ok 165 356 2439 176 56 CS that',\n",
              " 'a01-003u-09-01 ok 165 616 2436 356 54 NN Labour',\n",
              " 'a01-003u-09-02 ok 165 1045 2427 309 53 MD should',\n",
              " 'a01-003u-09-03 ok 165 1441 2416 133 64 XNOT not',\n",
              " 'a01-003u-09-04 ok 165 1647 2419 208 59 VB take',\n",
              " 'a01-003u-09-05 ok 165 1900 2445 153 56 DTI any',\n",
              " 'a01-003u-09-06 ok 165 2091 2410 212 69 NNS steps',\n",
              " 'a01-003u-10-00 ok 165 353 2605 264 75 WDT which',\n",
              " 'a01-003u-10-01 ok 165 675 2616 299 50 MD would',\n",
              " 'a01-003u-10-02 ok 165 1026 2617 339 61 VB appear',\n",
              " 'a01-003u-10-03 ok 165 1418 2602 83 54 TO to',\n",
              " 'a01-003u-10-04 ok 165 1558 2635 25 25 *\\' \"',\n",
              " 'a01-003u-10-05 ok 165 1616 2616 157 62 VB prop',\n",
              " 'a01-003u-10-06 ok 165 1830 2616 95 47 RP up',\n",
              " 'a01-003u-10-07 ok 165 1961 2573 29 24 **\\' \"',\n",
              " 'a01-003u-10-08 ok 165 2031 2623 102 31 AT an',\n",
              " 'a01-003u-10-09 ok 165 2191 2597 187 57 JJ-- out-',\n",
              " 'a01-003x-00-00 err 177 312 896 206 140 CS Though',\n",
              " 'a01-003x-00-01 err 177 603 901 122 128 PP3AS they',\n",
              " 'a01-003x-00-02 err 177 765 927 130 88 MD may',\n",
              " 'a01-003x-00-03 err 177 940 895 196 135 VB gather',\n",
              " 'a01-003x-00-04 err 177 1207 924 168 54 DTI some',\n",
              " 'a01-003x-00-05 err 177 1438 875 283 167 JJB Left-wing',\n",
              " 'a01-003x-00-06 err 177 1760 885 256 136 NN support',\n",
              " 'a01-003x-00-07 err 177 2021 972 12 25 , ,',\n",
              " 'a01-003x-00-08 err 177 2070 926 37 47 AT a',\n",
              " 'a01-003x-01-00 ok 176 307 1067 162 147 JJ large',\n",
              " 'a01-003x-01-01 ok 176 540 1060 263 156 NN majority',\n",
              " 'a01-003x-01-02 ok 176 866 1074 71 121 INO of',\n",
              " 'a01-003x-01-03 ok 176 963 1046 248 110 NN Labour',\n",
              " 'a01-003x-01-04 ok 176 1262 1065 211 85 NPTS 0M Ps',\n",
              " 'a01-003x-01-05 ok 176 1523 1101 96 42 BER are',\n",
              " 'a01-003x-01-06 ok 176 1666 1057 185 138 JJ likely',\n",
              " 'a01-003x-01-07 ok 176 1902 1061 62 80 TO to',\n",
              " 'a01-003x-01-08 ok 176 1993 1057 145 94 VB turn',\n",
              " 'a01-003x-02-00 err 177 317 1247 170 88 RP down',\n",
              " 'a01-003x-02-01 err 177 539 1260 102 76 ATI the',\n",
              " 'a01-003x-02-02 err 177 719 1249 449 124 NP Foot-Griffiths',\n",
              " 'a01-003x-02-03 err 177 1231 1251 318 81 NN resolution',\n",
              " 'a01-003x-02-04 err 177 1560 1323 5 5 . .',\n",
              " 'a01-003x-02-05 err 177 1636 1246 97 70 NPT Mr.',\n",
              " \"a01-003x-02-06 err 177 1779 1245 206 86 NP$ Foot's\",\n",
              " 'a01-003x-02-07 err 177 2013 1243 138 80 NN line',\n",
              " 'a01-003x-03-00 err 169 325 1424 125 82 MD will',\n",
              " 'a01-003x-03-01 err 169 508 1435 72 79 BE be',\n",
              " 'a01-003x-03-02 err 169 625 1427 151 81 CS that',\n",
              " 'a01-003x-03-03 err 169 816 1463 66 40 CS as',\n",
              " 'a01-003x-03-04 err 169 932 1423 218 87 NN Labour',\n",
              " 'a01-003x-03-05 err 169 1208 1426 225 84 NPTS 0M Ps',\n",
              " 'a01-003x-03-06 err 169 1503 1423 263 128 VBD opposed',\n",
              " 'a01-003x-03-07 err 169 1794 1428 97 72 ATI the',\n",
              " 'a01-003x-03-08 err 169 1942 1427 222 72 NN- Govern-',\n",
              " 'a01-003x-04-00 ok 169 306 1593 164 91 -NN ment',\n",
              " 'a01-003x-04-01 ok 169 515 1609 129 78 NN Bill',\n",
              " 'a01-003x-04-02 ok 169 701 1594 171 82 WDT which',\n",
              " 'a01-003x-04-03 ok 169 907 1597 247 135 VBD brought',\n",
              " 'a01-003x-04-04 ok 169 1190 1600 99 122 NN life',\n",
              " 'a01-003x-04-05 ok 169 1317 1633 181 90 NNS peers',\n",
              " 'a01-003x-04-06 ok 169 1541 1597 134 81 IN into',\n",
              " 'a01-003x-04-07 ok 169 1727 1590 273 90 NN existence',\n",
              " 'a01-003x-04-08 ok 169 1999 1674 24 35 , ,',\n",
              " 'a01-003x-04-09 ok 169 2053 1598 128 150 PP3AS they',\n",
              " 'a01-003x-05-00 ok 176 304 1779 231 85 MD should',\n",
              " 'a01-003x-05-01 ok 176 581 1785 134 83 XNOT not',\n",
              " 'a01-003x-05-02 ok 176 750 1812 144 63 RN now',\n",
              " 'a01-003x-05-03 ok 176 914 1777 159 134 VB put',\n",
              " 'a01-003x-05-04 ok 176 1076 1772 284 135 RB forward',\n",
              " 'a01-003x-05-05 ok 176 1392 1799 356 63 NNS nominees',\n",
              " 'a01-003x-05-06 ok 176 1789 1851 9 4 . .',\n",
              " 'a01-003x-05-07 ok 176 1855 1767 80 86 PP3A He',\n",
              " 'a01-003x-05-08 ok 176 1975 1775 214 86 VBZ believes',\n",
              " 'a01-003x-06-00 ok 176 316 1954 141 88 CS that',\n",
              " 'a01-003x-06-01 ok 176 502 1961 76 80 ATI the',\n",
              " 'a01-003x-06-02 ok 176 650 1958 197 88 NPL House',\n",
              " 'a01-003x-06-03 ok 176 905 1955 69 123 INO of',\n",
              " 'a01-003x-06-04 ok 176 1003 1940 183 101 NPTS Lords',\n",
              " 'a01-003x-06-05 ok 176 1234 1953 246 85 MD should',\n",
              " 'a01-003x-06-06 ok 176 1499 1952 89 81 BE be',\n",
              " 'a01-003x-06-07 ok 176 1649 1944 319 97 VBN abolished',\n",
              " 'a01-003x-06-08 ok 176 2010 1965 166 72 CC and',\n",
              " 'a01-003x-07-00 ok 168 329 2132 157 85 CS that',\n",
              " 'a01-003x-07-01 ok 168 523 2125 266 99 NN Labour',\n",
              " 'a01-003x-07-02 ok 168 841 2139 250 85 MD should',\n",
              " 'a01-003x-07-03 ok 168 1132 2123 155 99 XNOT not',\n",
              " 'a01-003x-07-04 ok 168 1310 2126 123 94 VB take',\n",
              " 'a01-003x-07-05 ok 168 1488 2159 138 97 DTI any',\n",
              " 'a01-003x-07-06 ok 168 1658 2134 168 121 NNS steps',\n",
              " 'a01-003x-07-07 ok 168 1861 2134 195 81 WDT which',\n",
              " 'a01-003x-07-08 ok 168 2064 2140 216 87 MD would',\n",
              " 'a01-003x-08-00 ok 168 330 2341 198 109 VB appear',\n",
              " 'a01-003x-08-01 ok 168 573 2314 74 86 TO to',\n",
              " 'a01-003x-08-02 ok 168 730 2328 16 29 *\\' \"',\n",
              " 'a01-003x-08-03 ok 168 741 2363 130 90 VB prop',\n",
              " 'a01-003x-08-04 ok 168 893 2367 88 79 RP up',\n",
              " 'a01-003x-08-05 ok 168 1001 2328 17 27 **\\' \"',\n",
              " 'a01-003x-08-06 ok 168 1082 2347 92 51 AT an',\n",
              " 'a01-003x-08-07 ok 168 1264 2309 390 90 JJ out-dated',\n",
              " 'a01-003x-08-08 ok 168 1699 2316 396 84 NN institution',\n",
              " 'a01-003x-08-09 ok 168 2100 2400 4 5 . .',\n",
              " 'a01-007-00-00 ok 203 353 773 187 65 IN Since',\n",
              " 'a01-007-00-01 ok 203 598 776 198 56 CD 1958',\n",
              " 'a01-007-00-02 ok 203 804 833 18 25 , ,',\n",
              " 'a01-007-00-03 ok 203 864 782 83 48 CD 13',\n",
              " 'a01-007-00-04 ok 203 1004 767 253 67 NN Labour',\n",
              " 'a01-007-00-05 ok 203 1317 761 122 89 NN life',\n",
              " 'a01-007-00-06 ok 203 1485 772 166 65 NNS Peers',\n",
              " 'a01-007-00-07 ok 203 1702 777 145 59 CC and',\n",
              " 'a01-007-01-00 ok 203 335 951 266 68 NNS Peeresses',\n",
              " 'a01-007-01-01 ok 203 660 940 179 74 HV have',\n",
              " 'a01-007-01-02 ok 203 883 944 154 71 BEN been',\n",
              " 'a01-007-01-03 ok 203 1101 943 218 75 VBN created',\n",
              " 'a01-007-01-04 ok 203 1342 1003 6 6 . .',\n",
              " 'a01-007-01-05 ok 203 1374 952 164 70 AP Most',\n",
              " 'a01-007-01-06 ok 203 1597 937 264 76 NN Labour',\n",
              " 'a01-007-02-00 ok 203 355 1128 315 72 NN sentiment',\n",
              " 'a01-007-02-01 ok 203 732 1124 232 70 MD would',\n",
              " 'a01-007-02-02 ok 203 1025 1118 101 70 &GA #',\n",
              " 'a01-007-02-03 ok 203 1123 1117 162 74 RB still',\n",
              " 'a01-007-02-04 ok 203 1339 1111 241 106 VB favour',\n",
              " 'a01-007-02-05 ok 203 1615 1118 119 80 ATI the',\n",
              " 'a01-007-02-06 ok 203 1782 1115 270 79 NN abolition',\n",
              " 'a01-007-03-00 ok 203 363 1289 82 92 INO of',\n",
              " 'a01-007-03-01 ok 203 474 1304 120 68 ATI the',\n",
              " 'a01-007-03-02 ok 203 658 1304 209 68 NPL House',\n",
              " 'a01-007-03-03 ok 203 909 1301 90 94 INO of',\n",
              " 'a01-007-03-04 ok 203 1066 1298 180 66 NPTS Lords',\n",
              " 'a01-007-03-05 ok 203 1256 1355 24 33 , ,',\n",
              " 'a01-007-03-06 ok 203 1321 1284 137 89 CC but',\n",
              " 'a01-007-03-07 ok 203 1515 1290 164 83 CS while',\n",
              " 'a01-007-03-08 ok 203 1732 1304 86 68 PP3 it',\n",
              " 'a01-007-03-09 ok 203 1838 1313 236 62 VBZ remains',\n",
              " 'a01-007-04-00 ok 203 358 1480 236 72 NN Labour',\n",
              " 'a01-007-04-01 ok 203 623 1478 140 78 HVZ has',\n",
              " 'a01-007-04-02 ok 203 799 1476 88 80 TO to',\n",
              " 'a01-007-04-03 ok 203 911 1482 214 79 HV have',\n",
              " 'a01-007-04-04 ok 203 1177 1507 97 30 AT an',\n",
              " 'a01-007-04-05 ok 203 1318 1477 304 120 JJ adequate',\n",
              " 'a01-007-04-06 ok 203 1670 1483 259 66 NN number',\n",
              " 'a01-007-04-07 ok 203 1981 1464 94 110 INO of',\n",
              " 'a01-007-05-00 ok 203 333 1657 308 66 NNS members',\n",
              " 'a01-007-05-01 ok 203 670 1707 9 6 . .',\n",
              " 'a01-007-05-02 ok 203 730 1662 193 64 ATI THE',\n",
              " 'a01-007-05-03 ok 203 935 1661 168 73 CD two',\n",
              " 'a01-007-05-04 ok 203 1152 1662 190 69 JJB rival',\n",
              " 'a01-007-05-05 ok 203 1381 1659 245 88 JNP African',\n",
              " 'a01-007-05-06 ok 203 1706 1657 350 72 JJ Nationalist',\n",
              " 'a01-007-06-00 ok 203 334 1824 236 95 NNS Parties',\n",
              " 'a01-007-06-01 ok 203 634 1842 92 96 INO of',\n",
              " 'a01-007-06-02 ok 203 764 1830 282 83 NP Northern',\n",
              " 'a01-007-06-03 ok 203 1120 1827 307 81 NP Rhodesia',\n",
              " 'a01-007-06-04 ok 203 1479 1813 158 92 HV have',\n",
              " 'a01-007-06-05 ok 203 1690 1829 221 113 VBN agreed',\n",
              " 'a01-007-06-06 ok 203 1948 1817 107 82 TO to',\n",
              " 'a01-007-07-00 ok 203 360 2016 100 106 VB get',\n",
              " 'a01-007-07-01 ok 203 520 2007 272 110 RB together',\n",
              " 'a01-007-07-02 ok 203 831 2015 91 66 TO to',\n",
              " 'a01-007-07-03 ok 203 950 1997 164 110 VB face',\n",
              " 'a01-007-07-04 ok 203 1173 1998 104 91 ATI the',\n",
              " 'a01-007-07-05 ok 203 1332 1995 295 133 NN challenge',\n",
              " 'a01-007-07-06 ok 203 1690 1993 148 117 IN from',\n",
              " 'a01-007-07-07 ok 203 1921 2009 101 76 NPT Sir',\n",
              " 'a01-007-08-00 ok 203 349 2201 127 102 NP Roy',\n",
              " 'a01-007-08-01 ok 203 546 2199 340 101 NP Welensky',\n",
              " 'a01-007-08-02 ok 203 911 2251 22 31 , ,',\n",
              " 'a01-007-08-03 ok 203 980 2181 131 86 ATI the',\n",
              " 'a01-007-08-04 ok 203 1159 2188 236 76 JJ Federal',\n",
              " 'a01-007-08-05 ok 203 1422 2191 255 73 NPT Premier',\n",
              " 'a01-007-08-06 ok 203 1679 2254 9 8 . .',\n",
              " 'a01-007u-00-00 ok 165 402 772 233 60 IN Since',\n",
              " 'a01-007u-00-01 ok 165 751 763 191 64 CD 1958',\n",
              " 'a01-007u-00-02 ok 165 955 812 13 32 , ,',\n",
              " 'a01-007u-00-03 ok 165 1068 777 83 49 CD 13',\n",
              " 'a01-007u-00-04 ok 165 1236 768 292 53 NN Labour',\n",
              " 'a01-007u-00-05 ok 165 1631 752 152 72 NN life',\n",
              " 'a01-007u-00-06 ok 165 1823 764 227 60 NNS Peers',\n",
              " 'a01-007u-00-07 ok 165 2094 771 183 42 CC and',\n",
              " 'a01-007u-01-00 ok 166 346 951 432 58 NNS Peeresses',\n",
              " 'a01-007u-01-01 ok 166 862 966 217 42 HV have',\n",
              " 'a01-007u-01-02 ok 166 1154 958 195 50 BEN been',\n",
              " 'a01-007u-01-03 ok 166 1400 950 335 57 VBN created',\n",
              " 'a01-007u-01-04 ok 166 1758 989 9 10 . .',\n",
              " 'a01-007u-01-05 ok 166 1851 946 171 55 AP Most',\n",
              " 'a01-007u-01-06 ok 166 2102 947 249 64 NN Labour',\n",
              " 'a01-007u-02-00 ok 167 366 1127 406 58 NN sentiment',\n",
              " 'a01-007u-02-01 ok 167 838 1128 264 54 MD would',\n",
              " 'a01-007u-02-02 ok 167 1171 1125 146 67 RB still',\n",
              " 'a01-007u-02-03 ok 167 1402 1117 301 76 VB favour',\n",
              " 'a01-007u-02-04 ok 167 1766 1132 126 46 ATI the',\n",
              " 'a01-007u-02-05 ok 167 1957 1115 341 69 NN abolition',\n",
              " 'a01-007u-03-00 ok 168 339 1290 86 87 INO of',\n",
              " 'a01-007u-03-01 ok 168 496 1302 128 55 ATI the',\n",
              " 'a01-007u-03-02 ok 168 690 1313 276 50 NPL House',\n",
              " 'a01-007u-03-03 ok 168 1032 1293 70 68 INO of',\n",
              " 'a01-007u-03-04 ok 168 1167 1309 225 53 NPTS Lords',\n",
              " 'a01-007u-03-05 ok 168 1400 1346 15 33 , ,',\n",
              " 'a01-007u-03-06 ok 168 1484 1301 150 57 CC but',\n",
              " 'a01-007u-03-07 ok 168 1707 1293 227 64 CS while',\n",
              " 'a01-007u-03-08 ok 168 1988 1291 61 62 PP3 it',\n",
              " 'a01-007u-03-09 ok 168 2113 1286 263 67 VBZ remains',\n",
              " 'a01-007u-04-00 ok 166 342 1489 337 56 NN Labour',\n",
              " 'a01-007u-04-01 ok 166 777 1495 133 46 HVZ has',\n",
              " 'a01-007u-04-02 ok 166 979 1488 85 51 TO to',\n",
              " 'a01-007u-04-03 ok 166 1142 1491 206 46 HV have',\n",
              " 'a01-007u-04-04 ok 166 1394 1501 101 34 AT an',\n",
              " 'a01-007u-04-05 ok 166 1575 1462 415 72 JJ adequate',\n",
              " 'a01-007u-04-06 ok 166 2071 1457 237 66 NN number',\n",
              " 'a01-007u-05-00 ok 166 343 1662 80 79 INO of',\n",
              " 'a01-007u-05-01 ok 166 495 1667 375 59 NNS members',\n",
              " 'a01-007u-05-02 ok 166 900 1711 8 7 . .',\n",
              " 'a01-007u-05-03 ok 166 965 1651 189 60 ATI THE',\n",
              " 'a01-007u-05-04 ok 166 1259 1662 161 53 CD two',\n",
              " 'a01-007u-05-05 ok 166 1506 1657 197 57 JJB rival',\n",
              " 'a01-007u-05-06 ok 166 1807 1651 246 68 JNP African',\n",
              " 'a01-007u-06-00 ok 166 342 1846 422 64 JJ Nationalist',\n",
              " 'a01-007u-06-01 ok 166 823 1833 325 64 NNS Parties',\n",
              " 'a01-007u-06-02 ok 166 1226 1834 84 75 INO of',\n",
              " 'a01-007u-06-03 ok 166 1397 1840 393 63 NP Northern',\n",
              " 'a01-007u-06-04 ok 166 1833 1833 444 74 NP Rhodesia',\n",
              " 'a01-007u-07-00 ok 168 343 2027 210 58 HV have',\n",
              " 'a01-007u-07-01 ok 168 637 2033 333 63 VBN agreed',\n",
              " 'a01-007u-07-02 ok 168 1076 2024 90 58 TO to',\n",
              " 'a01-007u-07-03 ok 168 1223 2026 128 70 VB get',\n",
              " 'a01-007u-07-04 ok 168 1435 2024 352 79 RB together',\n",
              " 'a01-007u-07-05 ok 168 1881 2030 80 48 TO to',\n",
              " 'a01-007u-07-06 ok 168 2032 2012 226 70 VB face',\n",
              " 'a01-007u-08-00 ok 167 342 2211 162 52 ATI the',\n",
              " 'a01-007u-08-01 ok 167 559 2218 495 70 NN challenge',\n",
              " 'a01-007u-08-02 ok 167 1129 2200 152 82 IN from',\n",
              " 'a01-007u-08-03 ok 167 1374 2196 158 59 NPT Sir',\n",
              " 'a01-007u-08-04 ok 167 1572 2188 184 93 NP Roy',\n",
              " 'a01-007u-08-05 ok 167 1827 2206 425 78 NP Welensky',\n",
              " 'a01-007u-08-06 ok 167 2271 2269 27 28 , ,',\n",
              " 'a01-007u-09-00 ok 169 354 2383 185 61 ATI the',\n",
              " 'a01-007u-09-01 ok 169 606 2386 417 57 JJ Federal',\n",
              " 'a01-007u-09-02 ok 169 1132 2371 405 73 NPT Premier',\n",
              " 'a01-007u-09-03 ok 169 1561 2434 10 11 . .',\n",
              " 'a01-007x-00-00 ok 174 356 874 195 82 IN Since',\n",
              " 'a01-007x-00-01 ok 174 608 897 178 72 CD 1958',\n",
              " 'a01-007x-00-02 ok 174 811 960 17 36 , ,',\n",
              " 'a01-007x-00-03 ok 174 875 895 96 70 CD 13',\n",
              " 'a01-007x-00-04 ok 174 990 884 249 91 NN Labour',\n",
              " 'a01-007x-00-05 ok 174 1281 888 124 138 NN life',\n",
              " 'a01-007x-00-06 ok 174 1450 890 159 79 NNS Peers',\n",
              " 'a01-007x-00-07 ok 174 1648 896 153 73 CC and',\n",
              " 'a01-007x-00-08 ok 174 1842 890 172 85 &GA #',\n",
              " 'a01-007x-01-00 ok 175 346 1051 305 94 NNS Peeresses',\n",
              " 'a01-007x-01-01 ok 175 716 1052 141 93 HV have',\n",
              " 'a01-007x-01-02 ok 175 910 1055 144 90 BEN been',\n",
              " 'a01-007x-01-03 ok 175 1110 1061 240 89 VBN created',\n",
              " 'a01-007x-01-04 ok 175 1363 1147 8 5 . .',\n",
              " 'a01-007x-01-05 ok 175 1412 1064 167 85 AP Most',\n",
              " 'a01-007x-01-06 ok 175 1607 1058 275 95 NN Labour',\n",
              " 'a01-007x-01-07 ok 175 1905 1067 363 83 NN sentiment',\n",
              " 'a01-007x-02-00 ok 178 357 1229 218 90 MD would',\n",
              " 'a01-007x-02-01 ok 178 636 1226 151 95 RB still',\n",
              " 'a01-007x-02-02 ok 178 813 1235 276 164 VB favour',\n",
              " 'a01-007x-02-03 ok 178 1141 1238 103 82 ATI the',\n",
              " 'a01-007x-02-04 ok 178 1329 1233 339 88 NN abolition',\n",
              " 'a01-007x-02-05 ok 178 1726 1238 82 127 INO of',\n",
              " 'a01-007x-02-06 ok 178 1827 1242 92 82 ATI the',\n",
              " 'a01-007x-02-07 ok 178 1959 1246 215 78 NPL House',\n",
              " 'a01-007x-03-00 ok 171 368 1409 73 131 INO of',\n",
              " 'a01-007x-03-01 ok 171 476 1393 187 101 NPTS Lords',\n",
              " 'a01-007x-03-02 ok 171 705 1489 14 27 , ,',\n",
              " 'a01-007x-03-03 ok 171 751 1401 142 95 CC but',\n",
              " 'a01-007x-03-04 ok 171 942 1409 194 95 CS while',\n",
              " 'a01-007x-03-05 ok 171 1205 1418 78 84 PP3 it',\n",
              " 'a01-007x-03-06 ok 171 1316 1441 300 64 VBZ remains',\n",
              " 'a01-007x-03-07 ok 171 1683 1403 265 106 NN Labour',\n",
              " 'a01-007x-03-08 ok 171 1976 1416 102 84 HVZ has',\n",
              " 'a01-007x-03-09 ok 171 2119 1423 72 76 TO to',\n",
              " 'a01-007x-04-00 ok 166 337 1587 154 93 HV have',\n",
              " 'a01-007x-04-01 ok 166 596 1630 93 43 AT an',\n",
              " 'a01-007x-04-02 ok 166 760 1587 333 123 JJ adequate',\n",
              " 'a01-007x-04-03 ok 166 1139 1601 278 83 NN number',\n",
              " 'a01-007x-04-04 ok 166 1473 1596 85 138 INO of',\n",
              " 'a01-007x-04-05 ok 166 1587 1602 301 84 NNS members',\n",
              " 'a01-007x-04-06 ok 166 1933 1681 13 12 . .',\n",
              " 'a01-007x-04-07 ok 166 1968 1613 170 80 ATI THE',\n",
              " 'a01-007x-05-00 ok 174 325 1767 142 88 CD two',\n",
              " 'a01-007x-05-01 ok 174 520 1777 168 84 JJB rival',\n",
              " 'a01-007x-05-02 ok 174 778 1776 270 126 JNP African',\n",
              " 'a01-007x-05-03 ok 174 1114 1767 429 93 JJ Nationalist',\n",
              " 'a01-007x-05-04 ok 174 1600 1773 237 95 NNS Parties',\n",
              " 'a01-007x-05-05 ok 174 1887 1785 82 125 INO of',\n",
              " 'a01-007x-05-06 ok 174 1986 1779 307 101 NP Northern',\n",
              " 'a01-007x-06-00 ok 178 337 1934 284 88 NP Rhodesia',\n",
              " 'a01-007x-06-01 ok 178 698 1936 147 86 HV have',\n",
              " 'a01-007x-06-02 ok 178 898 1948 205 126 VBN agreed',\n",
              " 'a01-007x-06-03 ok 178 1142 1958 84 74 TO to',\n",
              " 'a01-007x-06-04 ok 178 1248 1950 122 132 VB get',\n",
              " 'a01-007x-06-05 ok 178 1405 1952 251 138 RB together',\n",
              " 'a01-007x-06-06 ok 178 1706 1971 64 73 TO to',\n",
              " 'a01-007x-06-07 ok 178 1772 1950 161 146 VB face',\n",
              " 'a01-007x-06-08 ok 178 1987 1969 101 82 ATI the',\n",
              " 'a01-007x-07-00 ok 174 331 2118 318 167 NN challenge',\n",
              " 'a01-007x-07-01 ok 174 716 2114 163 146 IN from',\n",
              " 'a01-007x-07-02 ok 174 986 2114 101 86 NPT Sir',\n",
              " 'a01-007x-07-03 ok 174 1133 2103 115 156 NP Roy',\n",
              " 'a01-007x-07-04 ok 174 1290 2113 292 160 NP Welensky',\n",
              " 'a01-007x-07-05 ok 174 1599 2212 14 26 , ,',\n",
              " 'a01-007x-07-06 ok 174 1640 2137 116 77 ATI the',\n",
              " 'a01-007x-07-07 ok 174 1812 2128 263 83 JJ Federal',\n",
              " 'a01-007x-07-08 ok 174 2103 2128 226 93 NPT Premier',\n",
              " 'a01-007x-07-09 ok 174 2309 2224 9 7 . .',\n",
              " 'a01-011-00-00 ok 182 317 727 230 84 NNS Delegates',\n",
              " 'a01-011-00-01 ok 182 574 721 151 88 IN from',\n",
              " 'a01-011-00-02 ok 182 752 731 76 62 NPT Mr.',\n",
              " 'a01-011-00-03 ok 182 844 719 183 74 NP Kenneth',\n",
              " \"a01-011-00-04 ok 182 1052 726 228 65 NP$ Kaunda's\",\n",
              " 'a01-011-00-05 ok 182 1313 729 182 62 JJ United',\n",
              " 'a01-011-00-06 ok 182 1514 728 266 62 JJ National',\n",
              " 'a01-011-00-07 ok 182 1803 725 340 90 NN Independence',\n",
              " 'a01-011-01-00 err 182 323 896 160 102 NN Party',\n",
              " 'a01-011-01-01 err 182 501 896 33 81 ( (',\n",
              " 'a01-011-01-02 err 182 540 910 211 86 CD 280,000',\n",
              " 'a01-011-01-03 err 182 776 915 227 61 NNS members',\n",
              " 'a01-011-01-04 err 182 998 911 22 84 ) )',\n",
              " 'a01-011-01-05 err 182 1035 914 119 60 CC and',\n",
              " 'a01-011-01-06 err 182 1162 917 78 58 NPT Mr.',\n",
              " 'a01-011-01-07 err 182 1256 916 170 89 NP Harry',\n",
              " \"a01-011-01-08 err 182 1449 900 570 71 NP$ Nkumbula's\",\n",
              " 'a01-011-01-09 err 182 1885 903 5 9 JNP African',\n",
              " 'a01-011-02-00 ok 182 300 1081 301 87 JJ National',\n",
              " 'a01-011-02-01 ok 182 633 1095 252 81 NN Congress',\n",
              " 'a01-011-02-02 ok 182 905 1086 34 66 ( (',\n",
              " 'a01-011-02-03 ok 182 940 1089 209 68 CD 400,000',\n",
              " 'a01-011-02-04 ok 182 1139 1081 36 71 ) )',\n",
              " 'a01-011-02-05 ok 182 1191 1083 132 67 MD will',\n",
              " 'a01-011-02-06 ok 182 1357 1080 153 68 VB meet',\n",
              " 'a01-011-02-07 ok 182 1548 1090 80 57 IN in',\n",
              " 'a01-011-02-08 ok 182 1675 1084 217 66 NP London',\n",
              " 'a01-011-02-09 ok 182 1916 1077 184 104 NR today',\n",
              " 'a01-011-03-00 ok 182 303 1255 68 70 TO to',\n",
              " 'a01-011-03-01 ok 182 405 1255 250 87 VB discuss',\n",
              " 'a01-011-03-02 ok 182 686 1284 48 38 AT a',\n",
              " 'a01-011-03-03 ok 182 773 1272 256 55 JJ common',\n",
              " 'a01-011-03-04 ok 182 1073 1281 195 50 NN course',\n",
              " 'a01-011-03-05 ok 182 1301 1253 65 76 INO of',\n",
              " 'a01-011-03-06 ok 182 1407 1253 198 79 NN action',\n",
              " 'a01-011-03-07 ok 182 1611 1321 8 7 . .',\n",
              " 'a01-011-03-08 ok 182 1643 1257 125 71 NPT Sir',\n",
              " 'a01-011-03-09 ok 182 1812 1254 135 111 NP Roy',\n",
              " 'a01-011-03-10 ok 182 1978 1257 48 67 BEZ is',\n",
              " 'a01-011-04-00 ok 182 304 1435 268 94 RB violently',\n",
              " 'a01-011-04-01 ok 182 617 1436 218 93 VBN opposed',\n",
              " 'a01-011-04-02 ok 182 851 1437 83 71 IN to',\n",
              " 'a01-011-04-03 ok 182 961 1442 242 75 NNPS Africans',\n",
              " 'a01-011-04-04 ok 182 1234 1447 208 96 VBG getting',\n",
              " 'a01-011-04-05 ok 182 1468 1475 75 37 AT an',\n",
              " 'a01-011-04-06 ok 182 1572 1444 171 66 JJ elected',\n",
              " 'a01-011-04-07 ok 182 1761 1435 268 98 NN majority',\n",
              " 'a01-011-05-00 ok 182 304 1615 63 77 IN in',\n",
              " 'a01-011-05-01 ok 182 396 1622 249 68 NP Northern',\n",
              " 'a01-011-05-02 ok 182 685 1614 318 83 NP Rhodesia',\n",
              " 'a01-011-05-03 ok 182 1004 1684 12 36 , ,',\n",
              " 'a01-011-05-04 ok 182 1028 1618 136 75 CC but',\n",
              " 'a01-011-05-05 ok 182 1184 1618 117 75 ATI the',\n",
              " 'a01-011-05-06 ok 182 1337 1627 251 76 JJ Colonial',\n",
              " 'a01-011-05-07 ok 182 1639 1633 306 87 NPT Secretary',\n",
              " 'a01-011-05-08 ok 182 1955 1672 9 28 , ,',\n",
              " 'a01-011-06-00 ok 182 306 1794 75 67 NPT Mr.',\n",
              " 'a01-011-06-01 ok 182 404 1807 134 70 NP Iain',\n",
              " 'a01-011-06-02 ok 182 578 1794 244 79 NP Macleod',\n",
              " 'a01-011-06-03 ok 182 825 1853 10 34 , ,',\n",
              " 'a01-011-06-04 ok 182 855 1807 60 65 BEZ is',\n",
              " 'a01-011-06-05 ok 182 960 1809 291 96 VBG insisting',\n",
              " 'a01-011-06-06 ok 182 1289 1829 90 43 IN on',\n",
              " 'a01-011-06-07 ok 182 1410 1833 55 42 AT a',\n",
              " 'a01-011-06-08 ok 182 1496 1806 203 100 NN policy',\n",
              " 'a01-011-06-09 ok 182 1722 1807 66 68 INO of',\n",
              " 'a01-011-06-10 ok 182 1825 1803 226 99 NN change',\n",
              " 'a01-011-06-11 ok 182 2055 1854 14 11 . .',\n",
              " 'a01-011u-00-00 ok 166 318 766 490 75 NNS Delegates',\n",
              " 'a01-011u-00-01 ok 166 895 749 158 73 IN from',\n",
              " 'a01-011u-00-02 ok 166 1152 755 126 66 NPT Mr.',\n",
              " 'a01-011u-00-03 ok 166 1372 754 347 58 NP Kenneth',\n",
              " \"a01-011u-00-04 ok 166 1822 724 381 79 NP$ Kaunda's\",\n",
              " 'a01-011u-01-00 ok 168 340 947 289 63 JJ United',\n",
              " 'a01-011u-01-01 ok 168 743 946 348 64 JJ National',\n",
              " 'a01-011u-01-02 ok 168 1189 946 586 62 NN Independence',\n",
              " 'a01-011u-01-03 ok 168 1825 923 291 82 NN Party',\n",
              " 'a01-011u-02-00 ok 168 308 1128 17 82 ( (',\n",
              " 'a01-011u-02-01 ok 168 345 1134 338 62 CD 280,000',\n",
              " 'a01-011u-02-02 ok 168 725 1134 351 53 NNS members',\n",
              " 'a01-011u-02-03 ok 168 1112 1122 19 72 ) )',\n",
              " 'a01-011u-02-04 ok 168 1188 1135 169 42 CC and',\n",
              " 'a01-011u-02-05 ok 168 1463 1127 134 50 NPT Mr.',\n",
              " 'a01-011u-02-06 ok 168 1707 1119 245 81 NP Harry',\n",
              " \"a01-011u-02-07 ok 168 2020 1096 375 87 NP$ Nkumbula's\",\n",
              " 'a01-011u-03-00 ok 168 328 1301 344 69 JNP African',\n",
              " 'a01-011u-03-01 ok 168 755 1304 392 57 JJ National',\n",
              " 'a01-011u-03-02 ok 168 1217 1299 366 77 NN Congress',\n",
              " 'a01-011u-03-03 ok 168 1639 1284 20 98 ( (',\n",
              " 'a01-011u-03-04 ok 168 1675 1311 378 59 CD 400,000',\n",
              " 'a01-011u-03-05 ok 168 2109 1286 18 83 ) )',\n",
              " 'a01-011u-03-06 ok 168 2192 1297 149 61 MD will',\n",
              " 'a01-011u-04-00 ok 166 343 1490 211 56 VB meet',\n",
              " 'a01-011u-04-01 ok 166 678 1479 72 60 IN in',\n",
              " 'a01-011u-04-02 ok 166 854 1492 263 49 NP London',\n",
              " 'a01-011u-04-03 ok 166 1182 1482 250 69 NR today',\n",
              " 'a01-011u-04-04 ok 166 1476 1480 79 54 TO to',\n",
              " 'a01-011u-04-05 ok 166 1622 1472 321 62 VB discuss',\n",
              " 'a01-011u-04-06 ok 166 2009 1500 60 29 AT a',\n",
              " 'a01-011u-04-07 ok 166 2107 1497 306 37 JJ common',\n",
              " 'a01-011u-05-00 ok 167 333 1682 289 47 NN course',\n",
              " 'a01-011u-05-01 ok 167 700 1654 81 74 INO of',\n",
              " 'a01-011u-05-02 ok 167 822 1660 244 57 NN action',\n",
              " 'a01-011u-05-03 ok 167 1088 1706 10 11 . .',\n",
              " 'a01-011u-05-04 ok 167 1205 1650 149 58 NPT Sir',\n",
              " 'a01-011u-05-05 ok 167 1413 1639 219 91 NP Roy',\n",
              " 'a01-011u-05-06 ok 167 1711 1647 48 66 BEZ is',\n",
              " 'a01-011u-05-07 ok 167 1830 1648 389 109 RB violently',\n",
              " 'a01-011u-06-00 ok 167 319 1846 360 78 VBN opposed',\n",
              " 'a01-011u-06-01 ok 167 774 1849 81 57 IN to',\n",
              " 'a01-011u-06-02 ok 167 974 1836 334 87 NNPS Africans',\n",
              " 'a01-011u-06-03 ok 167 1411 1828 275 100 VBG getting',\n",
              " 'a01-011u-06-04 ok 167 1726 1837 157 49 AT an',\n",
              " 'a01-011u-06-05 ok 167 1964 1829 336 60 JJ elected',\n",
              " 'a01-011u-07-00 ok 168 331 2014 358 104 NN majority',\n",
              " 'a01-011u-07-01 ok 168 771 2019 78 61 IN in',\n",
              " 'a01-011u-07-02 ok 168 927 2018 364 63 NP Northern',\n",
              " 'a01-011u-07-03 ok 168 1348 2007 418 62 NP Rhodesia',\n",
              " 'a01-011u-07-04 ok 168 1793 2060 16 30 , ,',\n",
              " 'a01-011u-07-05 ok 168 1878 2010 153 61 CC but',\n",
              " 'a01-011u-07-06 ok 168 2107 2010 161 58 ATI the',\n",
              " 'a01-011u-08-00 ok 166 357 2195 362 68 JJ Colonial',\n",
              " 'a01-011u-08-01 ok 166 839 2194 449 82 NPT Secretary',\n",
              " 'a01-011u-08-02 ok 166 1317 2239 16 38 , ,',\n",
              " 'a01-011u-08-03 ok 166 1428 2198 150 54 NPT Mr.',\n",
              " 'a01-011u-08-04 ok 166 1646 2193 159 62 NP Iain',\n",
              " 'a01-011u-08-05 ok 166 1917 2193 367 62 NP Macleod',\n",
              " 'a01-011u-08-06 ok 166 2300 2242 13 33 , ,',\n",
              " 'a01-011u-09-00 ok 167 370 2365 55 75 BEZ is',\n",
              " 'a01-011u-09-01 ok 167 534 2357 371 102 VBG insisting',\n",
              " 'a01-011u-09-02 ok 167 984 2402 87 34 IN on',\n",
              " 'a01-011u-09-03 ok 167 1138 2400 54 30 AT a',\n",
              " 'a01-011u-09-04 ok 167 1305 2372 250 91 NN policy',\n",
              " 'a01-011u-09-05 ok 167 1590 2362 99 70 INO of',\n",
              " 'a01-011u-09-06 ok 167 1734 2379 356 65 NN change',\n",
              " 'a01-011u-09-07 ok 167 2122 2402 10 9 . .',\n",
              " 'a01-011x-00-00 err 168 344 739 342 129 NNS Delegates',\n",
              " 'a01-011x-00-01 err 168 735 734 168 121 IN from',\n",
              " 'a01-011x-00-02 err 168 961 720 93 88 NPT Mr.',\n",
              " 'a01-011x-00-03 err 168 1124 730 248 80 NP Kenneth',\n",
              " \"a01-011x-00-04 err 168 1423 732 317 78 NP$ Kaunda's\",\n",
              " 'a01-011x-00-05 err 168 1795 720 230 90 JJ United',\n",
              " 'a01-011x-01-00 err 168 355 847 302 70 JJ National',\n",
              " 'a01-011x-01-01 err 168 727 849 466 83 NN Independence',\n",
              " 'a01-011x-01-02 err 168 1226 820 254 130 NN Party',\n",
              " 'a01-011x-01-03 err 168 1522 837 28 77 ( (',\n",
              " 'a01-011x-01-04 err 168 1565 837 286 69 CD 280,000',\n",
              " 'a01-011x-01-05 err 168 1903 841 144 54 NNS members',\n",
              " 'a01-011x-01-06 err 168 2045 819 149 85 ) )',\n",
              " 'a01-011x-02-00 err 165 344 948 128 61 CC and',\n",
              " 'a01-011x-02-01 err 165 576 936 93 75 NPT Mr.',\n",
              " 'a01-011x-02-02 err 165 720 940 198 87 NP Harry',\n",
              " \"a01-011x-02-03 err 165 975 931 419 82 NP$ Nkumbula's\",\n",
              " 'a01-011x-02-04 err 165 1443 928 286 107 JNP African',\n",
              " 'a01-011x-02-05 err 165 1786 928 323 71 JJ National',\n",
              " 'a01-011x-03-00 err 168 336 1031 277 144 NN Congress',\n",
              " 'a01-011x-03-01 err 168 678 1042 29 72 ( (',\n",
              " 'a01-011x-03-02 err 168 722 1015 282 100 CD 400,000',\n",
              " 'a01-011x-03-03 err 168 1038 1042 72 54 ) )',\n",
              " 'a01-011x-03-04 err 168 1113 1018 50 81 MD will',\n",
              " 'a01-011x-03-05 err 168 1204 1025 162 77 VB meet',\n",
              " 'a01-011x-03-06 err 168 1425 1029 63 72 IN in',\n",
              " 'a01-011x-03-07 err 168 1570 1038 206 68 NP London',\n",
              " 'a01-011x-03-08 err 168 1864 1033 190 86 NR today',\n",
              " 'a01-011x-04-00 err 168 347 1149 69 64 TO to',\n",
              " 'a01-011x-04-01 err 168 505 1135 256 79 VB discuss',\n",
              " 'a01-011x-04-02 err 168 839 1163 37 48 AT a',\n",
              " 'a01-011x-04-03 err 168 934 1153 292 51 JJ common',\n",
              " 'a01-011x-04-04 err 168 1275 1151 211 48 NN course',\n",
              " 'a01-011x-04-05 err 168 1545 1127 81 95 INO of',\n",
              " 'a01-011x-04-06 err 168 1671 1129 227 61 NN action',\n",
              " 'a01-011x-04-07 err 168 1936 1121 100 93 . .',\n",
              " 'a01-011x-05-00 err 170 343 1239 116 74 NPT Sir',\n",
              " 'a01-011x-05-01 err 170 508 1238 137 140 NP Roy',\n",
              " 'a01-011x-05-02 err 170 690 1240 43 77 BEZ is',\n",
              " 'a01-011x-05-03 err 170 790 1238 270 90 RB violently',\n",
              " 'a01-011x-05-04 err 170 1126 1247 271 89 VBN opposed',\n",
              " 'a01-011x-05-05 err 170 1456 1247 65 65 IN to',\n",
              " 'a01-011x-05-06 err 170 1578 1238 304 115 NNPS Africans',\n",
              " 'a01-011x-06-00 err 165 333 1331 206 190 VBG getting',\n",
              " 'a01-011x-06-01 err 165 667 1360 87 45 AT an',\n",
              " 'a01-011x-06-02 err 165 806 1330 232 84 JJ elected',\n",
              " 'a01-011x-06-03 err 165 1106 1338 307 100 NN majority',\n",
              " 'a01-011x-06-04 err 165 1451 1347 57 69 IN in',\n",
              " 'a01-011x-06-05 err 165 1579 1342 317 76 NP Northern',\n",
              " 'a01-011x-07-00 err 163 422 1457 240 76 NP Rhodesia',\n",
              " 'a01-011x-07-01 err 163 664 1521 16 35 , ,',\n",
              " 'a01-011x-07-02 err 163 721 1449 134 86 CC but',\n",
              " 'a01-011x-07-03 err 163 893 1468 89 67 ATI the',\n",
              " 'a01-011x-07-04 err 163 1059 1422 276 113 JJ Colonial',\n",
              " 'a01-011x-07-05 err 163 1390 1459 352 157 NPT Secretary',\n",
              " 'a01-011x-07-06 err 163 1754 1509 16 37 , ,',\n",
              " 'a01-011x-07-07 err 163 1850 1448 185 84 NPT Mr.',\n",
              " 'a01-011x-07-08 err 163 2025 1456 120 71 NP Iain',\n",
              " 'a01-011x-08-00 ok 161 366 1562 249 87 NP Macleod',\n",
              " 'a01-011x-08-01 ok 161 626 1635 11 26 , ,',\n",
              " 'a01-011x-08-02 ok 161 672 1569 47 82 BEZ is',\n",
              " 'a01-011x-08-03 ok 161 770 1563 227 163 VBG insisting',\n",
              " 'a01-011x-08-04 ok 161 1050 1595 79 48 IN on',\n",
              " 'a01-011x-08-05 ok 161 1179 1590 40 49 AT a',\n",
              " 'a01-011x-08-06 ok 161 1271 1575 213 165 NN policy',\n",
              " 'a01-011x-08-07 ok 161 1551 1574 74 102 INO of',\n",
              " 'a01-011x-08-08 ok 161 1737 1562 199 200 NN change',\n",
              " 'a01-011x-08-09 ok 161 1952 1627 9 11 . .',\n",
              " 'a01-014-00-00 ok 182 356 725 109 74 NN Sir',\n",
              " \"a01-014-00-01 ok 182 540 733 180 101 NP$ Roy's\",\n",
              " 'a01-014-00-02 ok 182 817 722 273 71 JJ United',\n",
              " 'a01-014-00-03 ok 182 1148 721 312 62 JJ Federal',\n",
              " 'a01-014-00-04 ok 182 1529 723 211 106 NN Party',\n",
              " 'a01-014-00-05 ok 182 1793 717 65 64 BEZ is',\n",
              " 'a01-014-00-06 ok 182 1941 719 424 111 VBG boycotting',\n",
              " 'a01-014-01-00 ok 182 365 905 126 61 ATI the',\n",
              " 'a01-014-01-01 ok 182 570 902 298 59 NP London',\n",
              " 'a01-014-01-02 ok 182 931 894 254 60 NNS talks',\n",
              " 'a01-014-01-03 ok 182 1253 921 101 30 IN on',\n",
              " 'a01-014-01-04 ok 182 1396 888 148 68 ATI the',\n",
              " \"a01-014-01-05 ok 182 1627 892 571 79 NN$ Protectorate's\",\n",
              " 'a01-014-02-00 ok 182 380 1052 258 116 NN future',\n",
              " 'a01-014-02-01 ok 182 678 1109 14 23 . .',\n",
              " 'a01-014-02-02 ok 182 725 1050 205 81 VBD Said',\n",
              " 'a01-014-02-03 ok 182 1000 1071 119 60 NPT Mr.',\n",
              " 'a01-014-02-04 ok 182 1180 1048 438 82 NP Nkumbula',\n",
              " 'a01-014-02-05 ok 182 1685 1062 170 64 AP last',\n",
              " 'a01-014-02-06 ok 182 1930 1055 253 107 NN night',\n",
              " 'a01-014-02-07 ok 182 2213 1087 7 53 : :',\n",
              " 'a01-014-03-00 ok 182 384 1286 20 37 *\\' \"',\n",
              " 'a01-014-03-01 ok 182 432 1254 92 52 PP1AS We',\n",
              " 'a01-014-03-02 ok 182 570 1241 204 67 VB want',\n",
              " 'a01-014-03-03 ok 182 830 1245 95 55 TO to',\n",
              " 'a01-014-03-04 ok 182 992 1237 289 73 VB discuss',\n",
              " 'a01-014-03-05 ok 182 1360 1230 214 80 WDT what',\n",
              " 'a01-014-03-06 ok 182 1618 1243 99 59 TO to',\n",
              " 'a01-014-03-07 ok 182 1743 1239 96 64 DO do',\n",
              " 'a01-014-03-08 ok 182 1869 1224 82 130 CS if',\n",
              " 'a01-014-03-09 ok 182 1994 1238 135 67 ATI the',\n",
              " 'a01-014-04-00 ok 182 362 1377 265 104 JNP British',\n",
              " 'a01-014-04-01 ok 182 695 1399 450 108 NN Government',\n",
              " 'a01-014-04-02 ok 182 1212 1400 206 106 VBZ gives',\n",
              " 'a01-014-04-03 ok 182 1474 1392 94 75 RP in',\n",
              " 'a01-014-04-04 ok 182 1585 1400 89 62 IN to',\n",
              " 'a01-014-04-05 ok 182 1726 1386 113 83 NPT Sir',\n",
              " 'a01-014-04-06 ok 182 1886 1407 145 91 NP Roy',\n",
              " 'a01-014-04-07 ok 182 2091 1387 180 73 CC and',\n",
              " 'a01-014-05-00 ok 182 350 1584 132 68 ATI the',\n",
              " 'a01-014-05-01 ok 182 520 1584 245 66 NNS talks',\n",
              " 'a01-014-05-02 ok 182 838 1579 157 104 VB fall',\n",
              " 'a01-014-05-03 ok 182 1061 1563 365 114 RP through',\n",
              " 'a01-014-05-04 ok 182 1448 1611 9 21 . .',\n",
              " 'a01-014-05-05 ok 182 1499 1577 223 60 EX There',\n",
              " 'a01-014-05-06 ok 182 1779 1598 149 40 BER are',\n",
              " 'a01-014-05-07 ok 182 1998 1572 280 75 VBN bound',\n",
              " 'a01-014-06-00 err 182 351 1754 77 77 TO to',\n",
              " 'a01-014-06-01 err 182 463 1750 90 74 BE be',\n",
              " 'a01-014-06-02 err 182 625 1729 614 106 NNS demonstrations',\n",
              " 'a01-014-06-03 err 182 1263 1748 11 30 . .',\n",
              " 'a01-014-06-04 err 182 1271 1750 24 71 **\\' \"',\n",
              " 'a01-014-06-05 err 182 1345 1757 428 119 NR Yesterday',\n",
              " 'a01-014-06-06 err 182 1818 1753 125 84 NPT Sir',\n",
              " \"a01-014-06-07 err 182 1997 1759 225 107 NP$ Roy's\",\n",
              " 'a01-014-07-00 ok 182 361 1903 206 146 JJB chief',\n",
              " 'a01-014-07-01 ok 182 615 1904 189 100 NN aide',\n",
              " 'a01-014-07-02 ok 182 826 1975 10 36 , ,',\n",
              " 'a01-014-07-03 ok 182 882 1944 137 58 NPT Mr.',\n",
              " 'a01-014-07-04 ok 182 1060 1911 271 109 NP Julius',\n",
              " 'a01-014-07-05 ok 182 1400 1919 451 120 NP Greenfield',\n",
              " 'a01-014-07-06 ok 182 1891 1973 9 44 , ,',\n",
              " 'a01-014-07-07 ok 182 1915 1913 448 134 VBD telephoned',\n",
              " 'a01-014-08-00 ok 182 368 2119 117 86 PP$ his',\n",
              " 'a01-014-08-01 ok 182 535 2113 198 140 NN chief',\n",
              " 'a01-014-08-02 ok 182 780 2158 64 30 AT a',\n",
              " 'a01-014-08-03 ok 182 889 2126 233 135 NN report',\n",
              " 'a01-014-08-04 ok 182 1187 2163 96 29 IN on',\n",
              " 'a01-014-08-05 ok 182 1330 2115 125 88 PP$ his',\n",
              " 'a01-014-08-06 ok 182 1519 2133 248 71 NNS talks',\n",
              " 'a01-014-08-07 ok 182 1851 2115 213 95 IN with',\n",
              " 'a01-014-09-00 ok 182 369 2311 112 64 NPT Mr.',\n",
              " 'a01-014-09-01 ok 182 525 2288 476 94 NP Macmillan',\n",
              " 'a01-014-09-02 ok 182 1084 2314 95 61 IN at',\n",
              " 'a01-014-09-03 ok 182 1279 2317 390 126 NP Chequers',\n",
              " 'a01-014-09-04 ok 182 1716 2367 8 17 . .',\n",
              " 'a01-014u-00-00 ok 166 400 772 141 66 NN Sir',\n",
              " \"a01-014u-00-01 ok 166 596 733 259 112 NP$ Roy's\",\n",
              " 'a01-014u-00-02 ok 166 948 748 242 67 JJ United',\n",
              " 'a01-014u-00-03 ok 166 1251 747 339 63 JJ Federal',\n",
              " 'a01-014u-00-04 ok 166 1649 736 237 74 NN Party',\n",
              " 'a01-014u-00-05 ok 166 1929 728 62 61 BEZ is',\n",
              " 'a01-014u-01-00 ok 169 408 939 448 106 VBG boycotting',\n",
              " 'a01-014u-01-01 ok 169 905 943 164 52 ATI the',\n",
              " 'a01-014u-01-02 ok 169 1156 943 256 53 NP London',\n",
              " 'a01-014u-01-03 ok 169 1508 933 201 62 NNS talks',\n",
              " 'a01-014u-01-04 ok 169 1784 958 77 35 IN on',\n",
              " 'a01-014u-01-05 ok 169 1923 935 166 60 ATI the',\n",
              " \"a01-014u-02-00 err 167 356 1109 709 77 NN$ Protectorate's\",\n",
              " 'a01-014u-02-01 err 167 1058 1126 199 54 NN future',\n",
              " 'a01-014u-02-02 err 167 1298 1162 11 12 . .',\n",
              " 'a01-014u-02-03 err 167 1422 1114 216 63 VBD Said',\n",
              " 'a01-014u-02-04 err 167 1748 1116 124 58 NPT Mr.',\n",
              " 'a01-014u-02-05 err 167 1945 1108 390 71 NP Nkumbula',\n",
              " 'a01-014u-03-00 ok 169 378 1302 149 61 AP last',\n",
              " 'a01-014u-03-01 ok 169 600 1298 219 84 NN night',\n",
              " 'a01-014u-03-02 ok 169 857 1320 15 23 : :',\n",
              " 'a01-014u-03-03 ok 169 947 1340 22 27 *\\' \"',\n",
              " 'a01-014u-03-04 ok 169 1049 1307 112 51 PP1AS We',\n",
              " 'a01-014u-03-05 ok 169 1209 1292 168 64 VB want',\n",
              " 'a01-014u-03-06 ok 169 1434 1297 78 56 TO to',\n",
              " 'a01-014u-03-07 ok 169 1583 1293 276 63 VB discuss',\n",
              " 'a01-014u-03-08 ok 169 1923 1293 198 63 WDT what',\n",
              " 'a01-014u-03-09 ok 169 2185 1295 76 54 TO to',\n",
              " 'a01-014u-04-00 ok 166 358 1492 93 49 DO do',\n",
              " 'a01-014u-04-01 ok 166 533 1471 71 70 CS if',\n",
              " 'a01-014u-04-02 ok 166 675 1484 161 52 ATI the',\n",
              " 'a01-014u-04-03 ok 166 888 1471 297 64 JNP British',\n",
              " 'a01-014u-04-04 ok 166 1293 1480 583 56 NNS demonstrations',\n",
              " 'a01-014u-04-05 ok 166 1885 1522 10 12 . .',\n",
              " 'a01-014u-04-06 ok 166 1935 1467 24 25 **\\' \"',\n",
              " 'a01-014u-05-00 ok 168 363 1656 435 86 NR Yesterday',\n",
              " 'a01-014u-05-01 ok 168 913 1655 150 57 NPT Sir',\n",
              " \"a01-014u-05-02 ok 168 1134 1644 252 89 NP$ Roy's\",\n",
              " 'a01-014u-05-03 ok 168 1473 1650 245 73 JJB chief',\n",
              " 'a01-014u-05-04 ok 168 1811 1666 189 50 NN aide',\n",
              " 'a01-014u-05-05 ok 168 2034 1709 9 25 , ,',\n",
              " 'a01-014u-05-06 ok 168 2114 1661 134 64 NPT Mr.',\n",
              " 'a01-014u-06-00 ok 169 352 1844 219 77 NP Julius',\n",
              " 'a01-014u-06-01 ok 169 671 1829 489 69 NP Greenfield',\n",
              " 'a01-014u-06-02 ok 169 1199 1874 11 39 , ,',\n",
              " 'a01-014u-06-03 ok 169 1292 1842 446 61 VBD telephoned',\n",
              " 'a01-014u-06-04 ok 169 1812 1835 115 57 PP$ his',\n",
              " 'a01-014u-06-05 ok 169 1994 1821 220 71 NN chief',\n",
              " 'a01-014u-07-00 ok 169 354 2043 55 35 AT a',\n",
              " 'a01-014u-07-01 ok 169 477 2015 260 70 NN report',\n",
              " 'a01-014u-07-02 ok 169 813 2047 99 38 IN on',\n",
              " 'a01-014u-07-03 ok 169 1010 2015 117 54 PP$ his',\n",
              " 'a01-014u-07-04 ok 169 1221 2017 180 55 NNS talks',\n",
              " 'a01-014u-07-05 ok 169 1477 2015 175 60 IN with',\n",
              " 'a01-014u-07-06 ok 169 1730 2015 120 66 NPT Mr.',\n",
              " 'a01-014u-07-07 ok 169 1912 2015 400 63 NP Macmillan',\n",
              " 'a01-014u-08-00 ok 165 369 2195 87 58 IN at',\n",
              " 'a01-014u-08-01 ok 165 593 2202 361 61 NP Chequers',\n",
              " 'a01-014u-08-02 ok 165 995 2238 11 9 . .',\n",
              " 'a01-014x-00-00 ok 197 365 859 126 118 NN Sir',\n",
              " \"a01-014x-00-01 ok 197 555 877 224 166 NP$ Roy's\",\n",
              " 'a01-014x-00-02 ok 197 827 885 252 85 JJ United',\n",
              " 'a01-014x-00-03 ok 197 1105 886 295 83 JJ Federal',\n",
              " 'a01-014x-00-04 ok 197 1439 888 218 142 NN Party',\n",
              " 'a01-014x-00-05 ok 197 1706 905 83 65 BEZ is',\n",
              " 'a01-014x-00-06 ok 197 1824 899 417 148 VBG boycotting',\n",
              " 'a01-014x-01-00 ok 193 347 1067 112 82 ATI the',\n",
              " 'a01-014x-01-01 ok 193 513 1060 291 91 NP London',\n",
              " 'a01-014x-01-02 ok 193 870 1067 217 82 NNS talks',\n",
              " 'a01-014x-01-03 ok 193 1124 1098 106 51 IN on',\n",
              " 'a01-014x-01-04 ok 193 1288 1085 122 60 ATI the',\n",
              " \"a01-014x-01-05 ok 193 1457 1061 605 96 NN$ Protectorate's\",\n",
              " 'a01-014x-02-00 ok 196 342 1230 253 159 NN future',\n",
              " 'a01-014x-02-01 ok 196 608 1311 8 7 . .',\n",
              " 'a01-014x-02-02 ok 196 687 1248 190 88 VBD Said',\n",
              " 'a01-014x-02-03 ok 196 930 1246 168 80 NPT Mr.',\n",
              " 'a01-014x-02-04 ok 196 1123 1235 469 96 NP Nkumbula',\n",
              " 'a01-014x-02-05 ok 196 1642 1243 175 75 AP last',\n",
              " 'a01-014x-02-06 ok 196 1854 1253 245 131 NN night',\n",
              " 'a01-014x-02-07 ok 196 2139 1321 8 7 : :',\n",
              " 'a01-014x-03-00 ok 189 367 1402 27 40 *\\' \"',\n",
              " 'a01-014x-03-01 ok 189 419 1390 90 116 PP1AS We',\n",
              " 'a01-014x-03-02 ok 189 559 1440 193 65 VB want',\n",
              " 'a01-014x-03-03 ok 189 809 1425 44 75 TO to',\n",
              " 'a01-014x-03-04 ok 189 911 1435 313 67 VB discuss',\n",
              " 'a01-014x-03-05 ok 189 1237 1429 216 75 WDT what',\n",
              " 'a01-014x-03-06 ok 189 1494 1443 71 67 TO to',\n",
              " 'a01-014x-03-07 ok 189 1602 1438 99 69 DO do',\n",
              " 'a01-014x-03-08 ok 189 1722 1434 94 118 CS if',\n",
              " 'a01-014x-03-09 ok 189 1884 1452 129 64 ATI the',\n",
              " 'a01-014x-04-00 ok 187 314 1581 311 96 JNP British',\n",
              " 'a01-014x-04-01 ok 187 670 1588 540 181 NN Government',\n",
              " 'a01-014x-04-02 ok 187 1235 1625 270 125 VBZ gives',\n",
              " 'a01-014x-04-03 ok 187 1502 1623 93 61 RP in',\n",
              " 'a01-014x-04-04 ok 187 1653 1616 62 66 IN to',\n",
              " 'a01-014x-04-05 ok 187 1756 1593 126 86 NPT Sir',\n",
              " 'a01-014x-04-06 ok 187 1932 1597 201 145 NP Roy',\n",
              " 'a01-014x-05-00 ok 193 319 1771 163 79 CC and',\n",
              " 'a01-014x-05-01 ok 193 534 1789 115 63 ATI the',\n",
              " 'a01-014x-05-02 ok 193 726 1781 227 76 NNS talks',\n",
              " 'a01-014x-05-03 ok 193 977 1771 185 147 VB fall',\n",
              " 'a01-014x-05-04 ok 193 1202 1790 326 144 RP through',\n",
              " 'a01-014x-05-05 ok 193 1541 1870 10 6 . .',\n",
              " 'a01-014x-05-06 ok 193 1593 1779 219 85 EX There',\n",
              " 'a01-014x-05-07 ok 193 1850 1815 119 42 BER are',\n",
              " 'a01-014x-05-08 ok 193 2022 1795 259 71 VBN bound',\n",
              " 'a01-014x-06-00 ok 194 308 1939 65 83 TO to',\n",
              " 'a01-014x-06-01 ok 194 447 1959 77 80 BE be',\n",
              " 'a01-014x-06-02 ok 194 596 1976 640 79 NNS demonstrations',\n",
              " 'a01-014x-06-03 ok 194 1245 2054 5 6 . .',\n",
              " 'a01-014x-06-04 ok 194 1316 1961 26 28 **\\' \"',\n",
              " 'a01-014x-06-05 ok 194 1369 1973 475 167 NR Yesterday',\n",
              " 'a01-014x-06-06 ok 194 1900 1971 145 84 NPT Sir',\n",
              " \"a01-014x-06-07 ok 194 2080 1947 245 143 NP$ Roy's\",\n",
              " 'a01-014x-07-00 ok 188 317 2136 228 164 JJB chief',\n",
              " 'a01-014x-07-01 ok 188 593 2159 178 63 NN aide',\n",
              " 'a01-014x-07-02 ok 188 777 2217 35 42 , ,',\n",
              " 'a01-014x-07-03 ok 188 869 2136 144 85 NPT Mr.',\n",
              " 'a01-014x-07-04 ok 188 1023 2136 266 164 NP Julius',\n",
              " 'a01-014x-07-05 ok 188 1295 2143 459 161 NP Greenfield',\n",
              " 'a01-014x-07-06 ok 188 1732 2229 33 44 , ,',\n",
              " 'a01-014x-07-07 ok 188 1824 2155 460 128 VBD telephoned',\n",
              " 'a01-014x-08-00 ok 184 313 2308 121 91 PP$ his',\n",
              " 'a01-014x-08-01 ok 184 490 2325 224 83 NN chief',\n",
              " 'a01-014x-08-02 ok 184 771 2348 50 53 AT a',\n",
              " 'a01-014x-08-03 ok 184 877 2339 287 115 NN report',\n",
              " 'a01-014x-08-04 ok 184 1209 2359 116 51 IN on',\n",
              " 'a01-014x-08-05 ok 184 1364 2327 125 79 PP$ his',\n",
              " 'a01-014x-08-06 ok 184 1566 2344 231 72 NNS talks',\n",
              " 'a01-014x-08-07 ok 184 1850 2326 201 75 IN with',\n",
              " 'a01-014x-08-08 ok 184 2080 2308 161 97 NPT Mr.',\n",
              " 'a01-014x-09-00 ok 190 301 2476 507 95 NP Macmillan',\n",
              " 'a01-014x-09-01 ok 190 859 2499 101 68 IN at',\n",
              " 'a01-014x-09-02 ok 190 1035 2484 451 156 NP Chequers',\n",
              " 'a01-014x-09-03 ok 190 1452 2578 6 8 . .',\n",
              " 'a01-020-00-00 ok 176 352 903 91 75 NPT Mr.',\n",
              " 'a01-020-00-01 ok 176 518 908 284 65 NP Macleod',\n",
              " 'a01-020-00-02 ok 176 873 910 158 62 VBD went',\n",
              " 'a01-020-00-03 ok 176 1091 941 75 33 RP on',\n",
              " 'a01-020-00-04 ok 176 1225 913 125 60 IN with',\n",
              " 'a01-020-00-05 ok 176 1419 916 93 57 ATI the',\n",
              " 'a01-020-00-06 ok 176 1587 906 312 83 NN conference',\n",
              " 'a01-020-00-07 ok 176 1951 915 76 48 IN at',\n",
              " 'a01-020-01-00 ok 176 329 1087 297 76 NP Lancaster',\n",
              " 'a01-020-01-01 ok 176 709 1089 194 66 NPL House',\n",
              " 'a01-020-01-02 ok 176 962 1103 224 72 IN despite',\n",
              " 'a01-020-01-03 ok 176 1253 1096 99 65 ATI the',\n",
              " 'a01-020-01-04 ok 176 1410 1105 173 53 NN crisis',\n",
              " 'a01-020-01-05 ok 176 1638 1095 173 58 WDT which',\n",
              " 'a01-020-01-06 ok 176 1877 1082 142 64 HVD had',\n",
              " 'a01-020-02-00 ok 176 305 1277 219 59 VBN blown',\n",
              " 'a01-020-02-01 ok 176 574 1298 85 58 RP up',\n",
              " 'a01-020-02-02 ok 176 669 1329 7 4 . .',\n",
              " 'a01-020-02-03 ok 176 744 1273 70 63 PP3A He',\n",
              " 'a01-020-02-04 ok 176 875 1274 103 59 HVZ has',\n",
              " 'a01-020-02-05 ok 176 1044 1299 116 38 RN now',\n",
              " 'a01-020-02-06 ok 176 1222 1282 301 54 VBN revealed',\n",
              " 'a01-020-02-07 ok 176 1593 1275 91 56 PP$ his',\n",
              " 'a01-020-02-08 ok 176 1743 1273 113 84 JJ full',\n",
              " 'a01-020-02-09 ok 176 1894 1277 209 81 NNS plans',\n",
              " 'a01-020-03-00 ok 176 342 1448 45 65 IN to',\n",
              " 'a01-020-03-01 ok 176 452 1445 99 70 ATI the',\n",
              " 'a01-020-03-02 ok 176 626 1450 291 77 NNPS Africans',\n",
              " 'a01-020-03-03 ok 176 994 1463 140 48 CC and',\n",
              " 'a01-020-03-04 ok 176 1196 1448 230 67 NNS Liberals',\n",
              " 'a01-020-03-05 ok 176 1499 1455 322 112 VBG attending',\n",
              " 'a01-020-03-06 ok 176 1830 1512 8 6 . .',\n",
              " ...]"
            ]
          },
          "metadata": {},
          "execution_count": 7
        }
      ],
      "execution_count": null
    },
    {
      "cell_type": "code",
      "source": [
        "# Tracks the length of the longest word encountered\n",
        "max_label_len = 0\n",
        "\n",
        "# Contains all valid characters that can appear in words, used for encoding labels\n",
        "char_list = \"!\\\"#&'()*+,-./0123456789:;?ABCDEFGHIJKLMNOPQRSTUVWXYZabcdefghijklmnopqrstuvwxyz\"\n",
        "\n",
        "# Print the character list and its length\n",
        "print(char_list, len(char_list))"
      ],
      "metadata": {
        "id": "tlecbas7b80Z",
        "outputId": "a413c2f5-e433-4a9b-f3ce-d0903e49fabe",
        "trusted": true,
        "execution": {
          "iopub.status.busy": "2024-12-20T16:08:13.229311Z",
          "iopub.execute_input": "2024-12-20T16:08:13.229518Z",
          "iopub.status.idle": "2024-12-20T16:08:13.235197Z",
          "shell.execute_reply.started": "2024-12-20T16:08:13.229500Z",
          "shell.execute_reply": "2024-12-20T16:08:13.234365Z"
        },
        "colab": {
          "base_uri": "https://localhost:8080/"
        }
      },
      "outputs": [
        {
          "output_type": "stream",
          "name": "stdout",
          "text": [
            "!\"#&'()*+,-./0123456789:;?ABCDEFGHIJKLMNOPQRSTUVWXYZabcdefghijklmnopqrstuvwxyz 78\n"
          ]
        }
      ],
      "execution_count": 5
    },
    {
      "cell_type": "code",
      "source": [
        "def encode_to_labels(txt):\n",
        "    \"\"\"\n",
        "    Encodes a given text (string) into a list of integers corresponding to the\n",
        "    character indices in the predefined character set (char_list).\n",
        "\n",
        "    Parameters:\n",
        "        txt (str): The text string to be encoded.\n",
        "\n",
        "    Returns:\n",
        "        list: A list of integers representing the character indices in char_list.\n",
        "    \"\"\"\n",
        "    dig_lst = []  # Initialize an empty list to store the encoded indices\n",
        "\n",
        "    # Loop through each character in the input text\n",
        "    for index, chara in enumerate(txt):\n",
        "        # Append the index of the character from char_list to the list\n",
        "        dig_lst.append(char_list.index(chara))\n",
        "\n",
        "    return dig_lst  # Return the encoded list"
      ],
      "metadata": {
        "id": "jaLSsOe_sXmG"
      },
      "execution_count": null,
      "outputs": []
    },
    {
      "cell_type": "code",
      "source": [
        "# Image processing lists initialization\n",
        "# These lists store training and validation data, labels, input lengths, and corresponding texts\n",
        "\n",
        "images = []\n",
        "labels = []\n",
        "\n",
        "train_images = []\n",
        "train_labels = []\n",
        "train_input_length = []\n",
        "train_label_length = []\n",
        "train_original_text = []\n",
        "\n",
        "valid_images = []\n",
        "valid_labels = []\n",
        "valid_input_length = []\n",
        "valid_label_length = []\n",
        "valid_original_text = []\n",
        "\n",
        "inputs_length = []\n",
        "labels_length = []"
      ],
      "metadata": {
        "id": "izEFf6b6b80f",
        "trusted": true,
        "execution": {
          "iopub.status.busy": "2024-12-20T16:08:15.746904Z",
          "iopub.execute_input": "2024-12-20T16:08:15.747204Z",
          "iopub.status.idle": "2024-12-20T16:08:15.751677Z",
          "shell.execute_reply.started": "2024-12-20T16:08:15.747180Z",
          "shell.execute_reply": "2024-12-20T16:08:15.750844Z"
        }
      },
      "outputs": [],
      "execution_count": null
    },
    {
      "cell_type": "markdown",
      "source": [
        "# Preprocessing The Images"
      ],
      "metadata": {
        "id": "tkAlf_-GuKKO"
      }
    },
    {
      "cell_type": "code",
      "source": [
        "def process_image(img):\n",
        "\n",
        "    \"\"\"\n",
        "    Preprocesses an input image for handwritten text recognition.\n",
        "    The function performs resizing, padding, normalization,\n",
        "    and formatting to prepare the image for model inference.\n",
        "\n",
        "    Args:\n",
        "        img (numpy.ndarray): Input grayscale image with shape (H, W).\n",
        "\n",
        "    Returns:\n",
        "        numpy.ndarray: Processed image with shape (32, 128, 1), normalized to [0, 1].\n",
        "    \"\"\"\n",
        "    # Extract the original dimensions of the image\n",
        "    w, h = img.shape\n",
        "\n",
        "    # ---------------------- Resizing to maintain aspect ratio ------------------------------\n",
        "    # Target height for the image is 32 pixels.\n",
        "    new_w = 32\n",
        "\n",
        "    # Calculate the new width based on the original aspect ratio.\n",
        "    new_h = int(h * (new_w / w))\n",
        "\n",
        "    # Resize the image to the new dimensions (keeping the aspect ratio intact).\n",
        "    img = cv2.resize(img, (new_h, new_w))\n",
        "    w, h = img.shape  # Update dimensions after resizing\n",
        "\n",
        "    # Convert image data type to float32 for normalization later\n",
        "    img = img.astype('float32')\n",
        "\n",
        "    # --------------------- Padding to standardize dimensions ----------------------\n",
        "    # If the resized image's height is less than the target height (32), add padding at the bottom.\n",
        "    if w < 32:\n",
        "        add_zeros = np.full((32 - w, h), 255)  # White padding\n",
        "        img = np.concatenate((img, add_zeros))  # Add the padding to the bottom\n",
        "        w, h = img.shape  # Update dimensions\n",
        "\n",
        "    # If the resized image's width is less than the target width (128), add padding on the right.\n",
        "    if h < 128:\n",
        "        add_zeros = np.full((w, 128 - h), 255)  # White padding\n",
        "        img = np.concatenate((img, add_zeros), axis=1)  # Add the padding to the right\n",
        "        w, h = img.shape  # Update dimensions\n",
        "\n",
        "    # If the image's dimensions exceed the target size, resize it again to fit within (32, 128).\n",
        "    if h > 128 or w > 32:\n",
        "        dim = (128, 32)  # Target dimensions\n",
        "        img = cv2.resize(img, dim)\n",
        "\n",
        "    # --------------------------- Invert the image -------------------------------------\n",
        "    # Convert white background (255) to black (0) and vice versa.\n",
        "    img = cv2.subtract(255, img)\n",
        "\n",
        "    # -------------------------- Expand dimensions -------------------------\n",
        "    # Add a channel dimension to the image to make it compatible with the model input.\n",
        "    img = np.expand_dims(img, axis=2)  # Shape becomes (32, 128, 1)\n",
        "\n",
        "    # -------------------------- Normalize the image --------------------------\n",
        "    # Scale pixel values to the range [0, 1].\n",
        "    img = img / 255\n",
        "\n",
        "    return img"
      ],
      "metadata": {
        "id": "gKDSej8Rb80i",
        "trusted": true,
        "execution": {
          "iopub.status.busy": "2024-12-20T16:08:16.080037Z",
          "iopub.execute_input": "2024-12-20T16:08:16.080265Z",
          "iopub.status.idle": "2024-12-20T16:08:16.090740Z",
          "shell.execute_reply.started": "2024-12-20T16:08:16.080246Z",
          "shell.execute_reply": "2024-12-20T16:08:16.089846Z"
        }
      },
      "outputs": [],
      "execution_count": 6
    },
    {
      "cell_type": "markdown",
      "source": [
        "**1. Aspect Ratio Preservation:**\n",
        "The resizing ensures the image maintains its aspect ratio while adjusting the height to the target of 32 pixels. This avoids distortion of the handwritten text.\n",
        "\n",
        "**2. Padding:**\n",
        "If the resized image is smaller than the target dimensions, padding (filled with white, 255) is added to make the image dimensions uniform (32x128).\n",
        "\n",
        "**3. Inversion:**\n",
        "Handwritten recognition models typically expect text pixels to be black (0) on a white background (255). Subtracting from 255 ensures this.\n",
        "\n",
        "**4. Adding a Channel Dimension:**\n",
        "Since the model expects images with 3D input shape (Height, Width, Channels), a new channel dimension is added.\n",
        "\n",
        "**5. Normalization:**\n",
        "Dividing by 255 scales pixel values from [0, 255] to [0, 1]. Normalized inputs often improve model performance.\n",
        "\n",
        "> ***Output: Processed image with shape (32, 128, 1)***"
      ],
      "metadata": {
        "id": "_FB-HAWVF3M9"
      }
    },
    {
      "cell_type": "markdown",
      "source": [
        "## Generate train & validation set"
      ],
      "metadata": {
        "id": "2a39I9BYb80l"
      }
    },
    {
      "cell_type": "markdown",
      "source": [
        "**1. Input Lines:**\n",
        "lines is assumed to contain entries from the dataset file, where each line describes a sample (e.g., image path, word transcription, and metadata).\n",
        "\n",
        "**2. Stopping Condition:**\n",
        "The break statement ensures that processing stops after 115,318 lines, potentially limiting data for memory or computation reasons.\n",
        "\n",
        "**3. Splitting and Extracting Data:**\n",
        "line.split(' ') splits a line into components.\n",
        "status = splits[1] determines if the entry is valid (ok).\n",
        "\n",
        "**4. File Path Construction:**\n",
        "Using the word ID (word_id), the filepath is generated to locate the corresponding image in the dataset.\n",
        "\n",
        "**5. Image Loading and Preprocessing:**\n",
        "The image is loaded in grayscale using cv2.imread(). If successful, it is processed using the process_image() function.\n",
        "\n",
        "**6. Label Encoding:**\n",
        "The word transcription (word) is converted to numeric labels using the encode_to_labels() function.\n",
        "\n",
        "**7. Dataset Splitting:**\n",
        "Every 20th entry is added to the validation set (valid_* lists), while the rest are added to the training set (train_* lists).\n",
        "\n",
        "**8. Input and Label Lengths:**\n",
        "Fixed input length (31) and the actual word length (len(word)) are stored to align with the model's requirements.\n",
        "\n",
        "**9. Maximum Label Length:**\n",
        "max_label_len is updated to track the longest word encountered, which is useful for padding the labels."
      ],
      "metadata": {
        "id": "_BKorzCDF3M_"
      }
    },
    {
      "cell_type": "code",
      "source": [
        "# Loop over the lines in the dataset\n",
        "for indx, line in enumerate(lines):\n",
        "    # Stop processing after 115,318 lines\n",
        "    if indx > 115318:\n",
        "        break\n",
        "\n",
        "    # Split the line into components using spaces as separators\n",
        "    splits = line.split(' ')\n",
        "    status = splits[1]  # The second element indicates the status (e.g., 'ok')\n",
        "\n",
        "    # Process only entries with status 'ok'\n",
        "    if status == 'ok':\n",
        "        word_id = splits[0]  # The first element is the word ID\n",
        "        # Extract the actual word by joining elements after index 8\n",
        "        word = \"\".join(splits[8:])\n",
        "\n",
        "        # Extract parts of the word ID to construct the file path\n",
        "        splits_id = word_id.split('-')\n",
        "        filepath = '{}/iam_dataset/words/{}/{}-{}/{}.png'.format(\n",
        "            ngkinwang_iam_dataset_path,splits_id[0], splits_id[0], splits_id[1], word_id)\n",
        "\n",
        "        # Read the image from the constructed file path\n",
        "        img = cv2.imread(filepath, cv2.IMREAD_GRAYSCALE)\n",
        "\n",
        "        if img is not None:  # Process only if the image is successfully loaded\n",
        "            img = process_image(img)  # Preprocess the image\n",
        "            label = encode_to_labels(word)  # Encode the word into numeric labels\n",
        "\n",
        "            # Every 20th line is used for validation, others for training\n",
        "            if indx % 20 == 0:\n",
        "                valid_images.append(img)  # Add image to validation set\n",
        "                valid_labels.append(label)  # Add label to validation set\n",
        "                valid_input_length.append(31)  # Input sequence length\n",
        "                valid_label_length.append(len(word))  # Label length\n",
        "                valid_original_text.append(word)  # Store the original word\n",
        "            else:\n",
        "                train_images.append(img)  # Add image to training set\n",
        "                train_labels.append(label)  # Add label to training set\n",
        "                train_input_length.append(31)  # Input sequence length\n",
        "                train_label_length.append(len(word))  # Label length\n",
        "                train_original_text.append(word)  # Store the original word\n",
        "\n",
        "            # Update the maximum label length for padding purposes\n",
        "            if len(word) > max_label_len:\n",
        "                max_label_len = len(word)\n"
      ],
      "metadata": {
        "id": "NVJTjU8Fb80l",
        "trusted": true,
        "execution": {
          "iopub.status.busy": "2024-12-20T16:08:16.824194Z",
          "iopub.execute_input": "2024-12-20T16:08:16.824470Z",
          "iopub.status.idle": "2024-12-20T16:21:49.402609Z",
          "shell.execute_reply.started": "2024-12-20T16:08:16.824446Z",
          "shell.execute_reply": "2024-12-20T16:21:49.401860Z"
        }
      },
      "outputs": [],
      "execution_count": null
    },
    {
      "cell_type": "markdown",
      "source": [
        "* The labels (train_labels and valid_labels) are sequences of varying lengths corresponding to the ground truth text.\n",
        "* Neural networks require inputs of uniform size, so this code pads shorter labels to the length of the longest label (max_label_len) and optionally truncates longer labels."
      ],
      "metadata": {
        "id": "RFduo1paF3M_"
      }
    },
    {
      "cell_type": "code",
      "source": [
        "from tensorflow.keras.preprocessing.sequence import pad_sequences\n",
        "\n",
        "# Padding the training labels\n",
        "train_padded_label = pad_sequences(\n",
        "    train_labels,       # List of encoded labels for the training dataset\n",
        "    maxlen=max_label_len,  # Maximum label length to pad or truncate the sequences\n",
        "    padding='post',        # Add padding at the end of the sequence\n",
        "    value=len(char_list)   # Use the index equal to the size of char_list as the padding value\n",
        ")\n",
        "\n",
        "# Padding the validation labels\n",
        "valid_padded_label = pad_sequences(\n",
        "    valid_labels,       # List of encoded labels for the validation dataset\n",
        "    maxlen=max_label_len,  # Maximum label length to pad or truncate the sequences\n",
        "    padding='post',        # Add padding at the end of the sequence\n",
        "    value=len(char_list)   # Use the index equal to the size of char_list as the padding value\n",
        ")\n"
      ],
      "metadata": {
        "id": "e14RpPddb80o",
        "trusted": true,
        "execution": {
          "iopub.status.busy": "2024-12-20T16:21:49.403595Z",
          "iopub.execute_input": "2024-12-20T16:21:49.403824Z",
          "iopub.status.idle": "2024-12-20T16:21:49.588662Z",
          "shell.execute_reply.started": "2024-12-20T16:21:49.403805Z",
          "shell.execute_reply": "2024-12-20T16:21:49.588006Z"
        }
      },
      "outputs": [],
      "execution_count": null
    },
    {
      "cell_type": "code",
      "source": [
        "train_padded_label.shape, valid_padded_label.shape"
      ],
      "metadata": {
        "id": "mOtisXqKb80r",
        "outputId": "2f803625-0b45-4976-bdbb-884bd5faddb0",
        "trusted": true,
        "execution": {
          "iopub.status.busy": "2024-12-20T16:21:49.590083Z",
          "iopub.execute_input": "2024-12-20T16:21:49.590384Z",
          "iopub.status.idle": "2024-12-20T16:21:49.595340Z",
          "shell.execute_reply.started": "2024-12-20T16:21:49.590362Z",
          "shell.execute_reply": "2024-12-20T16:21:49.594530Z"
        },
        "colab": {
          "base_uri": "https://localhost:8080/"
        }
      },
      "outputs": [
        {
          "output_type": "execute_result",
          "data": {
            "text/plain": [
              "((91631, 21), (4822, 21))"
            ]
          },
          "metadata": {},
          "execution_count": 17
        }
      ],
      "execution_count": null
    },
    {
      "cell_type": "markdown",
      "source": [
        "## Converts to Numpy array"
      ],
      "metadata": {
        "id": "JinMiIIQb80u"
      }
    },
    {
      "cell_type": "code",
      "source": [
        "# Convert training images to a NumPy array for efficient processing\n",
        "train_images = np.asarray(train_images)\n",
        "\n",
        "# Convert training input lengths to a NumPy array for compatibility with model training\n",
        "train_input_length = np.asarray(train_input_length)\n",
        "\n",
        "# Convert training label lengths to a NumPy array for use in CTC loss calculation\n",
        "train_label_length = np.asarray(train_label_length)\n",
        "\n",
        "# Convert validation images to a NumPy array for efficient validation processing\n",
        "valid_images = np.asarray(valid_images)\n",
        "\n",
        "# Convert validation input lengths to a NumPy array for compatibility with model validation\n",
        "valid_input_length = np.asarray(valid_input_length)\n",
        "\n",
        "# Convert validation label lengths to a NumPy array for use in validation CTC loss calculation\n",
        "valid_label_length = np.asarray(valid_label_length)\n"
      ],
      "metadata": {
        "id": "g9_fnXbqb80u",
        "trusted": true,
        "execution": {
          "iopub.status.busy": "2024-12-20T16:21:49.596146Z",
          "iopub.execute_input": "2024-12-20T16:21:49.596379Z",
          "iopub.status.idle": "2024-12-20T16:21:50.688304Z",
          "shell.execute_reply.started": "2024-12-20T16:21:49.596360Z",
          "shell.execute_reply": "2024-12-20T16:21:50.687546Z"
        }
      },
      "outputs": [],
      "execution_count": null
    },
    {
      "cell_type": "markdown",
      "source": [
        "Convert training and validation datasets (images, input lengths, and label lengths) into NumPy arrays to ensure compitability with CTC function"
      ],
      "metadata": {
        "id": "0ubDej8JF3NA"
      }
    },
    {
      "cell_type": "code",
      "source": [
        "train_images.shape"
      ],
      "metadata": {
        "id": "c96dWZE-b80x",
        "outputId": "54ec532e-499f-4584-d2bd-83d62f259e95",
        "trusted": true,
        "execution": {
          "iopub.status.busy": "2024-12-20T16:21:50.689108Z",
          "iopub.execute_input": "2024-12-20T16:21:50.689330Z",
          "iopub.status.idle": "2024-12-20T16:21:50.694634Z",
          "shell.execute_reply.started": "2024-12-20T16:21:50.689311Z",
          "shell.execute_reply": "2024-12-20T16:21:50.693840Z"
        },
        "colab": {
          "base_uri": "https://localhost:8080/"
        }
      },
      "outputs": [
        {
          "output_type": "execute_result",
          "data": {
            "text/plain": [
              "(91631, 32, 128, 1)"
            ]
          },
          "metadata": {},
          "execution_count": 19
        }
      ],
      "execution_count": null
    },
    {
      "cell_type": "markdown",
      "source": [
        "## Build Model\n"
      ],
      "metadata": {
        "id": "NycFjnOhb800"
      }
    },
    {
      "cell_type": "code",
      "source": [
        "import tensorflow as tf\n",
        "from tensorflow.keras.layers import Input, Conv2D, MaxPool2D, BatchNormalization, Lambda, LSTM, Bidirectional, Dense\n",
        "from tensorflow.keras.models import Model\n",
        "from tensorflow.keras import backend as K\n",
        "from tensorflow.keras.layers import Add\n",
        "from keras.saving import register_keras_serializable\n",
        "\n",
        "# Define a custom attention layer\n",
        "class AttentionLayer(tf.keras.layers.Layer):\n",
        "    def call(self, inputs):\n",
        "        query, value = inputs\n",
        "        # Scaled dot-product attention\n",
        "        scores = tf.matmul(query, value, transpose_b=True)\n",
        "        scores = tf.nn.softmax(scores, axis=-1)\n",
        "        context = tf.matmul(scores, value)\n",
        "        return context\n",
        "\n",
        "@register_keras_serializable(package=\"Custom\", name=\"SqueezeLayer\")\n",
        "# Define a custom SqueezeLayer to replace Lambda\n",
        "class SqueezeLayer(tf.keras.layers.Layer):\n",
        "    def call(self, inputs):\n",
        "        return tf.squeeze(inputs, axis=1)\n",
        "\n"
      ],
      "metadata": {
        "trusted": true,
        "execution": {
          "iopub.status.busy": "2024-12-20T16:25:06.168807Z",
          "iopub.execute_input": "2024-12-20T16:25:06.169189Z",
          "iopub.status.idle": "2024-12-20T16:25:07.840946Z",
          "shell.execute_reply.started": "2024-12-20T16:25:06.169149Z",
          "shell.execute_reply": "2024-12-20T16:25:07.840079Z"
        },
        "id": "1ukz-mxlF3NA"
      },
      "outputs": [],
      "execution_count": 7
    },
    {
      "cell_type": "code",
      "source": [
        "# Input with shape of height=32 and width=128\n",
        "inputs = Input(shape=(32, 128, 1))\n",
        "\n",
        "# Convolutional layers\n",
        "conv_1 = Conv2D(64, (3, 3), activation='relu', padding='same')(inputs)\n",
        "pool_1 = MaxPool2D(pool_size=(2, 2), strides=2)(conv_1)\n",
        "\n",
        "conv_2 = Conv2D(128, (3, 3), activation='relu', padding='same')(pool_1)\n",
        "pool_2 = MaxPool2D(pool_size=(2, 2), strides=2)(conv_2)\n",
        "\n",
        "conv_3 = Conv2D(256, (3, 3), activation='relu', padding='same')(pool_2)\n",
        "conv_4 = Conv2D(256, (3, 3), activation='relu', padding='same')(conv_3)\n",
        "# pool_4 = MaxPool2D(pool_size=(2, 1))(conv_4)\n",
        "residual = Add()([conv_3, conv_4])  # Residual connection\n",
        "pool_4 = MaxPool2D(pool_size=(2, 1))(residual)\n",
        "\n",
        "conv_5 = Conv2D(512, (3, 3), activation='relu', padding='same')(pool_4)\n",
        "batch_norm_5 = BatchNormalization()(conv_5)\n",
        "\n",
        "conv_6 = Conv2D(512, (3, 3), activation='relu', padding='same')(batch_norm_5)\n",
        "batch_norm_6 = BatchNormalization()(conv_6)\n",
        "pool_6 = MaxPool2D(pool_size=(2, 1))(batch_norm_6)\n",
        "\n",
        "conv_7 = Conv2D(512, (2, 2), activation='relu')(pool_6)\n",
        "# Replace Lambda with SqueezeLayer\n",
        "squeezed = SqueezeLayer()(conv_7)\n",
        "\n",
        "# Bidirectional LSTM layers\n",
        "blstm_1 = Bidirectional(LSTM(256, return_sequences=True, dropout=0.2))(squeezed)\n",
        "blstm_2 = Bidirectional(LSTM(256, return_sequences=True, dropout=0.2))(blstm_1)\n",
        "\n",
        "# Attention mechanism\n",
        "attention_output = AttentionLayer()([blstm_2, blstm_2])\n",
        "\n",
        "# Fully connected layer\n",
        "outputs = Dense(len(char_list) + 1, activation='softmax')(attention_output)\n",
        "\n",
        "# Final model\n",
        "act_model = Model(inputs, outputs)\n",
        "\n",
        "# Print model summary\n",
        "act_model.summary()\n"
      ],
      "metadata": {
        "colab": {
          "base_uri": "https://localhost:8080/",
          "height": 945
        },
        "id": "zaNb8ZzvGlkR",
        "outputId": "ec4dda8c-4fde-4322-ded8-9751b890d2ed"
      },
      "execution_count": null,
      "outputs": [
        {
          "output_type": "display_data",
          "data": {
            "text/plain": [
              "\u001b[1mModel: \"functional\"\u001b[0m\n"
            ],
            "text/html": [
              "<pre style=\"white-space:pre;overflow-x:auto;line-height:normal;font-family:Menlo,'DejaVu Sans Mono',consolas,'Courier New',monospace\"><span style=\"font-weight: bold\">Model: \"functional\"</span>\n",
              "</pre>\n"
            ]
          },
          "metadata": {}
        },
        {
          "output_type": "display_data",
          "data": {
            "text/plain": [
              "┏━━━━━━━━━━━━━━━━━━━━━━━━━━━┳━━━━━━━━━━━━━━━━━━━━━━━━┳━━━━━━━━━━━━━━━━┳━━━━━━━━━━━━━━━━━━━━━━━━┓\n",
              "┃\u001b[1m \u001b[0m\u001b[1mLayer (type)             \u001b[0m\u001b[1m \u001b[0m┃\u001b[1m \u001b[0m\u001b[1mOutput Shape          \u001b[0m\u001b[1m \u001b[0m┃\u001b[1m \u001b[0m\u001b[1m       Param #\u001b[0m\u001b[1m \u001b[0m┃\u001b[1m \u001b[0m\u001b[1mConnected to          \u001b[0m\u001b[1m \u001b[0m┃\n",
              "┡━━━━━━━━━━━━━━━━━━━━━━━━━━━╇━━━━━━━━━━━━━━━━━━━━━━━━╇━━━━━━━━━━━━━━━━╇━━━━━━━━━━━━━━━━━━━━━━━━┩\n",
              "│ input_layer (\u001b[38;5;33mInputLayer\u001b[0m)  │ (\u001b[38;5;45mNone\u001b[0m, \u001b[38;5;34m32\u001b[0m, \u001b[38;5;34m128\u001b[0m, \u001b[38;5;34m1\u001b[0m)     │              \u001b[38;5;34m0\u001b[0m │ -                      │\n",
              "├───────────────────────────┼────────────────────────┼────────────────┼────────────────────────┤\n",
              "│ conv2d (\u001b[38;5;33mConv2D\u001b[0m)           │ (\u001b[38;5;45mNone\u001b[0m, \u001b[38;5;34m32\u001b[0m, \u001b[38;5;34m128\u001b[0m, \u001b[38;5;34m64\u001b[0m)    │            \u001b[38;5;34m640\u001b[0m │ input_layer[\u001b[38;5;34m0\u001b[0m][\u001b[38;5;34m0\u001b[0m]      │\n",
              "├───────────────────────────┼────────────────────────┼────────────────┼────────────────────────┤\n",
              "│ max_pooling2d             │ (\u001b[38;5;45mNone\u001b[0m, \u001b[38;5;34m16\u001b[0m, \u001b[38;5;34m64\u001b[0m, \u001b[38;5;34m64\u001b[0m)     │              \u001b[38;5;34m0\u001b[0m │ conv2d[\u001b[38;5;34m0\u001b[0m][\u001b[38;5;34m0\u001b[0m]           │\n",
              "│ (\u001b[38;5;33mMaxPooling2D\u001b[0m)            │                        │                │                        │\n",
              "├───────────────────────────┼────────────────────────┼────────────────┼────────────────────────┤\n",
              "│ conv2d_1 (\u001b[38;5;33mConv2D\u001b[0m)         │ (\u001b[38;5;45mNone\u001b[0m, \u001b[38;5;34m16\u001b[0m, \u001b[38;5;34m64\u001b[0m, \u001b[38;5;34m128\u001b[0m)    │         \u001b[38;5;34m73,856\u001b[0m │ max_pooling2d[\u001b[38;5;34m0\u001b[0m][\u001b[38;5;34m0\u001b[0m]    │\n",
              "├───────────────────────────┼────────────────────────┼────────────────┼────────────────────────┤\n",
              "│ max_pooling2d_1           │ (\u001b[38;5;45mNone\u001b[0m, \u001b[38;5;34m8\u001b[0m, \u001b[38;5;34m32\u001b[0m, \u001b[38;5;34m128\u001b[0m)     │              \u001b[38;5;34m0\u001b[0m │ conv2d_1[\u001b[38;5;34m0\u001b[0m][\u001b[38;5;34m0\u001b[0m]         │\n",
              "│ (\u001b[38;5;33mMaxPooling2D\u001b[0m)            │                        │                │                        │\n",
              "├───────────────────────────┼────────────────────────┼────────────────┼────────────────────────┤\n",
              "│ conv2d_2 (\u001b[38;5;33mConv2D\u001b[0m)         │ (\u001b[38;5;45mNone\u001b[0m, \u001b[38;5;34m8\u001b[0m, \u001b[38;5;34m32\u001b[0m, \u001b[38;5;34m256\u001b[0m)     │        \u001b[38;5;34m295,168\u001b[0m │ max_pooling2d_1[\u001b[38;5;34m0\u001b[0m][\u001b[38;5;34m0\u001b[0m]  │\n",
              "├───────────────────────────┼────────────────────────┼────────────────┼────────────────────────┤\n",
              "│ conv2d_3 (\u001b[38;5;33mConv2D\u001b[0m)         │ (\u001b[38;5;45mNone\u001b[0m, \u001b[38;5;34m8\u001b[0m, \u001b[38;5;34m32\u001b[0m, \u001b[38;5;34m256\u001b[0m)     │        \u001b[38;5;34m590,080\u001b[0m │ conv2d_2[\u001b[38;5;34m0\u001b[0m][\u001b[38;5;34m0\u001b[0m]         │\n",
              "├───────────────────────────┼────────────────────────┼────────────────┼────────────────────────┤\n",
              "│ add (\u001b[38;5;33mAdd\u001b[0m)                 │ (\u001b[38;5;45mNone\u001b[0m, \u001b[38;5;34m8\u001b[0m, \u001b[38;5;34m32\u001b[0m, \u001b[38;5;34m256\u001b[0m)     │              \u001b[38;5;34m0\u001b[0m │ conv2d_2[\u001b[38;5;34m0\u001b[0m][\u001b[38;5;34m0\u001b[0m],        │\n",
              "│                           │                        │                │ conv2d_3[\u001b[38;5;34m0\u001b[0m][\u001b[38;5;34m0\u001b[0m]         │\n",
              "├───────────────────────────┼────────────────────────┼────────────────┼────────────────────────┤\n",
              "│ max_pooling2d_2           │ (\u001b[38;5;45mNone\u001b[0m, \u001b[38;5;34m4\u001b[0m, \u001b[38;5;34m32\u001b[0m, \u001b[38;5;34m256\u001b[0m)     │              \u001b[38;5;34m0\u001b[0m │ add[\u001b[38;5;34m0\u001b[0m][\u001b[38;5;34m0\u001b[0m]              │\n",
              "│ (\u001b[38;5;33mMaxPooling2D\u001b[0m)            │                        │                │                        │\n",
              "├───────────────────────────┼────────────────────────┼────────────────┼────────────────────────┤\n",
              "│ conv2d_4 (\u001b[38;5;33mConv2D\u001b[0m)         │ (\u001b[38;5;45mNone\u001b[0m, \u001b[38;5;34m4\u001b[0m, \u001b[38;5;34m32\u001b[0m, \u001b[38;5;34m512\u001b[0m)     │      \u001b[38;5;34m1,180,160\u001b[0m │ max_pooling2d_2[\u001b[38;5;34m0\u001b[0m][\u001b[38;5;34m0\u001b[0m]  │\n",
              "├───────────────────────────┼────────────────────────┼────────────────┼────────────────────────┤\n",
              "│ batch_normalization       │ (\u001b[38;5;45mNone\u001b[0m, \u001b[38;5;34m4\u001b[0m, \u001b[38;5;34m32\u001b[0m, \u001b[38;5;34m512\u001b[0m)     │          \u001b[38;5;34m2,048\u001b[0m │ conv2d_4[\u001b[38;5;34m0\u001b[0m][\u001b[38;5;34m0\u001b[0m]         │\n",
              "│ (\u001b[38;5;33mBatchNormalization\u001b[0m)      │                        │                │                        │\n",
              "├───────────────────────────┼────────────────────────┼────────────────┼────────────────────────┤\n",
              "│ conv2d_5 (\u001b[38;5;33mConv2D\u001b[0m)         │ (\u001b[38;5;45mNone\u001b[0m, \u001b[38;5;34m4\u001b[0m, \u001b[38;5;34m32\u001b[0m, \u001b[38;5;34m512\u001b[0m)     │      \u001b[38;5;34m2,359,808\u001b[0m │ batch_normalization[\u001b[38;5;34m0\u001b[0m… │\n",
              "├───────────────────────────┼────────────────────────┼────────────────┼────────────────────────┤\n",
              "│ batch_normalization_1     │ (\u001b[38;5;45mNone\u001b[0m, \u001b[38;5;34m4\u001b[0m, \u001b[38;5;34m32\u001b[0m, \u001b[38;5;34m512\u001b[0m)     │          \u001b[38;5;34m2,048\u001b[0m │ conv2d_5[\u001b[38;5;34m0\u001b[0m][\u001b[38;5;34m0\u001b[0m]         │\n",
              "│ (\u001b[38;5;33mBatchNormalization\u001b[0m)      │                        │                │                        │\n",
              "├───────────────────────────┼────────────────────────┼────────────────┼────────────────────────┤\n",
              "│ max_pooling2d_3           │ (\u001b[38;5;45mNone\u001b[0m, \u001b[38;5;34m2\u001b[0m, \u001b[38;5;34m32\u001b[0m, \u001b[38;5;34m512\u001b[0m)     │              \u001b[38;5;34m0\u001b[0m │ batch_normalization_1… │\n",
              "│ (\u001b[38;5;33mMaxPooling2D\u001b[0m)            │                        │                │                        │\n",
              "├───────────────────────────┼────────────────────────┼────────────────┼────────────────────────┤\n",
              "│ conv2d_6 (\u001b[38;5;33mConv2D\u001b[0m)         │ (\u001b[38;5;45mNone\u001b[0m, \u001b[38;5;34m1\u001b[0m, \u001b[38;5;34m31\u001b[0m, \u001b[38;5;34m512\u001b[0m)     │      \u001b[38;5;34m1,049,088\u001b[0m │ max_pooling2d_3[\u001b[38;5;34m0\u001b[0m][\u001b[38;5;34m0\u001b[0m]  │\n",
              "├───────────────────────────┼────────────────────────┼────────────────┼────────────────────────┤\n",
              "│ squeeze_layer             │ (\u001b[38;5;45mNone\u001b[0m, \u001b[38;5;34m31\u001b[0m, \u001b[38;5;34m512\u001b[0m)        │              \u001b[38;5;34m0\u001b[0m │ conv2d_6[\u001b[38;5;34m0\u001b[0m][\u001b[38;5;34m0\u001b[0m]         │\n",
              "│ (\u001b[38;5;33mSqueezeLayer\u001b[0m)            │                        │                │                        │\n",
              "├───────────────────────────┼────────────────────────┼────────────────┼────────────────────────┤\n",
              "│ bidirectional             │ (\u001b[38;5;45mNone\u001b[0m, \u001b[38;5;34m31\u001b[0m, \u001b[38;5;34m512\u001b[0m)        │      \u001b[38;5;34m1,574,912\u001b[0m │ squeeze_layer[\u001b[38;5;34m0\u001b[0m][\u001b[38;5;34m0\u001b[0m]    │\n",
              "│ (\u001b[38;5;33mBidirectional\u001b[0m)           │                        │                │                        │\n",
              "├───────────────────────────┼────────────────────────┼────────────────┼────────────────────────┤\n",
              "│ bidirectional_1           │ (\u001b[38;5;45mNone\u001b[0m, \u001b[38;5;34m31\u001b[0m, \u001b[38;5;34m512\u001b[0m)        │      \u001b[38;5;34m1,574,912\u001b[0m │ bidirectional[\u001b[38;5;34m0\u001b[0m][\u001b[38;5;34m0\u001b[0m]    │\n",
              "│ (\u001b[38;5;33mBidirectional\u001b[0m)           │                        │                │                        │\n",
              "├───────────────────────────┼────────────────────────┼────────────────┼────────────────────────┤\n",
              "│ attention_layer           │ (\u001b[38;5;45mNone\u001b[0m, \u001b[38;5;34m31\u001b[0m, \u001b[38;5;34m512\u001b[0m)        │              \u001b[38;5;34m0\u001b[0m │ bidirectional_1[\u001b[38;5;34m0\u001b[0m][\u001b[38;5;34m0\u001b[0m], │\n",
              "│ (\u001b[38;5;33mAttentionLayer\u001b[0m)          │                        │                │ bidirectional_1[\u001b[38;5;34m0\u001b[0m][\u001b[38;5;34m0\u001b[0m]  │\n",
              "├───────────────────────────┼────────────────────────┼────────────────┼────────────────────────┤\n",
              "│ dense (\u001b[38;5;33mDense\u001b[0m)             │ (\u001b[38;5;45mNone\u001b[0m, \u001b[38;5;34m31\u001b[0m, \u001b[38;5;34m79\u001b[0m)         │         \u001b[38;5;34m40,527\u001b[0m │ attention_layer[\u001b[38;5;34m0\u001b[0m][\u001b[38;5;34m0\u001b[0m]  │\n",
              "└───────────────────────────┴────────────────────────┴────────────────┴────────────────────────┘\n"
            ],
            "text/html": [
              "<pre style=\"white-space:pre;overflow-x:auto;line-height:normal;font-family:Menlo,'DejaVu Sans Mono',consolas,'Courier New',monospace\">┏━━━━━━━━━━━━━━━━━━━━━━━━━━━┳━━━━━━━━━━━━━━━━━━━━━━━━┳━━━━━━━━━━━━━━━━┳━━━━━━━━━━━━━━━━━━━━━━━━┓\n",
              "┃<span style=\"font-weight: bold\"> Layer (type)              </span>┃<span style=\"font-weight: bold\"> Output Shape           </span>┃<span style=\"font-weight: bold\">        Param # </span>┃<span style=\"font-weight: bold\"> Connected to           </span>┃\n",
              "┡━━━━━━━━━━━━━━━━━━━━━━━━━━━╇━━━━━━━━━━━━━━━━━━━━━━━━╇━━━━━━━━━━━━━━━━╇━━━━━━━━━━━━━━━━━━━━━━━━┩\n",
              "│ input_layer (<span style=\"color: #0087ff; text-decoration-color: #0087ff\">InputLayer</span>)  │ (<span style=\"color: #00d7ff; text-decoration-color: #00d7ff\">None</span>, <span style=\"color: #00af00; text-decoration-color: #00af00\">32</span>, <span style=\"color: #00af00; text-decoration-color: #00af00\">128</span>, <span style=\"color: #00af00; text-decoration-color: #00af00\">1</span>)     │              <span style=\"color: #00af00; text-decoration-color: #00af00\">0</span> │ -                      │\n",
              "├───────────────────────────┼────────────────────────┼────────────────┼────────────────────────┤\n",
              "│ conv2d (<span style=\"color: #0087ff; text-decoration-color: #0087ff\">Conv2D</span>)           │ (<span style=\"color: #00d7ff; text-decoration-color: #00d7ff\">None</span>, <span style=\"color: #00af00; text-decoration-color: #00af00\">32</span>, <span style=\"color: #00af00; text-decoration-color: #00af00\">128</span>, <span style=\"color: #00af00; text-decoration-color: #00af00\">64</span>)    │            <span style=\"color: #00af00; text-decoration-color: #00af00\">640</span> │ input_layer[<span style=\"color: #00af00; text-decoration-color: #00af00\">0</span>][<span style=\"color: #00af00; text-decoration-color: #00af00\">0</span>]      │\n",
              "├───────────────────────────┼────────────────────────┼────────────────┼────────────────────────┤\n",
              "│ max_pooling2d             │ (<span style=\"color: #00d7ff; text-decoration-color: #00d7ff\">None</span>, <span style=\"color: #00af00; text-decoration-color: #00af00\">16</span>, <span style=\"color: #00af00; text-decoration-color: #00af00\">64</span>, <span style=\"color: #00af00; text-decoration-color: #00af00\">64</span>)     │              <span style=\"color: #00af00; text-decoration-color: #00af00\">0</span> │ conv2d[<span style=\"color: #00af00; text-decoration-color: #00af00\">0</span>][<span style=\"color: #00af00; text-decoration-color: #00af00\">0</span>]           │\n",
              "│ (<span style=\"color: #0087ff; text-decoration-color: #0087ff\">MaxPooling2D</span>)            │                        │                │                        │\n",
              "├───────────────────────────┼────────────────────────┼────────────────┼────────────────────────┤\n",
              "│ conv2d_1 (<span style=\"color: #0087ff; text-decoration-color: #0087ff\">Conv2D</span>)         │ (<span style=\"color: #00d7ff; text-decoration-color: #00d7ff\">None</span>, <span style=\"color: #00af00; text-decoration-color: #00af00\">16</span>, <span style=\"color: #00af00; text-decoration-color: #00af00\">64</span>, <span style=\"color: #00af00; text-decoration-color: #00af00\">128</span>)    │         <span style=\"color: #00af00; text-decoration-color: #00af00\">73,856</span> │ max_pooling2d[<span style=\"color: #00af00; text-decoration-color: #00af00\">0</span>][<span style=\"color: #00af00; text-decoration-color: #00af00\">0</span>]    │\n",
              "├───────────────────────────┼────────────────────────┼────────────────┼────────────────────────┤\n",
              "│ max_pooling2d_1           │ (<span style=\"color: #00d7ff; text-decoration-color: #00d7ff\">None</span>, <span style=\"color: #00af00; text-decoration-color: #00af00\">8</span>, <span style=\"color: #00af00; text-decoration-color: #00af00\">32</span>, <span style=\"color: #00af00; text-decoration-color: #00af00\">128</span>)     │              <span style=\"color: #00af00; text-decoration-color: #00af00\">0</span> │ conv2d_1[<span style=\"color: #00af00; text-decoration-color: #00af00\">0</span>][<span style=\"color: #00af00; text-decoration-color: #00af00\">0</span>]         │\n",
              "│ (<span style=\"color: #0087ff; text-decoration-color: #0087ff\">MaxPooling2D</span>)            │                        │                │                        │\n",
              "├───────────────────────────┼────────────────────────┼────────────────┼────────────────────────┤\n",
              "│ conv2d_2 (<span style=\"color: #0087ff; text-decoration-color: #0087ff\">Conv2D</span>)         │ (<span style=\"color: #00d7ff; text-decoration-color: #00d7ff\">None</span>, <span style=\"color: #00af00; text-decoration-color: #00af00\">8</span>, <span style=\"color: #00af00; text-decoration-color: #00af00\">32</span>, <span style=\"color: #00af00; text-decoration-color: #00af00\">256</span>)     │        <span style=\"color: #00af00; text-decoration-color: #00af00\">295,168</span> │ max_pooling2d_1[<span style=\"color: #00af00; text-decoration-color: #00af00\">0</span>][<span style=\"color: #00af00; text-decoration-color: #00af00\">0</span>]  │\n",
              "├───────────────────────────┼────────────────────────┼────────────────┼────────────────────────┤\n",
              "│ conv2d_3 (<span style=\"color: #0087ff; text-decoration-color: #0087ff\">Conv2D</span>)         │ (<span style=\"color: #00d7ff; text-decoration-color: #00d7ff\">None</span>, <span style=\"color: #00af00; text-decoration-color: #00af00\">8</span>, <span style=\"color: #00af00; text-decoration-color: #00af00\">32</span>, <span style=\"color: #00af00; text-decoration-color: #00af00\">256</span>)     │        <span style=\"color: #00af00; text-decoration-color: #00af00\">590,080</span> │ conv2d_2[<span style=\"color: #00af00; text-decoration-color: #00af00\">0</span>][<span style=\"color: #00af00; text-decoration-color: #00af00\">0</span>]         │\n",
              "├───────────────────────────┼────────────────────────┼────────────────┼────────────────────────┤\n",
              "│ add (<span style=\"color: #0087ff; text-decoration-color: #0087ff\">Add</span>)                 │ (<span style=\"color: #00d7ff; text-decoration-color: #00d7ff\">None</span>, <span style=\"color: #00af00; text-decoration-color: #00af00\">8</span>, <span style=\"color: #00af00; text-decoration-color: #00af00\">32</span>, <span style=\"color: #00af00; text-decoration-color: #00af00\">256</span>)     │              <span style=\"color: #00af00; text-decoration-color: #00af00\">0</span> │ conv2d_2[<span style=\"color: #00af00; text-decoration-color: #00af00\">0</span>][<span style=\"color: #00af00; text-decoration-color: #00af00\">0</span>],        │\n",
              "│                           │                        │                │ conv2d_3[<span style=\"color: #00af00; text-decoration-color: #00af00\">0</span>][<span style=\"color: #00af00; text-decoration-color: #00af00\">0</span>]         │\n",
              "├───────────────────────────┼────────────────────────┼────────────────┼────────────────────────┤\n",
              "│ max_pooling2d_2           │ (<span style=\"color: #00d7ff; text-decoration-color: #00d7ff\">None</span>, <span style=\"color: #00af00; text-decoration-color: #00af00\">4</span>, <span style=\"color: #00af00; text-decoration-color: #00af00\">32</span>, <span style=\"color: #00af00; text-decoration-color: #00af00\">256</span>)     │              <span style=\"color: #00af00; text-decoration-color: #00af00\">0</span> │ add[<span style=\"color: #00af00; text-decoration-color: #00af00\">0</span>][<span style=\"color: #00af00; text-decoration-color: #00af00\">0</span>]              │\n",
              "│ (<span style=\"color: #0087ff; text-decoration-color: #0087ff\">MaxPooling2D</span>)            │                        │                │                        │\n",
              "├───────────────────────────┼────────────────────────┼────────────────┼────────────────────────┤\n",
              "│ conv2d_4 (<span style=\"color: #0087ff; text-decoration-color: #0087ff\">Conv2D</span>)         │ (<span style=\"color: #00d7ff; text-decoration-color: #00d7ff\">None</span>, <span style=\"color: #00af00; text-decoration-color: #00af00\">4</span>, <span style=\"color: #00af00; text-decoration-color: #00af00\">32</span>, <span style=\"color: #00af00; text-decoration-color: #00af00\">512</span>)     │      <span style=\"color: #00af00; text-decoration-color: #00af00\">1,180,160</span> │ max_pooling2d_2[<span style=\"color: #00af00; text-decoration-color: #00af00\">0</span>][<span style=\"color: #00af00; text-decoration-color: #00af00\">0</span>]  │\n",
              "├───────────────────────────┼────────────────────────┼────────────────┼────────────────────────┤\n",
              "│ batch_normalization       │ (<span style=\"color: #00d7ff; text-decoration-color: #00d7ff\">None</span>, <span style=\"color: #00af00; text-decoration-color: #00af00\">4</span>, <span style=\"color: #00af00; text-decoration-color: #00af00\">32</span>, <span style=\"color: #00af00; text-decoration-color: #00af00\">512</span>)     │          <span style=\"color: #00af00; text-decoration-color: #00af00\">2,048</span> │ conv2d_4[<span style=\"color: #00af00; text-decoration-color: #00af00\">0</span>][<span style=\"color: #00af00; text-decoration-color: #00af00\">0</span>]         │\n",
              "│ (<span style=\"color: #0087ff; text-decoration-color: #0087ff\">BatchNormalization</span>)      │                        │                │                        │\n",
              "├───────────────────────────┼────────────────────────┼────────────────┼────────────────────────┤\n",
              "│ conv2d_5 (<span style=\"color: #0087ff; text-decoration-color: #0087ff\">Conv2D</span>)         │ (<span style=\"color: #00d7ff; text-decoration-color: #00d7ff\">None</span>, <span style=\"color: #00af00; text-decoration-color: #00af00\">4</span>, <span style=\"color: #00af00; text-decoration-color: #00af00\">32</span>, <span style=\"color: #00af00; text-decoration-color: #00af00\">512</span>)     │      <span style=\"color: #00af00; text-decoration-color: #00af00\">2,359,808</span> │ batch_normalization[<span style=\"color: #00af00; text-decoration-color: #00af00\">0</span>… │\n",
              "├───────────────────────────┼────────────────────────┼────────────────┼────────────────────────┤\n",
              "│ batch_normalization_1     │ (<span style=\"color: #00d7ff; text-decoration-color: #00d7ff\">None</span>, <span style=\"color: #00af00; text-decoration-color: #00af00\">4</span>, <span style=\"color: #00af00; text-decoration-color: #00af00\">32</span>, <span style=\"color: #00af00; text-decoration-color: #00af00\">512</span>)     │          <span style=\"color: #00af00; text-decoration-color: #00af00\">2,048</span> │ conv2d_5[<span style=\"color: #00af00; text-decoration-color: #00af00\">0</span>][<span style=\"color: #00af00; text-decoration-color: #00af00\">0</span>]         │\n",
              "│ (<span style=\"color: #0087ff; text-decoration-color: #0087ff\">BatchNormalization</span>)      │                        │                │                        │\n",
              "├───────────────────────────┼────────────────────────┼────────────────┼────────────────────────┤\n",
              "│ max_pooling2d_3           │ (<span style=\"color: #00d7ff; text-decoration-color: #00d7ff\">None</span>, <span style=\"color: #00af00; text-decoration-color: #00af00\">2</span>, <span style=\"color: #00af00; text-decoration-color: #00af00\">32</span>, <span style=\"color: #00af00; text-decoration-color: #00af00\">512</span>)     │              <span style=\"color: #00af00; text-decoration-color: #00af00\">0</span> │ batch_normalization_1… │\n",
              "│ (<span style=\"color: #0087ff; text-decoration-color: #0087ff\">MaxPooling2D</span>)            │                        │                │                        │\n",
              "├───────────────────────────┼────────────────────────┼────────────────┼────────────────────────┤\n",
              "│ conv2d_6 (<span style=\"color: #0087ff; text-decoration-color: #0087ff\">Conv2D</span>)         │ (<span style=\"color: #00d7ff; text-decoration-color: #00d7ff\">None</span>, <span style=\"color: #00af00; text-decoration-color: #00af00\">1</span>, <span style=\"color: #00af00; text-decoration-color: #00af00\">31</span>, <span style=\"color: #00af00; text-decoration-color: #00af00\">512</span>)     │      <span style=\"color: #00af00; text-decoration-color: #00af00\">1,049,088</span> │ max_pooling2d_3[<span style=\"color: #00af00; text-decoration-color: #00af00\">0</span>][<span style=\"color: #00af00; text-decoration-color: #00af00\">0</span>]  │\n",
              "├───────────────────────────┼────────────────────────┼────────────────┼────────────────────────┤\n",
              "│ squeeze_layer             │ (<span style=\"color: #00d7ff; text-decoration-color: #00d7ff\">None</span>, <span style=\"color: #00af00; text-decoration-color: #00af00\">31</span>, <span style=\"color: #00af00; text-decoration-color: #00af00\">512</span>)        │              <span style=\"color: #00af00; text-decoration-color: #00af00\">0</span> │ conv2d_6[<span style=\"color: #00af00; text-decoration-color: #00af00\">0</span>][<span style=\"color: #00af00; text-decoration-color: #00af00\">0</span>]         │\n",
              "│ (<span style=\"color: #0087ff; text-decoration-color: #0087ff\">SqueezeLayer</span>)            │                        │                │                        │\n",
              "├───────────────────────────┼────────────────────────┼────────────────┼────────────────────────┤\n",
              "│ bidirectional             │ (<span style=\"color: #00d7ff; text-decoration-color: #00d7ff\">None</span>, <span style=\"color: #00af00; text-decoration-color: #00af00\">31</span>, <span style=\"color: #00af00; text-decoration-color: #00af00\">512</span>)        │      <span style=\"color: #00af00; text-decoration-color: #00af00\">1,574,912</span> │ squeeze_layer[<span style=\"color: #00af00; text-decoration-color: #00af00\">0</span>][<span style=\"color: #00af00; text-decoration-color: #00af00\">0</span>]    │\n",
              "│ (<span style=\"color: #0087ff; text-decoration-color: #0087ff\">Bidirectional</span>)           │                        │                │                        │\n",
              "├───────────────────────────┼────────────────────────┼────────────────┼────────────────────────┤\n",
              "│ bidirectional_1           │ (<span style=\"color: #00d7ff; text-decoration-color: #00d7ff\">None</span>, <span style=\"color: #00af00; text-decoration-color: #00af00\">31</span>, <span style=\"color: #00af00; text-decoration-color: #00af00\">512</span>)        │      <span style=\"color: #00af00; text-decoration-color: #00af00\">1,574,912</span> │ bidirectional[<span style=\"color: #00af00; text-decoration-color: #00af00\">0</span>][<span style=\"color: #00af00; text-decoration-color: #00af00\">0</span>]    │\n",
              "│ (<span style=\"color: #0087ff; text-decoration-color: #0087ff\">Bidirectional</span>)           │                        │                │                        │\n",
              "├───────────────────────────┼────────────────────────┼────────────────┼────────────────────────┤\n",
              "│ attention_layer           │ (<span style=\"color: #00d7ff; text-decoration-color: #00d7ff\">None</span>, <span style=\"color: #00af00; text-decoration-color: #00af00\">31</span>, <span style=\"color: #00af00; text-decoration-color: #00af00\">512</span>)        │              <span style=\"color: #00af00; text-decoration-color: #00af00\">0</span> │ bidirectional_1[<span style=\"color: #00af00; text-decoration-color: #00af00\">0</span>][<span style=\"color: #00af00; text-decoration-color: #00af00\">0</span>], │\n",
              "│ (<span style=\"color: #0087ff; text-decoration-color: #0087ff\">AttentionLayer</span>)          │                        │                │ bidirectional_1[<span style=\"color: #00af00; text-decoration-color: #00af00\">0</span>][<span style=\"color: #00af00; text-decoration-color: #00af00\">0</span>]  │\n",
              "├───────────────────────────┼────────────────────────┼────────────────┼────────────────────────┤\n",
              "│ dense (<span style=\"color: #0087ff; text-decoration-color: #0087ff\">Dense</span>)             │ (<span style=\"color: #00d7ff; text-decoration-color: #00d7ff\">None</span>, <span style=\"color: #00af00; text-decoration-color: #00af00\">31</span>, <span style=\"color: #00af00; text-decoration-color: #00af00\">79</span>)         │         <span style=\"color: #00af00; text-decoration-color: #00af00\">40,527</span> │ attention_layer[<span style=\"color: #00af00; text-decoration-color: #00af00\">0</span>][<span style=\"color: #00af00; text-decoration-color: #00af00\">0</span>]  │\n",
              "└───────────────────────────┴────────────────────────┴────────────────┴────────────────────────┘\n",
              "</pre>\n"
            ]
          },
          "metadata": {}
        },
        {
          "output_type": "display_data",
          "data": {
            "text/plain": [
              "\u001b[1m Total params: \u001b[0m\u001b[38;5;34m8,743,247\u001b[0m (33.35 MB)\n"
            ],
            "text/html": [
              "<pre style=\"white-space:pre;overflow-x:auto;line-height:normal;font-family:Menlo,'DejaVu Sans Mono',consolas,'Courier New',monospace\"><span style=\"font-weight: bold\"> Total params: </span><span style=\"color: #00af00; text-decoration-color: #00af00\">8,743,247</span> (33.35 MB)\n",
              "</pre>\n"
            ]
          },
          "metadata": {}
        },
        {
          "output_type": "display_data",
          "data": {
            "text/plain": [
              "\u001b[1m Trainable params: \u001b[0m\u001b[38;5;34m8,741,199\u001b[0m (33.35 MB)\n"
            ],
            "text/html": [
              "<pre style=\"white-space:pre;overflow-x:auto;line-height:normal;font-family:Menlo,'DejaVu Sans Mono',consolas,'Courier New',monospace\"><span style=\"font-weight: bold\"> Trainable params: </span><span style=\"color: #00af00; text-decoration-color: #00af00\">8,741,199</span> (33.35 MB)\n",
              "</pre>\n"
            ]
          },
          "metadata": {}
        },
        {
          "output_type": "display_data",
          "data": {
            "text/plain": [
              "\u001b[1m Non-trainable params: \u001b[0m\u001b[38;5;34m2,048\u001b[0m (8.00 KB)\n"
            ],
            "text/html": [
              "<pre style=\"white-space:pre;overflow-x:auto;line-height:normal;font-family:Menlo,'DejaVu Sans Mono',consolas,'Courier New',monospace\"><span style=\"font-weight: bold\"> Non-trainable params: </span><span style=\"color: #00af00; text-decoration-color: #00af00\">2,048</span> (8.00 KB)\n",
              "</pre>\n"
            ]
          },
          "metadata": {}
        }
      ]
    },
    {
      "cell_type": "markdown",
      "source": [
        "* **inputs = Input(shape=(32, 128, 1))**\n",
        "\n",
        "    Images with the shape (32, 128, 1) are fed into the model.\n",
        "    The images are resized to this shape during preprocessing\n",
        "\n",
        "* **Multiple convolution layers to increase the number of filters**\n",
        "\n",
        "* **pooling layer after each convolution layer to decrease the dimentionallity**\n",
        "\n",
        "* **Residual connections are useful to help prevent the gradient from vanishing in deeper layers. This enables the model to learn better representations of the input and speeds up convergence.**\n",
        "\n",
        "* **BatchNormalization: Normalizes the activations to have zero mean and unit variance. This improves training speed and stability by reducing internal covariate shift.**\n",
        "\n",
        "* **Squeezed --> Lambda layer: It simplifies the feature map from 3D to 2D, which is needed before feeding it into the LSTM layers.**\n",
        "\n",
        "* **LSTM:Long Short-Term Memory units that help capture temporal dependencies in sequences and Bidirectional is used to capture forward and backward sequence.**\n",
        "\n",
        "* **Attention Layer helps the model focus on relevant information, that is more important than the others to recognize the character.**\n",
        "\n",
        "* **Dense: This layer is a fully connected layer with a number of units equal to the number of characters in the output**"
      ],
      "metadata": {
        "id": "kA4BgFQfF3NA"
      }
    },
    {
      "cell_type": "markdown",
      "source": [
        "> This model uses a combination of Convolutional layers for feature extraction, Bidirectional LSTMs for learning sequential dependencies, an Attention mechanism for focusing on important features, and a Dense layer for final classification. The use of BatchNormalization and Residual connections helps stabilize training, while the custom SqueezeLayer replaces the Lambda layer for better serialization."
      ],
      "metadata": {
        "id": "RnV_sjiUF3NA"
      }
    },
    {
      "cell_type": "code",
      "source": [
        "the_labels = Input(name='the_labels', shape=[max_label_len], dtype='float32')\n",
        "\n",
        "input_length = Input(name='input_length', shape=[1], dtype='int64')\n",
        "\n",
        "label_length = Input(name='label_length', shape=[1], dtype='int64')"
      ],
      "metadata": {
        "id": "9M-IV9hFb806",
        "trusted": true,
        "execution": {
          "iopub.status.busy": "2024-12-20T16:25:08.826593Z",
          "iopub.execute_input": "2024-12-20T16:25:08.827003Z",
          "iopub.status.idle": "2024-12-20T16:25:08.844236Z",
          "shell.execute_reply.started": "2024-12-20T16:25:08.826942Z",
          "shell.execute_reply": "2024-12-20T16:25:08.843476Z"
        }
      },
      "outputs": [],
      "execution_count": null
    },
    {
      "cell_type": "code",
      "source": [
        "import tensorflow.keras.backend as K\n",
        "from tensorflow.keras.saving import register_keras_serializable\n",
        "\n",
        "@register_keras_serializable()\n",
        "def ctc_lambda_func(args):\n",
        "    y_pred, labels, input_length, label_length = args\n",
        "    return K.ctc_batch_cost(labels, y_pred, input_length, label_length)\n",
        "\n",
        "# Define a named function for the CTC loss\n",
        "def ctc_loss(y_true, y_pred):\n",
        "    return y_pred  # For CTC, the loss is precomputed in the Lambda layer\n",
        "\n"
      ],
      "metadata": {
        "id": "_ycYpsfaGuKO"
      },
      "execution_count": 8,
      "outputs": []
    },
    {
      "cell_type": "code",
      "source": [
        "# Lambda layer using ctc_lambda_func\n",
        "loss_out = Lambda(ctc_lambda_func, output_shape=(1,), name='ctc')([outputs, the_labels, input_length, label_length])"
      ],
      "metadata": {
        "id": "N3IWlhRsGzwO"
      },
      "execution_count": null,
      "outputs": []
    },
    {
      "cell_type": "code",
      "source": [
        "#model to be used at training time\n",
        "\n",
        "model = Model(inputs=[inputs, the_labels, input_length, label_length], outputs=loss_out)"
      ],
      "metadata": {
        "id": "bP94PSIjGqu2"
      },
      "execution_count": null,
      "outputs": []
    },
    {
      "cell_type": "code",
      "source": [
        "batch_size = 128\n",
        "\n",
        "epochs = 5\n",
        "\n",
        "e = str(epochs)\n",
        "\n",
        "optimizer_name = 'adam'"
      ],
      "metadata": {
        "id": "nyCjQ6ZSb809",
        "trusted": true,
        "execution": {
          "iopub.status.busy": "2024-12-20T16:35:53.937413Z",
          "iopub.execute_input": "2024-12-20T16:35:53.937728Z",
          "iopub.status.idle": "2024-12-20T16:35:53.941959Z",
          "shell.execute_reply.started": "2024-12-20T16:35:53.937699Z",
          "shell.execute_reply": "2024-12-20T16:35:53.940814Z"
        }
      },
      "outputs": [],
      "execution_count": null
    },
    {
      "cell_type": "code",
      "source": [
        "import time\n",
        "\n",
        "from tensorflow.keras.callbacks import Callback\n",
        "\n",
        "from datetime import datetime\n",
        "\n",
        "class EpochTimeHistory(Callback):\n",
        "\n",
        "    \"\"\"\n",
        "\n",
        "    a custom callback to print the time(in minutes, to console) each epoch took during.\n",
        "\n",
        "    \"\"\"\n",
        "\n",
        "    def on_train_begin(self, logs={}):\n",
        "\n",
        "        self.train_epoch_times = []\n",
        "\n",
        "        self.valid_epoch_times = []\n",
        "\n",
        "\n",
        "    def on_epoch_begin(self, epoch, logs={}):\n",
        "\n",
        "        self.epoch_time_start = time.time()\n",
        "\n",
        "\n",
        "    def on_epoch_end(self, epoch, logs={}):\n",
        "\n",
        "        cur_epoch_time = round((time.time() - self.epoch_time_start)/60, 4)\n",
        "\n",
        "        self.train_epoch_times.append(cur_epoch_time )\n",
        "\n",
        "        self.train_epoch_times.append(cur_epoch_time)\n",
        "\n",
        "        print(\" ;epoch {0} took {1} minutes.\".format(epoch+1, cur_epoch_time))\n",
        "\n",
        "\n",
        "    ## functions used below are for recording validation times\n",
        "\n",
        "    def on_test_begin(self, logs={}):\n",
        "\n",
        "        self.test_time_start = time.time()\n",
        "\n",
        "\n",
        "\n",
        "    def on_test_end(self, logs={}):\n",
        "\n",
        "        cur_test_time = round((time.time() - self.test_time_start)/60, 4)\n",
        "\n",
        "        self.valid_epoch_times.append(cur_test_time)\n",
        "\n",
        "        print(\" ;validation took {0} minutes.\".format(cur_test_time))"
      ],
      "metadata": {
        "id": "17J9SbouLgov",
        "trusted": true,
        "execution": {
          "iopub.status.busy": "2024-12-20T16:35:55.683223Z",
          "iopub.execute_input": "2024-12-20T16:35:55.683556Z",
          "iopub.status.idle": "2024-12-20T16:35:55.690093Z",
          "shell.execute_reply.started": "2024-12-20T16:35:55.683527Z",
          "shell.execute_reply": "2024-12-20T16:35:55.689183Z"
        }
      },
      "outputs": [],
      "execution_count": null
    },
    {
      "cell_type": "code",
      "source": [
        "# Compile the model using the named function for the loss\n",
        "model.compile(loss={'ctc': ctc_loss}, optimizer=optimizer_name, metrics=['accuracy'])\n",
        "\n",
        "filepath=\"/kaggle/working/word_model.keras\"\n",
        "\n",
        "checkpoint = ModelCheckpoint(filepath=filepath, monitor='val_loss', verbose=1, save_best_only=True)\n",
        "\n",
        "earlystop = EarlyStopping(monitor='val_loss', min_delta=0, patience=10, verbose=0, mode='min')\n",
        "\n",
        "epoch_times = EpochTimeHistory()\n",
        "\n",
        "callbacks_list = [checkpoint, earlystop, epoch_times]"
      ],
      "metadata": {
        "id": "Sn6qGwCfb81A",
        "trusted": true,
        "execution": {
          "iopub.status.busy": "2024-12-20T16:36:00.953628Z",
          "iopub.execute_input": "2024-12-20T16:36:00.953959Z",
          "iopub.status.idle": "2024-12-20T16:36:00.964558Z",
          "shell.execute_reply.started": "2024-12-20T16:36:00.953914Z",
          "shell.execute_reply": "2024-12-20T16:36:00.963696Z"
        }
      },
      "outputs": [],
      "execution_count": null
    },
    {
      "cell_type": "markdown",
      "source": [
        "# Train The Model"
      ],
      "metadata": {
        "id": "pf3zuCN5wv2k"
      }
    },
    {
      "cell_type": "code",
      "source": [
        "history = model.fit(x=[train_images, train_padded_label, train_input_length, train_label_length],\n",
        "\n",
        "                    y=np.zeros(len(train_images)),\n",
        "\n",
        "                    batch_size=batch_size,\n",
        "\n",
        "                    epochs=epochs,\n",
        "\n",
        "                    validation_data=([valid_images, valid_padded_label, valid_input_length, valid_label_length], [np.zeros(len(valid_images))]),\n",
        "\n",
        "                    verbose=1, callbacks=callbacks_list)"
      ],
      "metadata": {
        "id": "Q1gl1qm2b81F",
        "outputId": "eb0a637b-782a-4378-997e-029a8c191b16",
        "trusted": true,
        "execution": {
          "iopub.status.busy": "2024-12-20T16:36:02.904484Z",
          "iopub.execute_input": "2024-12-20T16:36:02.904851Z",
          "iopub.status.idle": "2024-12-20T16:59:54.125040Z",
          "shell.execute_reply.started": "2024-12-20T16:36:02.904819Z",
          "shell.execute_reply": "2024-12-20T16:59:54.123982Z"
        },
        "collapsed": true
      },
      "outputs": [
        {
          "name": "stdout",
          "text": "Epoch 1/10\n\u001b[1m716/716\u001b[0m \u001b[32m━━━━━━━━━━━━━━━━━━━━\u001b[0m\u001b[37m\u001b[0m \u001b[1m0s\u001b[0m 189ms/step - accuracy: 0.4782 - loss: 2.1901 ;validation took 0.0669 minutes.\n\nEpoch 1: val_loss improved from inf to 2.03197, saving model to /kaggle/working/word_model2.keras\n ;epoch 1 took 2.4291 minutes.\n\u001b[1m716/716\u001b[0m \u001b[32m━━━━━━━━━━━━━━━━━━━━\u001b[0m\u001b[37m\u001b[0m \u001b[1m146s\u001b[0m 196ms/step - accuracy: 0.4783 - loss: 2.1899 - val_accuracy: 0.5276 - val_loss: 2.0320\nEpoch 2/10\n\u001b[1m716/716\u001b[0m \u001b[32m━━━━━━━━━━━━━━━━━━━━\u001b[0m\u001b[37m\u001b[0m \u001b[1m0s\u001b[0m 190ms/step - accuracy: 0.5793 - loss: 1.5800 ;validation took 0.0555 minutes.\n\nEpoch 2: val_loss improved from 2.03197 to 1.82264, saving model to /kaggle/working/word_model2.keras\n ;epoch 2 took 2.3314 minutes.\n\u001b[1m716/716\u001b[0m \u001b[32m━━━━━━━━━━━━━━━━━━━━\u001b[0m\u001b[37m\u001b[0m \u001b[1m140s\u001b[0m 195ms/step - accuracy: 0.5793 - loss: 1.5800 - val_accuracy: 0.5564 - val_loss: 1.8226\nEpoch 3/10\n\u001b[1m716/716\u001b[0m \u001b[32m━━━━━━━━━━━━━━━━━━━━\u001b[0m\u001b[37m\u001b[0m \u001b[1m0s\u001b[0m 193ms/step - accuracy: 0.6324 - loss: 1.2967 ;validation took 0.0591 minutes.\n\nEpoch 3: val_loss improved from 1.82264 to 1.71852, saving model to /kaggle/working/word_model2.keras\n ;epoch 3 took 2.371 minutes.\n\u001b[1m716/716\u001b[0m \u001b[32m━━━━━━━━━━━━━━━━━━━━\u001b[0m\u001b[37m\u001b[0m \u001b[1m142s\u001b[0m 199ms/step - accuracy: 0.6324 - loss: 1.2967 - val_accuracy: 0.5803 - val_loss: 1.7185\nEpoch 4/10\n\u001b[1m716/716\u001b[0m \u001b[32m━━━━━━━━━━━━━━━━━━━━\u001b[0m\u001b[37m\u001b[0m \u001b[1m0s\u001b[0m 195ms/step - accuracy: 0.6816 - loss: 1.0812 ;validation took 0.0581 minutes.\n\nEpoch 4: val_loss improved from 1.71852 to 1.51918, saving model to /kaggle/working/word_model2.keras\n ;epoch 4 took 2.3908 minutes.\n\u001b[1m716/716\u001b[0m \u001b[32m━━━━━━━━━━━━━━━━━━━━\u001b[0m\u001b[37m\u001b[0m \u001b[1m143s\u001b[0m 200ms/step - accuracy: 0.6816 - loss: 1.0812 - val_accuracy: 0.6439 - val_loss: 1.5192\nEpoch 5/10\n\u001b[1m716/716\u001b[0m \u001b[32m━━━━━━━━━━━━━━━━━━━━\u001b[0m\u001b[37m\u001b[0m \u001b[1m0s\u001b[0m 195ms/step - accuracy: 0.7086 - loss: 0.9318 ;validation took 0.0582 minutes.\n\nEpoch 5: val_loss improved from 1.51918 to 1.51647, saving model to /kaggle/working/word_model2.keras\n ;epoch 5 took 2.3914 minutes.\n\u001b[1m716/716\u001b[0m \u001b[32m━━━━━━━━━━━━━━━━━━━━\u001b[0m\u001b[37m\u001b[0m \u001b[1m143s\u001b[0m 200ms/step - accuracy: 0.7086 - loss: 0.9319 - val_accuracy: 0.6568 - val_loss: 1.5165\nEpoch 6/10\n\u001b[1m716/716\u001b[0m \u001b[32m━━━━━━━━━━━━━━━━━━━━\u001b[0m\u001b[37m\u001b[0m \u001b[1m0s\u001b[0m 195ms/step - accuracy: 0.7347 - loss: 0.8257 ;validation took 0.0589 minutes.\n\nEpoch 6: val_loss improved from 1.51647 to 1.43635, saving model to /kaggle/working/word_model2.keras\n ;epoch 6 took 2.3935 minutes.\n\u001b[1m716/716\u001b[0m \u001b[32m━━━━━━━━━━━━━━━━━━━━\u001b[0m\u001b[37m\u001b[0m \u001b[1m144s\u001b[0m 201ms/step - accuracy: 0.7347 - loss: 0.8257 - val_accuracy: 0.6694 - val_loss: 1.4364\nEpoch 7/10\n\u001b[1m716/716\u001b[0m \u001b[32m━━━━━━━━━━━━━━━━━━━━\u001b[0m\u001b[37m\u001b[0m \u001b[1m0s\u001b[0m 194ms/step - accuracy: 0.7546 - loss: 0.7432 ;validation took 0.0576 minutes.\n\nEpoch 7: val_loss improved from 1.43635 to 1.37169, saving model to /kaggle/working/word_model2.keras\n ;epoch 7 took 2.378 minutes.\n\u001b[1m716/716\u001b[0m \u001b[32m━━━━━━━━━━━━━━━━━━━━\u001b[0m\u001b[37m\u001b[0m \u001b[1m143s\u001b[0m 199ms/step - accuracy: 0.7546 - loss: 0.7432 - val_accuracy: 0.7016 - val_loss: 1.3717\nEpoch 8/10\n\u001b[1m716/716\u001b[0m \u001b[32m━━━━━━━━━━━━━━━━━━━━\u001b[0m\u001b[37m\u001b[0m \u001b[1m0s\u001b[0m 193ms/step - accuracy: 0.7815 - loss: 0.6437 ;validation took 0.06 minutes.\n\nEpoch 8: val_loss did not improve from 1.37169\n ;epoch 8 took 2.3614 minutes.\n\u001b[1m716/716\u001b[0m \u001b[32m━━━━━━━━━━━━━━━━━━━━\u001b[0m\u001b[37m\u001b[0m \u001b[1m142s\u001b[0m 198ms/step - accuracy: 0.7815 - loss: 0.6438 - val_accuracy: 0.6740 - val_loss: 1.5040\nEpoch 9/10\n\u001b[1m716/716\u001b[0m \u001b[32m━━━━━━━━━━━━━━━━━━━━\u001b[0m\u001b[37m\u001b[0m \u001b[1m0s\u001b[0m 193ms/step - accuracy: 0.7973 - loss: 0.5800 ;validation took 0.0586 minutes.\n\nEpoch 9: val_loss improved from 1.37169 to 1.34338, saving model to /kaggle/working/word_model2.keras\n ;epoch 9 took 2.3715 minutes.\n\u001b[1m716/716\u001b[0m \u001b[32m━━━━━━━━━━━━━━━━━━━━\u001b[0m\u001b[37m\u001b[0m \u001b[1m142s\u001b[0m 199ms/step - accuracy: 0.7973 - loss: 0.5801 - val_accuracy: 0.7144 - val_loss: 1.3434\nEpoch 10/10\n\u001b[1m716/716\u001b[0m \u001b[32m━━━━━━━━━━━━━━━━━━━━\u001b[0m\u001b[37m\u001b[0m \u001b[1m0s\u001b[0m 193ms/step - accuracy: 0.8093 - loss: 0.5394 ;validation took 0.0561 minutes.\n\nEpoch 10: val_loss did not improve from 1.34338\n ;epoch 10 took 2.3602 minutes.\n\u001b[1m716/716\u001b[0m \u001b[32m━━━━━━━━━━━━━━━━━━━━\u001b[0m\u001b[37m\u001b[0m \u001b[1m142s\u001b[0m 198ms/step - accuracy: 0.8093 - loss: 0.5394 - val_accuracy: 0.7068 - val_loss: 1.4413\n",
          "output_type": "stream"
        }
      ],
      "execution_count": null
    },
    {
      "cell_type": "markdown",
      "source": [
        "# Save The Model"
      ],
      "metadata": {
        "id": "2VcMl7qUwz-b"
      }
    },
    {
      "cell_type": "code",
      "source": [
        "act_model.save('/kaggle/working/handwritten_act_word_model.h5', save_format='tf')\n",
        "# model.save('/kaggle/working/handwritten_train_word_model.h5', save_format='tf')\n"
      ],
      "metadata": {
        "trusted": true,
        "execution": {
          "iopub.status.busy": "2024-12-20T17:00:03.971756Z",
          "iopub.execute_input": "2024-12-20T17:00:03.972092Z",
          "iopub.status.idle": "2024-12-20T17:00:04.278565Z",
          "shell.execute_reply.started": "2024-12-20T17:00:03.972069Z",
          "shell.execute_reply": "2024-12-20T17:00:04.277771Z"
        },
        "id": "Pnb3BU4LF3NB"
      },
      "outputs": [],
      "execution_count": null
    },
    {
      "cell_type": "markdown",
      "source": [
        "## Evaluate Model Performance"
      ],
      "metadata": {
        "id": "T7jdGMxSSy6V"
      }
    },
    {
      "cell_type": "code",
      "source": [
        "prediction = act_model.predict(valid_images[150:160])\n",
        "\n",
        "decoded = K.ctc_decode(prediction, input_length=np.ones(prediction.shape[0]) * prediction.shape[1], greedy=True)[0][0]\n",
        "\n",
        "out = K.get_value(decoded)\n",
        "\n",
        "for i, x in enumerate(out):\n",
        "\n",
        "  pred_str = \"\"\n",
        "\n",
        "  for p in x:\n",
        "\n",
        "    if int(p) != -1:\n",
        "\n",
        "      pred_str += char_list[int(p)]\n",
        "\n",
        "  print(\"original_text =  \", valid_original_text[150+i])\n",
        "\n",
        "  print(\"predicted text = \", pred_str)\n",
        "\n",
        "  plt.imshow(valid_images[150+i].reshape(32,128), cmap=plt.cm.gray)\n",
        "\n",
        "  plt.xticks([])\n",
        "\n",
        "  plt.yticks([])\n",
        "\n",
        "  plt.show()\n",
        "\n",
        "  print('\\n')"
      ],
      "metadata": {
        "id": "yQfMakVLb81L",
        "outputId": "f7701033-e090-488c-d1e6-2da88f081e33",
        "trusted": true,
        "execution": {
          "iopub.status.busy": "2024-12-20T16:34:56.739459Z",
          "iopub.execute_input": "2024-12-20T16:34:56.739768Z",
          "iopub.status.idle": "2024-12-20T16:34:58.768676Z",
          "shell.execute_reply.started": "2024-12-20T16:34:56.739743Z",
          "shell.execute_reply": "2024-12-20T16:34:58.767203Z"
        },
        "collapsed": true,
        "jupyter": {
          "outputs_hidden": true
        }
      },
      "outputs": [
        {
          "name": "stdout",
          "text": "\u001b[1m1/1\u001b[0m \u001b[32m━━━━━━━━━━━━━━━━━━━━\u001b[0m\u001b[37m\u001b[0m \u001b[1m1s\u001b[0m 1s/step\noriginal_text =   come\npredicted text =  come\n",
          "output_type": "stream"
        },
        {
          "output_type": "display_data",
          "data": {
            "text/plain": "<Figure size 640x480 with 1 Axes>",
            "image/png": "[encoded data removed]"
          },
          "metadata": {}
        },
        {
          "name": "stdout",
          "text": "\n\noriginal_text =   to\npredicted text =  to\n",
          "output_type": "stream"
        },
        {
          "output_type": "display_data",
          "data": {
            "text/plain": "<Figure size 640x480 with 1 Axes>",
            "image/png": "[encoded data removed]"
          },
          "metadata": {}
        },
        {
          "name": "stdout",
          "text": "\n\noriginal_text =   heavy\npredicted text =  heany\n",
          "output_type": "stream"
        },
        {
          "output_type": "display_data",
          "data": {
            "text/plain": "<Figure size 640x480 with 1 Axes>",
            "image/png": "[encoded data removed]"
          },
          "metadata": {}
        },
        {
          "name": "stdout",
          "text": "\n\noriginal_text =   .\npredicted text =  .\n",
          "output_type": "stream"
        },
        {
          "output_type": "display_data",
          "data": {
            "text/plain": "<Figure size 640x480 with 1 Axes>",
            "image/png": "[encoded data removed]"
          },
          "metadata": {}
        },
        {
          "name": "stdout",
          "text": "\n\noriginal_text =   not\npredicted text =  not\n",
          "output_type": "stream"
        },
        {
          "output_type": "display_data",
          "data": {
            "text/plain": "<Figure size 640x480 with 1 Axes>",
            "image/png": "[encoded data removed]"
          },
          "metadata": {}
        },
        {
          "name": "stdout",
          "text": "\n\noriginal_text =   the\npredicted text =  the\n",
          "output_type": "stream"
        },
        {
          "output_type": "display_data",
          "data": {
            "text/plain": "<Figure size 640x480 with 1 Axes>",
            "image/png": "[encoded data removed]"
          },
          "metadata": {}
        },
        {
          "name": "stdout",
          "text": "\n\noriginal_text =   .\npredicted text =  .\n",
          "output_type": "stream"
        },
        {
          "output_type": "display_data",
          "data": {
            "text/plain": "<Figure size 640x480 with 1 Axes>",
            "image/png": "[encoded data removed]"
          },
          "metadata": {}
        },
        {
          "name": "stdout",
          "text": "\n\noriginal_text =   ranks\npredicted text =  ramk\n",
          "output_type": "stream"
        },
        {
          "output_type": "display_data",
          "data": {
            "text/plain": "<Figure size 640x480 with 1 Axes>",
            "image/png": "[encoded data removed]"
          },
          "metadata": {}
        },
        {
          "name": "stdout",
          "text": "\n\noriginal_text =   this\npredicted text =  this\n",
          "output_type": "stream"
        },
        {
          "output_type": "display_data",
          "data": {
            "text/plain": "<Figure size 640x480 with 1 Axes>",
            "image/png": "[encoded data removed]"
          },
          "metadata": {}
        },
        {
          "name": "stdout",
          "text": "\n\noriginal_text =   medicine\npredicted text =  edicine\n",
          "output_type": "stream"
        },
        {
          "output_type": "display_data",
          "data": {
            "text/plain": "<Figure size 640x480 with 1 Axes>",
            "image/png": "[encoded data removed]"
          },
          "metadata": {}
        },
        {
          "name": "stdout",
          "text": "\n\n",
          "output_type": "stream"
        }
      ],
      "execution_count": null
    },
    {
      "cell_type": "markdown",
      "source": [
        "# Load The Model"
      ],
      "metadata": {
        "id": "Xt2wbu37w7x0"
      }
    },
    {
      "cell_type": "code",
      "source": [
        "from tensorflow.keras.models import load_model\n",
        "loaded_model = load_model('/content/drive/MyDrive/ml_project/handwritten_act_word_model.h5', custom_objects={\n",
        "    'ctc_lambda_func': ctc_lambda_func,  # If you're using the custom ctc loss function\n",
        "    'SqueezeLayer': SqueezeLayer,\n",
        "    'AttentionLayer': AttentionLayer\n",
        "})\n"
      ],
      "metadata": {
        "trusted": true,
        "execution": {
          "iopub.status.busy": "2024-12-20T17:01:02.661446Z",
          "iopub.execute_input": "2024-12-20T17:01:02.661778Z",
          "iopub.status.idle": "2024-12-20T17:01:02.971796Z",
          "shell.execute_reply.started": "2024-12-20T17:01:02.661750Z",
          "shell.execute_reply": "2024-12-20T17:01:02.970889Z"
        },
        "id": "-vpuBmLxF3NB",
        "colab": {
          "base_uri": "https://localhost:8080/"
        },
        "outputId": "1ff8f7b4-de99-4adc-e9fc-d9da4bb6e444"
      },
      "outputs": [
        {
          "output_type": "stream",
          "name": "stderr",
          "text": [
            "WARNING:absl:No training configuration found in the save file, so the model was *not* compiled. Compile it manually.\n"
          ]
        }
      ],
      "execution_count": 9
    },
    {
      "cell_type": "code",
      "source": [
        "# Load a new custom image\n",
        "new_image_path = f'{loaytamer_custom_dataset_path}/loay.png'\n",
        "new_img = cv2.imread(new_image_path, cv2.IMREAD_GRAYSCALE)\n",
        "\n",
        "if new_img is not None:\n",
        "    new_img_processed = process_image(new_img)\n",
        "    new_img_processed = np.expand_dims(new_img_processed, axis=0)  # Add batch dimension\n",
        "\n",
        "    # Make a prediction\n",
        "    prediction = loaded_model.predict(new_img_processed)\n",
        "\n",
        "    # Decode the prediction\n",
        "    decoded = K.ctc_decode(prediction, input_length=np.ones(prediction.shape[0]) * prediction.shape[1], greedy=True)[0][0]\n",
        "    output_text = K.get_value(decoded)\n",
        "\n",
        "    # Convert numeric labels back to characters\n",
        "    char_list = \"!\\\"#&'()*+,-./0123456789:;?ABCDEFGHIJKLMNOPQRSTUVWXYZabcdefghijklmnopqrstuvwxyz\"\n",
        "    pred_str = ''.join([char_list[int(p)] for p in output_text[0] if int(p) != -1])\n",
        "\n",
        "    print(\"Predicted Text:\", pred_str)\n",
        "else:\n",
        "    print(\"Error loading the image.\")"
      ],
      "metadata": {
        "trusted": true,
        "execution": {
          "iopub.status.busy": "2024-12-20T17:01:53.002244Z",
          "iopub.execute_input": "2024-12-20T17:01:53.002556Z",
          "iopub.status.idle": "2024-12-20T17:01:53.087620Z",
          "shell.execute_reply.started": "2024-12-20T17:01:53.002534Z",
          "shell.execute_reply": "2024-12-20T17:01:53.086649Z"
        },
        "id": "CpwKUMN-F3NB",
        "outputId": "9d8e2274-b17b-4fb6-e2f1-36ac5d1dbf41",
        "colab": {
          "base_uri": "https://localhost:8080/"
        }
      },
      "outputs": [
        {
          "output_type": "stream",
          "name": "stdout",
          "text": [
            "\u001b[1m1/1\u001b[0m \u001b[32m━━━━━━━━━━━━━━━━━━━━\u001b[0m\u001b[37m\u001b[0m \u001b[1m0s\u001b[0m 62ms/step\n",
            "Predicted Text: loay\n"
          ]
        }
      ],
      "execution_count": null
    },
    {
      "cell_type": "markdown",
      "source": [
        "# Deployment"
      ],
      "metadata": {
        "id": "Gnhjz7vWw_GT"
      }
    },
    {
      "cell_type": "code",
      "source": [
        "! pip install flask"
      ],
      "metadata": {
        "colab": {
          "base_uri": "https://localhost:8080/"
        },
        "id": "d-7ogwtxKGdS",
        "outputId": "6d5be935-cb54-42cc-caf1-5e1a5a4ec9d6"
      },
      "execution_count": null,
      "outputs": [
        {
          "output_type": "stream",
          "name": "stdout",
          "text": [
            "Requirement already satisfied: flask in /usr/local/lib/python3.10/dist-packages (3.1.0)\n",
            "Requirement already satisfied: Werkzeug>=3.1 in /usr/local/lib/python3.10/dist-packages (from flask) (3.1.3)\n",
            "Requirement already satisfied: Jinja2>=3.1.2 in /usr/local/lib/python3.10/dist-packages (from flask) (3.1.4)\n",
            "Requirement already satisfied: itsdangerous>=2.2 in /usr/local/lib/python3.10/dist-packages (from flask) (2.2.0)\n",
            "Requirement already satisfied: click>=8.1.3 in /usr/local/lib/python3.10/dist-packages (from flask) (8.1.7)\n",
            "Requirement already satisfied: blinker>=1.9 in /usr/local/lib/python3.10/dist-packages (from flask) (1.9.0)\n",
            "Requirement already satisfied: MarkupSafe>=2.0 in /usr/local/lib/python3.10/dist-packages (from Jinja2>=3.1.2->flask) (3.0.2)\n"
          ]
        }
      ]
    },
    {
      "cell_type": "code",
      "source": [
        "def handwritten_prediction(path):\n",
        "  new_image_path = path\n",
        "  new_img = cv2.imread(new_image_path, cv2.IMREAD_GRAYSCALE)\n",
        "  pred_str = 'Error loading the image.'\n",
        "  if new_img is not None:\n",
        "      new_img_processed = process_image(new_img)\n",
        "      new_img_processed = np.expand_dims(new_img_processed, axis=0)  # Add batch dimension\n",
        "\n",
        "      # Make a prediction\n",
        "      prediction = loaded_model.predict(new_img_processed)\n",
        "\n",
        "      # Decode the prediction\n",
        "      decoded = K.ctc_decode(prediction, input_length=np.ones(prediction.shape[0]) * prediction.shape[1], greedy=True)[0][0]\n",
        "      output_text = K.get_value(decoded)\n",
        "\n",
        "      # Convert numeric labels back to characters\n",
        "      char_list = \"!\\\"#&'()*+,-./0123456789:;?ABCDEFGHIJKLMNOPQRSTUVWXYZabcdefghijklmnopqrstuvwxyz\"\n",
        "      pred_str = ''.join([char_list[int(p)] for p in output_text[0] if int(p) != -1])\n",
        "\n",
        "      return pred_str\n"
      ],
      "metadata": {
        "id": "wvKC3oXBMTGb"
      },
      "execution_count": 15,
      "outputs": []
    },
    {
      "cell_type": "code",
      "source": [
        "from google.colab.output import eval_js\n",
        "print(eval_js(\"google.colab.kernel.proxyPort(5000)\"))"
      ],
      "metadata": {
        "colab": {
          "base_uri": "https://localhost:8080/",
          "height": 34
        },
        "id": "CDqpe-fzKXzs",
        "outputId": "17fe0ffa-1e2e-40b5-f168-21f89f142267"
      },
      "execution_count": 16,
      "outputs": [
        {
          "output_type": "stream",
          "name": "stdout",
          "text": [
            "https://w7pm9dxk5y-496ff2e9c6d22116-5000-colab.googleusercontent.com/\n"
          ]
        }
      ]
    },
    {
      "cell_type": "code",
      "source": [
        "from flask import Flask, render_template, request, redirect, url_for\n",
        "import os\n",
        "app = Flask(__name__,template_folder='/content/drive/MyDrive/ml_project/templates')\n",
        "app.config['UPLOAD_FOLDER'] = '/content/drive/MyDrive/ml_project/uploads'\n",
        "os.makedirs(app.config['UPLOAD_FOLDER'], exist_ok=True)\n"
      ],
      "metadata": {
        "id": "tn9cN-JjKkpb"
      },
      "execution_count": 18,
      "outputs": []
    },
    {
      "cell_type": "code",
      "source": [
        "@app.route(\"/\", methods=[\"GET\", \"POST\"])\n",
        "def home():\n",
        "    if request.method == \"POST\":\n",
        "        # Check if the file was uploaded\n",
        "        if \"file\" not in request.files:\n",
        "            return \"No file uploaded\"\n",
        "        file = request.files[\"file\"]\n",
        "        if file.filename == \"\":\n",
        "            return \"No file selected\"\n",
        "        if file:\n",
        "            # Save the file\n",
        "            file_path = os.path.join(app.config['UPLOAD_FOLDER'], file.filename)\n",
        "            file.save(file_path)\n",
        "            # Process the file\n",
        "            result = handwritten_prediction(file_path)\n",
        "            return render_template(\"result.html\", result=result)\n",
        "    return render_template(\"index.html\")\n"
      ],
      "metadata": {
        "id": "8AgBy_YiNm7c"
      },
      "execution_count": 19,
      "outputs": []
    },
    {
      "cell_type": "code",
      "source": [
        "if __name__ == \"__main__\":\n",
        "  app.run()"
      ],
      "metadata": {
        "colab": {
          "base_uri": "https://localhost:8080/"
        },
        "id": "213_sCEbOF9G",
        "outputId": "4e28eafa-bb3e-4dca-d738-22dfb22fec45"
      },
      "execution_count": 20,
      "outputs": [
        {
          "output_type": "stream",
          "name": "stdout",
          "text": [
            " * Serving Flask app '__main__'\n",
            " * Debug mode: off\n"
          ]
        },
        {
          "output_type": "stream",
          "name": "stderr",
          "text": [
            "INFO:werkzeug:\u001b[31m\u001b[1mWARNING: This is a development server. Do not use it in a production deployment. Use a production WSGI server instead.\u001b[0m\n",
            " * Running on http://127.0.0.1:5000\n",
            "INFO:werkzeug:\u001b[33mPress CTRL+C to quit\u001b[0m\n",
            "INFO:werkzeug:127.0.0.1 - - [20/Dec/2024 19:56:47] \"GET /?authuser=0 HTTP/1.1\" 200 -\n",
            "INFO:werkzeug:127.0.0.1 - - [20/Dec/2024 19:56:48] \"\u001b[33mGET /favicon.ico?authuser=0 HTTP/1.1\u001b[0m\" 404 -\n"
          ]
        },
        {
          "output_type": "stream",
          "name": "stdout",
          "text": [
            "\u001b[1m1/1\u001b[0m \u001b[32m━━━━━━━━━━━━━━━━━━━━\u001b[0m\u001b[37m\u001b[0m \u001b[1m3s\u001b[0m 3s/step\n"
          ]
        },
        {
          "output_type": "stream",
          "name": "stderr",
          "text": [
            "INFO:werkzeug:127.0.0.1 - - [20/Dec/2024 19:57:14] \"POST /?authuser=0 HTTP/1.1\" 200 -\n",
            "INFO:werkzeug:127.0.0.1 - - [20/Dec/2024 19:57:14] \"\u001b[33mGET /favicon.ico?authuser=0 HTTP/1.1\u001b[0m\" 404 -\n",
            "INFO:werkzeug:127.0.0.1 - - [20/Dec/2024 19:57:21] \"GET /?authuser=0 HTTP/1.1\" 200 -\n",
            "INFO:werkzeug:127.0.0.1 - - [20/Dec/2024 19:57:21] \"\u001b[33mGET /favicon.ico?authuser=0 HTTP/1.1\u001b[0m\" 404 -\n"
          ]
        },
        {
          "output_type": "stream",
          "name": "stdout",
          "text": [
            "\u001b[1m1/1\u001b[0m \u001b[32m━━━━━━━━━━━━━━━━━━━━\u001b[0m\u001b[37m\u001b[0m \u001b[1m0s\u001b[0m 20ms/step\n"
          ]
        },
        {
          "output_type": "stream",
          "name": "stderr",
          "text": [
            "INFO:werkzeug:127.0.0.1 - - [20/Dec/2024 19:57:27] \"POST /?authuser=0 HTTP/1.1\" 200 -\n",
            "INFO:werkzeug:127.0.0.1 - - [20/Dec/2024 19:57:27] \"\u001b[33mGET /favicon.ico?authuser=0 HTTP/1.1\u001b[0m\" 404 -\n",
            "INFO:werkzeug:127.0.0.1 - - [20/Dec/2024 19:57:33] \"GET /?authuser=0 HTTP/1.1\" 200 -\n",
            "INFO:werkzeug:127.0.0.1 - - [20/Dec/2024 19:57:33] \"\u001b[33mGET /favicon.ico?authuser=0 HTTP/1.1\u001b[0m\" 404 -\n"
          ]
        },
        {
          "output_type": "stream",
          "name": "stdout",
          "text": [
            "\u001b[1m1/1\u001b[0m \u001b[32m━━━━━━━━━━━━━━━━━━━━\u001b[0m\u001b[37m\u001b[0m \u001b[1m0s\u001b[0m 22ms/step\n"
          ]
        },
        {
          "output_type": "stream",
          "name": "stderr",
          "text": [
            "INFO:werkzeug:127.0.0.1 - - [20/Dec/2024 19:58:41] \"POST /?authuser=0 HTTP/1.1\" 200 -\n",
            "INFO:werkzeug:127.0.0.1 - - [20/Dec/2024 19:58:42] \"\u001b[33mGET /favicon.ico?authuser=0 HTTP/1.1\u001b[0m\" 404 -\n",
            "INFO:werkzeug:127.0.0.1 - - [20/Dec/2024 19:58:43] \"GET /?authuser=0 HTTP/1.1\" 200 -\n",
            "INFO:werkzeug:127.0.0.1 - - [20/Dec/2024 19:58:43] \"\u001b[33mGET /favicon.ico?authuser=0 HTTP/1.1\u001b[0m\" 404 -\n"
          ]
        },
        {
          "output_type": "stream",
          "name": "stdout",
          "text": [
            "\u001b[1m1/1\u001b[0m \u001b[32m━━━━━━━━━━━━━━━━━━━━\u001b[0m\u001b[37m\u001b[0m \u001b[1m0s\u001b[0m 32ms/step\n"
          ]
        },
        {
          "output_type": "stream",
          "name": "stderr",
          "text": [
            "INFO:werkzeug:127.0.0.1 - - [20/Dec/2024 19:58:48] \"POST /?authuser=0 HTTP/1.1\" 200 -\n",
            "INFO:werkzeug:127.0.0.1 - - [20/Dec/2024 19:58:49] \"\u001b[33mGET /favicon.ico?authuser=0 HTTP/1.1\u001b[0m\" 404 -\n",
            "INFO:werkzeug:127.0.0.1 - - [20/Dec/2024 19:58:49] \"GET /?authuser=0 HTTP/1.1\" 200 -\n",
            "INFO:werkzeug:127.0.0.1 - - [20/Dec/2024 19:58:50] \"\u001b[33mGET /favicon.ico?authuser=0 HTTP/1.1\u001b[0m\" 404 -\n"
          ]
        },
        {
          "output_type": "stream",
          "name": "stdout",
          "text": [
            "\u001b[1m1/1\u001b[0m \u001b[32m━━━━━━━━━━━━━━━━━━━━\u001b[0m\u001b[37m\u001b[0m \u001b[1m0s\u001b[0m 20ms/step\n"
          ]
        },
        {
          "output_type": "stream",
          "name": "stderr",
          "text": [
            "INFO:werkzeug:127.0.0.1 - - [20/Dec/2024 19:59:14] \"POST /?authuser=0 HTTP/1.1\" 200 -\n",
            "INFO:werkzeug:127.0.0.1 - - [20/Dec/2024 19:59:15] \"\u001b[33mGET /favicon.ico?authuser=0 HTTP/1.1\u001b[0m\" 404 -\n",
            "INFO:werkzeug:127.0.0.1 - - [20/Dec/2024 19:59:17] \"GET /?authuser=0 HTTP/1.1\" 200 -\n",
            "INFO:werkzeug:127.0.0.1 - - [20/Dec/2024 19:59:17] \"\u001b[33mGET /favicon.ico?authuser=0 HTTP/1.1\u001b[0m\" 404 -\n"
          ]
        },
        {
          "output_type": "stream",
          "name": "stdout",
          "text": [
            "\u001b[1m1/1\u001b[0m \u001b[32m━━━━━━━━━━━━━━━━━━━━\u001b[0m\u001b[37m\u001b[0m \u001b[1m0s\u001b[0m 30ms/step\n"
          ]
        },
        {
          "output_type": "stream",
          "name": "stderr",
          "text": [
            "INFO:werkzeug:127.0.0.1 - - [20/Dec/2024 19:59:26] \"POST /?authuser=0 HTTP/1.1\" 200 -\n",
            "INFO:werkzeug:127.0.0.1 - - [20/Dec/2024 19:59:26] \"\u001b[33mGET /favicon.ico?authuser=0 HTTP/1.1\u001b[0m\" 404 -\n",
            "INFO:werkzeug:127.0.0.1 - - [20/Dec/2024 19:59:27] \"GET /?authuser=0 HTTP/1.1\" 200 -\n",
            "INFO:werkzeug:127.0.0.1 - - [20/Dec/2024 19:59:28] \"\u001b[33mGET /favicon.ico?authuser=0 HTTP/1.1\u001b[0m\" 404 -\n"
          ]
        },
        {
          "output_type": "stream",
          "name": "stdout",
          "text": [
            "\u001b[1m1/1\u001b[0m \u001b[32m━━━━━━━━━━━━━━━━━━━━\u001b[0m\u001b[37m\u001b[0m \u001b[1m0s\u001b[0m 20ms/step\n"
          ]
        },
        {
          "output_type": "stream",
          "name": "stderr",
          "text": [
            "INFO:werkzeug:127.0.0.1 - - [20/Dec/2024 19:59:33] \"POST /?authuser=0 HTTP/1.1\" 200 -\n",
            "INFO:werkzeug:127.0.0.1 - - [20/Dec/2024 19:59:34] \"\u001b[33mGET /favicon.ico?authuser=0 HTTP/1.1\u001b[0m\" 404 -\n",
            "INFO:werkzeug:127.0.0.1 - - [20/Dec/2024 19:59:35] \"GET /?authuser=0 HTTP/1.1\" 200 -\n",
            "INFO:werkzeug:127.0.0.1 - - [20/Dec/2024 19:59:36] \"\u001b[33mGET /favicon.ico?authuser=0 HTTP/1.1\u001b[0m\" 404 -\n"
          ]
        },
        {
          "output_type": "stream",
          "name": "stdout",
          "text": [
            "\u001b[1m1/1\u001b[0m \u001b[32m━━━━━━━━━━━━━━━━━━━━\u001b[0m\u001b[37m\u001b[0m \u001b[1m0s\u001b[0m 20ms/step\n"
          ]
        },
        {
          "output_type": "stream",
          "name": "stderr",
          "text": [
            "INFO:werkzeug:127.0.0.1 - - [20/Dec/2024 19:59:41] \"POST /?authuser=0 HTTP/1.1\" 200 -\n",
            "INFO:werkzeug:127.0.0.1 - - [20/Dec/2024 19:59:42] \"\u001b[33mGET /favicon.ico?authuser=0 HTTP/1.1\u001b[0m\" 404 -\n",
            "INFO:werkzeug:127.0.0.1 - - [20/Dec/2024 20:00:46] \"GET /?authuser=0 HTTP/1.1\" 200 -\n",
            "INFO:werkzeug:127.0.0.1 - - [20/Dec/2024 20:00:47] \"\u001b[33mGET /favicon.ico?authuser=0 HTTP/1.1\u001b[0m\" 404 -\n"
          ]
        },
        {
          "output_type": "stream",
          "name": "stdout",
          "text": [
            "\u001b[1m1/1\u001b[0m \u001b[32m━━━━━━━━━━━━━━━━━━━━\u001b[0m\u001b[37m\u001b[0m \u001b[1m0s\u001b[0m 36ms/step\n"
          ]
        },
        {
          "output_type": "stream",
          "name": "stderr",
          "text": [
            "INFO:werkzeug:127.0.0.1 - - [20/Dec/2024 20:00:51] \"POST /?authuser=0 HTTP/1.1\" 200 -\n",
            "INFO:werkzeug:127.0.0.1 - - [20/Dec/2024 20:00:51] \"\u001b[33mGET /favicon.ico?authuser=0 HTTP/1.1\u001b[0m\" 404 -\n",
            "INFO:werkzeug:127.0.0.1 - - [20/Dec/2024 20:01:07] \"GET /?authuser=0 HTTP/1.1\" 200 -\n",
            "INFO:werkzeug:127.0.0.1 - - [20/Dec/2024 20:01:07] \"\u001b[33mGET /favicon.ico?authuser=0 HTTP/1.1\u001b[0m\" 404 -\n"
          ]
        }
      ]
    }
  ]
}